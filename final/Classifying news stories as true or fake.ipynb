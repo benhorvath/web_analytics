{
 "cells": [
  {
   "cell_type": "markdown",
   "metadata": {},
   "source": [
    "#  Final: Classifying news stories as true or fake\n",
    "\n",
    "#### Shovan Biswas, Randy Thompson, Ben Horvath\n",
    "\n",
    "Some introductory text...\n",
    "\n",
    "Our goal is to classify whether a piece  is fake or not _based on its substantive text content only_. The dataset is carefully prepared to remove any 'hints' to the model that detract from this goal (e.g., removing datelines).\n",
    "\n",
    "The data can be downloaded from Kaggle at https://www.kaggle.com/clmentbisaillon/fake-and-real-news-dataset. It is not present in the Github repo because of its size.\n",
    "\n",
    "We make heavy use of tidyverse R functionality. Especially useful here is the `tidytext` package, which drastically simplifies the calculation of TF-IDF matrices; and the `caret` library for cross-validated modeling. Load necessary libraries:"
   ]
  },
  {
   "cell_type": "code",
   "execution_count": 136,
   "metadata": {},
   "outputs": [
    {
     "name": "stderr",
     "output_type": "stream",
     "text": [
      "Loading required package: koRpus.lang.en\n",
      "\n",
      "Loading required package: koRpus\n",
      "\n",
      "Loading required package: sylly\n",
      "\n",
      "For information on available language packages for 'koRpus', run\n",
      "\n",
      "  available.koRpus.lang()\n",
      "\n",
      "and see ?install.koRpus.lang()\n",
      "\n",
      "\n"
     ]
    }
   ],
   "source": [
    "library(caret)\n",
    "library(dplyr)\n",
    "library(ggplot2)\n",
    "library(lubridate)  # easy dates\n",
    "library(stringr)    # easy regex\n",
    "library(textstem)   # stemming, lemmatization\n",
    "library(tidytext)   # easy TF-IDF"
   ]
  },
  {
   "cell_type": "markdown",
   "metadata": {},
   "source": [
    "## Load the data\n",
    "\n",
    "The data comes seperated in two CSVs of about equal size, one for true news stories, and other for fake. We load them, assign our dependent variable $y = \\{fake, true\\}$, and combine them."
   ]
  },
  {
   "cell_type": "code",
   "execution_count": 87,
   "metadata": {},
   "outputs": [
    {
     "name": "stderr",
     "output_type": "stream",
     "text": [
      "Warning message:\n",
      "“Problem with `mutate()` input `dt`.\n",
      "\u001b[34mℹ\u001b[39m  45 failed to parse.\n",
      "\u001b[34mℹ\u001b[39m Input `dt` is `parse_date_time(dt, \"%B %d, $Y\")`.”\n",
      "Warning message:\n",
      "“ 45 failed to parse.”\n"
     ]
    },
    {
     "data": {
      "text/html": [
       "<table>\n",
       "<caption>A data.frame: 1 × 5</caption>\n",
       "<thead>\n",
       "\t<tr><th></th><th scope=col>title</th><th scope=col>text</th><th scope=col>subject</th><th scope=col>dt</th><th scope=col>y</th></tr>\n",
       "\t<tr><th></th><th scope=col>&lt;chr&gt;</th><th scope=col>&lt;chr&gt;</th><th scope=col>&lt;chr&gt;</th><th scope=col>&lt;dttm&gt;</th><th scope=col>&lt;chr&gt;</th></tr>\n",
       "</thead>\n",
       "<tbody>\n",
       "\t<tr><th scope=row>1</th><td> Donald Trump Sends Out Embarrassing New Year’s Eve Message; This is Disturbing</td><td>Donald Trump just couldn t wish all Americans a Happy New Year and leave it at that. Instead, he had to give a shout out to his enemies, haters and  the very dishonest fake news media.  The former reality show star had just one job to do and he couldn t do it. As our Country rapidly grows stronger and smarter, I want to wish all of my friends, supporters, enemies, haters, and even the very dishonest Fake News Media, a Happy and Healthy New Year,  President Angry Pants tweeted.  2018 will be a great year for America! As our Country rapidly grows stronger and smarter, I want to wish all of my friends, supporters, enemies, haters, and even the very dishonest Fake News Media, a Happy and Healthy New Year. 2018 will be a great year for America!  Donald J. Trump (@realDonaldTrump) December 31, 2017Trump s tweet went down about as welll as you d expect.What kind of president sends a New Year s greeting like this despicable, petty, infantile gibberish? Only Trump! His lack of decency won t even allow him to rise above the gutter long enough to wish the American citizens a happy new year!  Bishop Talbert Swan (@TalbertSwan) December 31, 2017no one likes you  Calvin (@calvinstowell) December 31, 2017Your impeachment would make 2018 a great year for America, but I ll also accept regaining control of Congress.  Miranda Yaver (@mirandayaver) December 31, 2017Do you hear yourself talk? When you have to include that many people that hate you you have to wonder? Why do the they all hate me?  Alan Sandoval (@AlanSandoval13) December 31, 2017Who uses the word Haters in a New Years wish??  Marlene (@marlene399) December 31, 2017You can t just say happy new year?  Koren pollitt (@Korencarpenter) December 31, 2017Here s Trump s New Year s Eve tweet from 2016.Happy New Year to all, including to my many enemies and those who have fought me and lost so badly they just don t know what to do. Love!  Donald J. Trump (@realDonaldTrump) December 31, 2016This is nothing new for Trump. He s been doing this for years.Trump has directed messages to his  enemies  and  haters  for New Year s, Easter, Thanksgiving, and the anniversary of 9/11. pic.twitter.com/4FPAe2KypA  Daniel Dale (@ddale8) December 31, 2017Trump s holiday tweets are clearly not presidential.How long did he work at Hallmark before becoming President?  Steven Goodine (@SGoodine) December 31, 2017He s always been like this . . . the only difference is that in the last few years, his filter has been breaking down.  Roy Schulze (@thbthttt) December 31, 2017Who, apart from a teenager uses the term haters?  Wendy (@WendyWhistles) December 31, 2017he s a fucking 5 year old  Who Knows (@rainyday80) December 31, 2017So, to all the people who voted for this a hole thinking he would change once he got into power, you were wrong! 70-year-old men don t change and now he s a year older.Photo by Andrew Burton/Getty Images.</td><td>News</td><td>2017-12-31</td><td>fake</td></tr>\n",
       "</tbody>\n",
       "</table>\n"
      ],
      "text/latex": [
       "A data.frame: 1 × 5\n",
       "\\begin{tabular}{r|lllll}\n",
       "  & title & text & subject & dt & y\\\\\n",
       "  & <chr> & <chr> & <chr> & <dttm> & <chr>\\\\\n",
       "\\hline\n",
       "\t1 &  Donald Trump Sends Out Embarrassing New Year’s Eve Message; This is Disturbing & Donald Trump just couldn t wish all Americans a Happy New Year and leave it at that. Instead, he had to give a shout out to his enemies, haters and  the very dishonest fake news media.  The former reality show star had just one job to do and he couldn t do it. As our Country rapidly grows stronger and smarter, I want to wish all of my friends, supporters, enemies, haters, and even the very dishonest Fake News Media, a Happy and Healthy New Year,  President Angry Pants tweeted.  2018 will be a great year for America! As our Country rapidly grows stronger and smarter, I want to wish all of my friends, supporters, enemies, haters, and even the very dishonest Fake News Media, a Happy and Healthy New Year. 2018 will be a great year for America!  Donald J. Trump (@realDonaldTrump) December 31, 2017Trump s tweet went down about as welll as you d expect.What kind of president sends a New Year s greeting like this despicable, petty, infantile gibberish? Only Trump! His lack of decency won t even allow him to rise above the gutter long enough to wish the American citizens a happy new year!  Bishop Talbert Swan (@TalbertSwan) December 31, 2017no one likes you  Calvin (@calvinstowell) December 31, 2017Your impeachment would make 2018 a great year for America, but I ll also accept regaining control of Congress.  Miranda Yaver (@mirandayaver) December 31, 2017Do you hear yourself talk? When you have to include that many people that hate you you have to wonder? Why do the they all hate me?  Alan Sandoval (@AlanSandoval13) December 31, 2017Who uses the word Haters in a New Years wish??  Marlene (@marlene399) December 31, 2017You can t just say happy new year?  Koren pollitt (@Korencarpenter) December 31, 2017Here s Trump s New Year s Eve tweet from 2016.Happy New Year to all, including to my many enemies and those who have fought me and lost so badly they just don t know what to do. Love!  Donald J. Trump (@realDonaldTrump) December 31, 2016This is nothing new for Trump. He s been doing this for years.Trump has directed messages to his  enemies  and  haters  for New Year s, Easter, Thanksgiving, and the anniversary of 9/11. pic.twitter.com/4FPAe2KypA  Daniel Dale (@ddale8) December 31, 2017Trump s holiday tweets are clearly not presidential.How long did he work at Hallmark before becoming President?  Steven Goodine (@SGoodine) December 31, 2017He s always been like this . . . the only difference is that in the last few years, his filter has been breaking down.  Roy Schulze (@thbthttt) December 31, 2017Who, apart from a teenager uses the term haters?  Wendy (@WendyWhistles) December 31, 2017he s a fucking 5 year old  Who Knows (@rainyday80) December 31, 2017So, to all the people who voted for this a hole thinking he would change once he got into power, you were wrong! 70-year-old men don t change and now he s a year older.Photo by Andrew Burton/Getty Images. & News & 2017-12-31 & fake\\\\\n",
       "\\end{tabular}\n"
      ],
      "text/markdown": [
       "\n",
       "A data.frame: 1 × 5\n",
       "\n",
       "| <!--/--> | title &lt;chr&gt; | text &lt;chr&gt; | subject &lt;chr&gt; | dt &lt;dttm&gt; | y &lt;chr&gt; |\n",
       "|---|---|---|---|---|---|\n",
       "| 1 |  Donald Trump Sends Out Embarrassing New Year’s Eve Message; This is Disturbing | Donald Trump just couldn t wish all Americans a Happy New Year and leave it at that. Instead, he had to give a shout out to his enemies, haters and  the very dishonest fake news media.  The former reality show star had just one job to do and he couldn t do it. As our Country rapidly grows stronger and smarter, I want to wish all of my friends, supporters, enemies, haters, and even the very dishonest Fake News Media, a Happy and Healthy New Year,  President Angry Pants tweeted.  2018 will be a great year for America! As our Country rapidly grows stronger and smarter, I want to wish all of my friends, supporters, enemies, haters, and even the very dishonest Fake News Media, a Happy and Healthy New Year. 2018 will be a great year for America!  Donald J. Trump (@realDonaldTrump) December 31, 2017Trump s tweet went down about as welll as you d expect.What kind of president sends a New Year s greeting like this despicable, petty, infantile gibberish? Only Trump! His lack of decency won t even allow him to rise above the gutter long enough to wish the American citizens a happy new year!  Bishop Talbert Swan (@TalbertSwan) December 31, 2017no one likes you  Calvin (@calvinstowell) December 31, 2017Your impeachment would make 2018 a great year for America, but I ll also accept regaining control of Congress.  Miranda Yaver (@mirandayaver) December 31, 2017Do you hear yourself talk? When you have to include that many people that hate you you have to wonder? Why do the they all hate me?  Alan Sandoval (@AlanSandoval13) December 31, 2017Who uses the word Haters in a New Years wish??  Marlene (@marlene399) December 31, 2017You can t just say happy new year?  Koren pollitt (@Korencarpenter) December 31, 2017Here s Trump s New Year s Eve tweet from 2016.Happy New Year to all, including to my many enemies and those who have fought me and lost so badly they just don t know what to do. Love!  Donald J. Trump (@realDonaldTrump) December 31, 2016This is nothing new for Trump. He s been doing this for years.Trump has directed messages to his  enemies  and  haters  for New Year s, Easter, Thanksgiving, and the anniversary of 9/11. pic.twitter.com/4FPAe2KypA  Daniel Dale (@ddale8) December 31, 2017Trump s holiday tweets are clearly not presidential.How long did he work at Hallmark before becoming President?  Steven Goodine (@SGoodine) December 31, 2017He s always been like this . . . the only difference is that in the last few years, his filter has been breaking down.  Roy Schulze (@thbthttt) December 31, 2017Who, apart from a teenager uses the term haters?  Wendy (@WendyWhistles) December 31, 2017he s a fucking 5 year old  Who Knows (@rainyday80) December 31, 2017So, to all the people who voted for this a hole thinking he would change once he got into power, you were wrong! 70-year-old men don t change and now he s a year older.Photo by Andrew Burton/Getty Images. | News | 2017-12-31 | fake |\n",
       "\n"
      ],
      "text/plain": [
       "  title                                                                          \n",
       "1  Donald Trump Sends Out Embarrassing New Year’s Eve Message; This is Disturbing\n",
       "  text                                                                                                                                                                                                                                                                                                                                                                                                                                                                                                                                                                                                                                                                                                                                                                                                                                                                                                                                                                                                                                                                                                                                                                                                                                                                                                                                                                                                                                                                                                                                                                                                                                                                                                                                                                                                                                                                                                                                                                                                                                                                                                                                                                                                                                                                                                                                                                                                                                                                                                                                                                                                                                                                                                                                                                                                                                                                                                                                                                                                         \n",
       "1 Donald Trump just couldn t wish all Americans a Happy New Year and leave it at that. Instead, he had to give a shout out to his enemies, haters and  the very dishonest fake news media.  The former reality show star had just one job to do and he couldn t do it. As our Country rapidly grows stronger and smarter, I want to wish all of my friends, supporters, enemies, haters, and even the very dishonest Fake News Media, a Happy and Healthy New Year,  President Angry Pants tweeted.  2018 will be a great year for America! As our Country rapidly grows stronger and smarter, I want to wish all of my friends, supporters, enemies, haters, and even the very dishonest Fake News Media, a Happy and Healthy New Year. 2018 will be a great year for America!  Donald J. Trump (@realDonaldTrump) December 31, 2017Trump s tweet went down about as welll as you d expect.What kind of president sends a New Year s greeting like this despicable, petty, infantile gibberish? Only Trump! His lack of decency won t even allow him to rise above the gutter long enough to wish the American citizens a happy new year!  Bishop Talbert Swan (@TalbertSwan) December 31, 2017no one likes you  Calvin (@calvinstowell) December 31, 2017Your impeachment would make 2018 a great year for America, but I ll also accept regaining control of Congress.  Miranda Yaver (@mirandayaver) December 31, 2017Do you hear yourself talk? When you have to include that many people that hate you you have to wonder? Why do the they all hate me?  Alan Sandoval (@AlanSandoval13) December 31, 2017Who uses the word Haters in a New Years wish??  Marlene (@marlene399) December 31, 2017You can t just say happy new year?  Koren pollitt (@Korencarpenter) December 31, 2017Here s Trump s New Year s Eve tweet from 2016.Happy New Year to all, including to my many enemies and those who have fought me and lost so badly they just don t know what to do. Love!  Donald J. Trump (@realDonaldTrump) December 31, 2016This is nothing new for Trump. He s been doing this for years.Trump has directed messages to his  enemies  and  haters  for New Year s, Easter, Thanksgiving, and the anniversary of 9/11. pic.twitter.com/4FPAe2KypA  Daniel Dale (@ddale8) December 31, 2017Trump s holiday tweets are clearly not presidential.How long did he work at Hallmark before becoming President?  Steven Goodine (@SGoodine) December 31, 2017He s always been like this . . . the only difference is that in the last few years, his filter has been breaking down.  Roy Schulze (@thbthttt) December 31, 2017Who, apart from a teenager uses the term haters?  Wendy (@WendyWhistles) December 31, 2017he s a fucking 5 year old  Who Knows (@rainyday80) December 31, 2017So, to all the people who voted for this a hole thinking he would change once he got into power, you were wrong! 70-year-old men don t change and now he s a year older.Photo by Andrew Burton/Getty Images.\n",
       "  subject dt         y   \n",
       "1 News    2017-12-31 fake"
      ]
     },
     "metadata": {},
     "output_type": "display_data"
    }
   ],
   "source": [
    "fake <- read.csv('~/Downloads/Fake.csv', stringsAsFactors=FALSE) %>%\n",
    "  mutate(y='fake')\n",
    "\n",
    "real <- read.csv('~/Downloads/True.csv', stringsAsFactors=FALSE) %>%\n",
    "  mutate(y='real')\n",
    "\n",
    "# rename date to dt to keep R happy\n",
    "df <- rbind(fake, real) %>%\n",
    "  rename(dt = 'date') %>%\n",
    "  mutate(dt = parse_date_time(dt, '%B %d, $Y'))\n",
    "\n",
    "head(df, 1)"
   ]
  },
  {
   "cell_type": "markdown",
   "metadata": {},
   "source": [
    "The dataset gives  us the title of the text, the text  itself, a classification of the news story, and the date of publishing.\n",
    "\n",
    "## Exploratory analysis\n",
    "\n",
    "Before modeling, we get to know our dataset more thoroughly. First, inspect the distribution of the dependent variable, which shows a balanced dataset."
   ]
  },
  {
   "cell_type": "code",
   "execution_count": 3,
   "metadata": {},
   "outputs": [
    {
     "data": {
      "text/plain": [
       "\n",
       " fake  real \n",
       "23481 21417 "
      ]
     },
     "metadata": {},
     "output_type": "display_data"
    }
   ],
   "source": [
    "table(df$y)"
   ]
  },
  {
   "cell_type": "code",
   "execution_count": 4,
   "metadata": {},
   "outputs": [
    {
     "data": {
      "text/plain": [
       "\n",
       "Government News       left-news     Middle-east            News        politics \n",
       "           1570            4459             778            9050            6841 \n",
       "   politicsNews         US_News       worldnews \n",
       "          11272             783           10145 "
      ]
     },
     "metadata": {},
     "output_type": "display_data"
    }
   ],
   "source": [
    "table(df$subject)"
   ]
  },
  {
   "cell_type": "markdown",
   "metadata": {},
   "source": [
    "The table below shows the distribution of subject these categories between fake and real news. We see that the fake news is labeled as either `politicsNews` or as `worldnews`, while the real news is labeled as everything else but those two. This suggests _subject should not be used as a model feature_."
   ]
  },
  {
   "cell_type": "code",
   "execution_count": 13,
   "metadata": {},
   "outputs": [
    {
     "data": {
      "text/plain": [
       "      \n",
       "       Government News  left-news Middle-east       News   politics\n",
       "  fake      0.06686257 0.18989822  0.03313317 0.38541800 0.29134194\n",
       "  real      0.00000000 0.00000000  0.00000000 0.00000000 0.00000000\n",
       "      \n",
       "       politicsNews    US_News  worldnews\n",
       "  fake   0.00000000 0.03334611 0.00000000\n",
       "  real   0.52631087 0.00000000 0.47368913"
      ]
     },
     "metadata": {},
     "output_type": "display_data"
    }
   ],
   "source": [
    "prop.table(table(df$y, df$subject), 1)"
   ]
  },
  {
   "cell_type": "code",
   "execution_count": null,
   "metadata": {},
   "outputs": [],
   "source": []
  },
  {
   "cell_type": "markdown",
   "metadata": {},
   "source": [
    "The `text` column will be ommitted in the NLP analysis because it is simply too much data for be easily computer on the present machines. However, we can still try to create simple features using regular expressions from the text. We examine a few of these below:"
   ]
  },
  {
   "cell_type": "code",
   "execution_count": 5,
   "metadata": {},
   "outputs": [
    {
     "data": {
      "text/plain": [
       "      \n",
       "            FALSE       TRUE\n",
       "  fake 0.74132277 0.25867723\n",
       "  real 0.98706635 0.01293365"
      ]
     },
     "metadata": {},
     "output_type": "display_data"
    }
   ],
   "source": [
    "# Presence of Twitter handle\n",
    "df$twitter_handle <- str_detect(df$text, '(?<!\\\\w)@[\\\\w+]{1,15}\\\\b')\n",
    "prop.table(table(df$y, df$twitter_handle), 1)"
   ]
  },
  {
   "cell_type": "markdown",
   "metadata": {},
   "source": [
    "The above shows that their is an association between the presence of a twitter handle and the reality of a news story.\n",
    "\n",
    "Below shows a slighly weaker association with profanity (using a very crude and very incomplete regex):"
   ]
  },
  {
   "cell_type": "code",
   "execution_count": 8,
   "metadata": {},
   "outputs": [
    {
     "data": {
      "text/plain": [
       "      \n",
       "             FALSE        TRUE\n",
       "  fake 0.944508326 0.055491674\n",
       "  real 0.996965028 0.003034972"
      ]
     },
     "metadata": {},
     "output_type": "display_data"
    }
   ],
   "source": [
    "PROFANITY <- 'fuck|shit|bastard|bitch|whore|goddamn'\n",
    "\n",
    "df$profanity <- str_detect( tolower(df$text), PROFANITY)\n",
    "prop.table(table(df$y, df$profanity), 1)"
   ]
  },
  {
   "cell_type": "markdown",
   "metadata": {},
   "source": [
    "Finally, we can count the number of all-caps words in the text. Interestingly, there's no real difference in the distributions. Below we will see that this is due to the presence of acronyms in real news stories, as well as dateline in all-caps, e.g., WASHINGTON (Reuters). A better solution would be to count the length (in words) of all-caps phrases which do not appear often in real news stories."
   ]
  },
  {
   "cell_type": "code",
   "execution_count": 31,
   "metadata": {},
   "outputs": [
    {
     "data": {
      "image/png": "[encoded data removed]",
      "text/plain": [
       "plot without title"
      ]
     },
     "metadata": {
      "image/png": {
       "height": 420,
       "width": 420
      }
     },
     "output_type": "display_data"
    }
   ],
   "source": [
    "ALL_CAPS <- '(\\\\b[A-Z][A-Z]+|\\\\b[A-Z]\\\\b)'\n",
    "df$all_caps <- str_count(df$text, ALL_CAPS)\n",
    "\n",
    "ggplot(df %>% filter(all_caps > 5), aes(x=y, y=all_caps)) + geom_boxplot()"
   ]
  },
  {
   "cell_type": "markdown",
   "metadata": {},
   "source": [
    "Finally, examine the distribution of fake and real news stories over time. There are no fake stories recorded until just after 2016, and following the spring of 2017 the real stories shoot up in quantity relative to the fake stories.\n",
    "\n",
    "I'm not sure, but this could suggest the optimal sample should be  restricted to Jan. 2016 through June 2017, which would be about 26 thousand samples. **I'M NOT SURE**"
   ]
  },
  {
   "cell_type": "code",
   "execution_count": 110,
   "metadata": {},
   "outputs": [
    {
     "name": "stderr",
     "output_type": "stream",
     "text": [
      "`summarise()` regrouping output by 'dt' (override with `.groups` argument)\n",
      "\n",
      "Warning message:\n",
      "“Removed 1 row(s) containing missing values (geom_path).”\n"
     ]
    },
    {
     "data": {
      "image/png": "[encoded data removed]",
      "text/plain": [
       "plot without title"
      ]
     },
     "metadata": {
      "image/png": {
       "height": 420,
       "width": 420
      }
     },
     "output_type": "display_data"
    }
   ],
   "source": [
    "df %>%\n",
    "  group_by(dt, y) %>%\n",
    "  summarise(n=n_distinct(title)) %>%\n",
    "  ggplot(aes(x=dt, y=n, colour=y)) + geom_line()"
   ]
  },
  {
   "cell_type": "markdown",
   "metadata": {},
   "source": [
    "We will perform the same operations as above on the title:"
   ]
  },
  {
   "cell_type": "code",
   "execution_count": 111,
   "metadata": {},
   "outputs": [],
   "source": [
    "df$title_twitter_handle <- str_detect(df$title, '(?<!\\\\w)@[\\\\w+]{1,15}\\\\b')\n",
    "df$title_all_caps <- str_count(df$title, ALL_CAPS)\n",
    "df$title_profanity <- str_detect( tolower(df$title), PROFANITY)"
   ]
  },
  {
   "cell_type": "markdown",
   "metadata": {},
   "source": [
    "## Data cleaning\n",
    "\n",
    "Using the story titles as IDs, there are duplicated stories. These are removed by keeping only the latest version:"
   ]
  },
  {
   "cell_type": "code",
   "execution_count": 77,
   "metadata": {},
   "outputs": [
    {
     "data": {
      "text/html": [
       "44898"
      ],
      "text/latex": [
       "44898"
      ],
      "text/markdown": [
       "44898"
      ],
      "text/plain": [
       "[1] 44898"
      ]
     },
     "metadata": {},
     "output_type": "display_data"
    },
    {
     "data": {
      "text/html": [
       "38729"
      ],
      "text/latex": [
       "38729"
      ],
      "text/markdown": [
       "38729"
      ],
      "text/plain": [
       "[1] 38729"
      ]
     },
     "metadata": {},
     "output_type": "display_data"
    }
   ],
   "source": [
    "length(df$title); length(unique(df$title))"
   ]
  },
  {
   "cell_type": "code",
   "execution_count": 78,
   "metadata": {},
   "outputs": [
    {
     "data": {
      "text/html": [
       "38688"
      ],
      "text/latex": [
       "38688"
      ],
      "text/markdown": [
       "38688"
      ],
      "text/plain": [
       "[1] 38688"
      ]
     },
     "metadata": {},
     "output_type": "display_data"
    },
    {
     "data": {
      "text/html": [
       "38688"
      ],
      "text/latex": [
       "38688"
      ],
      "text/markdown": [
       "38688"
      ],
      "text/plain": [
       "[1] 38688"
      ]
     },
     "metadata": {},
     "output_type": "display_data"
    }
   ],
   "source": [
    "df <- df %>%\n",
    "  arrange(title, desc(dt)) %>%\n",
    "  group_by(title) %>%\n",
    "  slice(which.max(dt))\n",
    "\n",
    "length(df$title); length(unique(df$title))"
   ]
  },
  {
   "cell_type": "markdown",
   "metadata": {},
   "source": [
    "All of the real news stories are from Reuters, and all Reuters news stories begin with a dateline, e.g., WASHINGTON (Rueters). These are removed by a very simple Regex that matches the beginning of the story up to the first hyphen. It appears to be effective enough. Additionally, we remove any other mentions of 'Reuters' just to be sure, and numbers:"
   ]
  },
  {
   "cell_type": "code",
   "execution_count": 158,
   "metadata": {},
   "outputs": [],
   "source": [
    "df <- df %>%\n",
    "  mutate(title = str_remove(title, '^[^\\\\-]*\\\\-\\\\s+'),\n",
    "         title = str_remove(tolower(title), 'reuters'),\n",
    "         title = str_remove(title, '[0-9]+'))"
   ]
  },
  {
   "cell_type": "markdown",
   "metadata": {},
   "source": [
    "Often, at this point in NLP process, we normally remove punctuation and a list of stop words. However, it may be that there are differences in punctuations and stop words between fake and real news. We thus retain them.\n",
    "\n",
    "### Tokenize\n",
    "\n",
    "However, we will be conducting other stemming, requiring tokenization. Recall that  we are concerned only with the title for now:"
   ]
  },
  {
   "cell_type": "code",
   "execution_count": 159,
   "metadata": {},
   "outputs": [
    {
     "data": {
      "text/html": [
       "<table>\n",
       "<caption>A data.frame: 6 × 3</caption>\n",
       "<thead>\n",
       "\t<tr><th></th><th scope=col>y</th><th scope=col>title</th><th scope=col>word</th></tr>\n",
       "\t<tr><th></th><th scope=col>&lt;chr&gt;</th><th scope=col>&lt;chr&gt;</th><th scope=col>&lt;chr&gt;</th></tr>\n",
       "</thead>\n",
       "<tbody>\n",
       "\t<tr><th scope=row>1</th><td>fake</td><td> donald trump sends out embarrassing new year’s eve message; this is disturbing</td><td>donald      </td></tr>\n",
       "\t<tr><th scope=row>1.1</th><td>fake</td><td> donald trump sends out embarrassing new year’s eve message; this is disturbing</td><td>trump       </td></tr>\n",
       "\t<tr><th scope=row>1.2</th><td>fake</td><td> donald trump sends out embarrassing new year’s eve message; this is disturbing</td><td>sends       </td></tr>\n",
       "\t<tr><th scope=row>1.3</th><td>fake</td><td> donald trump sends out embarrassing new year’s eve message; this is disturbing</td><td>out         </td></tr>\n",
       "\t<tr><th scope=row>1.4</th><td>fake</td><td> donald trump sends out embarrassing new year’s eve message; this is disturbing</td><td>embarrassing</td></tr>\n",
       "\t<tr><th scope=row>1.5</th><td>fake</td><td> donald trump sends out embarrassing new year’s eve message; this is disturbing</td><td>new         </td></tr>\n",
       "</tbody>\n",
       "</table>\n"
      ],
      "text/latex": [
       "A data.frame: 6 × 3\n",
       "\\begin{tabular}{r|lll}\n",
       "  & y & title & word\\\\\n",
       "  & <chr> & <chr> & <chr>\\\\\n",
       "\\hline\n",
       "\t1 & fake &  donald trump sends out embarrassing new year’s eve message; this is disturbing & donald      \\\\\n",
       "\t1.1 & fake &  donald trump sends out embarrassing new year’s eve message; this is disturbing & trump       \\\\\n",
       "\t1.2 & fake &  donald trump sends out embarrassing new year’s eve message; this is disturbing & sends       \\\\\n",
       "\t1.3 & fake &  donald trump sends out embarrassing new year’s eve message; this is disturbing & out         \\\\\n",
       "\t1.4 & fake &  donald trump sends out embarrassing new year’s eve message; this is disturbing & embarrassing\\\\\n",
       "\t1.5 & fake &  donald trump sends out embarrassing new year’s eve message; this is disturbing & new         \\\\\n",
       "\\end{tabular}\n"
      ],
      "text/markdown": [
       "\n",
       "A data.frame: 6 × 3\n",
       "\n",
       "| <!--/--> | y &lt;chr&gt; | title &lt;chr&gt; | word &lt;chr&gt; |\n",
       "|---|---|---|---|\n",
       "| 1 | fake |  donald trump sends out embarrassing new year’s eve message; this is disturbing | donald       |\n",
       "| 1.1 | fake |  donald trump sends out embarrassing new year’s eve message; this is disturbing | trump        |\n",
       "| 1.2 | fake |  donald trump sends out embarrassing new year’s eve message; this is disturbing | sends        |\n",
       "| 1.3 | fake |  donald trump sends out embarrassing new year’s eve message; this is disturbing | out          |\n",
       "| 1.4 | fake |  donald trump sends out embarrassing new year’s eve message; this is disturbing | embarrassing |\n",
       "| 1.5 | fake |  donald trump sends out embarrassing new year’s eve message; this is disturbing | new          |\n",
       "\n"
      ],
      "text/plain": [
       "    y   \n",
       "1   fake\n",
       "1.1 fake\n",
       "1.2 fake\n",
       "1.3 fake\n",
       "1.4 fake\n",
       "1.5 fake\n",
       "    title                                                                          \n",
       "1    donald trump sends out embarrassing new year’s eve message; this is disturbing\n",
       "1.1  donald trump sends out embarrassing new year’s eve message; this is disturbing\n",
       "1.2  donald trump sends out embarrassing new year’s eve message; this is disturbing\n",
       "1.3  donald trump sends out embarrassing new year’s eve message; this is disturbing\n",
       "1.4  donald trump sends out embarrassing new year’s eve message; this is disturbing\n",
       "1.5  donald trump sends out embarrassing new year’s eve message; this is disturbing\n",
       "    word        \n",
       "1   donald      \n",
       "1.1 trump       \n",
       "1.2 sends       \n",
       "1.3 out         \n",
       "1.4 embarrassing\n",
       "1.5 new         "
      ]
     },
     "metadata": {},
     "output_type": "display_data"
    }
   ],
   "source": [
    "tokens <- df %>%\n",
    "  select(y, title) %>%\n",
    "  unnest_tokens(word, title, drop=FALSE)\n",
    "\n",
    "head(tokens)"
   ]
  },
  {
   "cell_type": "markdown",
   "metadata": {},
   "source": [
    "### Stemming\n",
    "\n",
    "We will, of course, conduct stemming on the title, using the `textstem` library, which uses a stemmer based on the `libstemmer` C library developed in the early 2000s."
   ]
  },
  {
   "cell_type": "code",
   "execution_count": 160,
   "metadata": {},
   "outputs": [
    {
     "data": {
      "text/html": [
       "<table>\n",
       "<caption>A data.frame: 6 × 4</caption>\n",
       "<thead>\n",
       "\t<tr><th></th><th scope=col>y</th><th scope=col>title</th><th scope=col>word</th><th scope=col>stemmed</th></tr>\n",
       "\t<tr><th></th><th scope=col>&lt;chr&gt;</th><th scope=col>&lt;chr&gt;</th><th scope=col>&lt;chr&gt;</th><th scope=col>&lt;chr&gt;</th></tr>\n",
       "</thead>\n",
       "<tbody>\n",
       "\t<tr><th scope=row>1</th><td>fake</td><td> donald trump sends out embarrassing new year’s eve message; this is disturbing</td><td>donald      </td><td>donald   </td></tr>\n",
       "\t<tr><th scope=row>2</th><td>fake</td><td> donald trump sends out embarrassing new year’s eve message; this is disturbing</td><td>trump       </td><td>trump    </td></tr>\n",
       "\t<tr><th scope=row>3</th><td>fake</td><td> donald trump sends out embarrassing new year’s eve message; this is disturbing</td><td>sends       </td><td>send     </td></tr>\n",
       "\t<tr><th scope=row>4</th><td>fake</td><td> donald trump sends out embarrassing new year’s eve message; this is disturbing</td><td>out         </td><td>out      </td></tr>\n",
       "\t<tr><th scope=row>5</th><td>fake</td><td> donald trump sends out embarrassing new year’s eve message; this is disturbing</td><td>embarrassing</td><td>embarrass</td></tr>\n",
       "\t<tr><th scope=row>6</th><td>fake</td><td> donald trump sends out embarrassing new year’s eve message; this is disturbing</td><td>new         </td><td>new      </td></tr>\n",
       "</tbody>\n",
       "</table>\n"
      ],
      "text/latex": [
       "A data.frame: 6 × 4\n",
       "\\begin{tabular}{r|llll}\n",
       "  & y & title & word & stemmed\\\\\n",
       "  & <chr> & <chr> & <chr> & <chr>\\\\\n",
       "\\hline\n",
       "\t1 & fake &  donald trump sends out embarrassing new year’s eve message; this is disturbing & donald       & donald   \\\\\n",
       "\t2 & fake &  donald trump sends out embarrassing new year’s eve message; this is disturbing & trump        & trump    \\\\\n",
       "\t3 & fake &  donald trump sends out embarrassing new year’s eve message; this is disturbing & sends        & send     \\\\\n",
       "\t4 & fake &  donald trump sends out embarrassing new year’s eve message; this is disturbing & out          & out      \\\\\n",
       "\t5 & fake &  donald trump sends out embarrassing new year’s eve message; this is disturbing & embarrassing & embarrass\\\\\n",
       "\t6 & fake &  donald trump sends out embarrassing new year’s eve message; this is disturbing & new          & new      \\\\\n",
       "\\end{tabular}\n"
      ],
      "text/markdown": [
       "\n",
       "A data.frame: 6 × 4\n",
       "\n",
       "| <!--/--> | y &lt;chr&gt; | title &lt;chr&gt; | word &lt;chr&gt; | stemmed &lt;chr&gt; |\n",
       "|---|---|---|---|---|\n",
       "| 1 | fake |  donald trump sends out embarrassing new year’s eve message; this is disturbing | donald       | donald    |\n",
       "| 2 | fake |  donald trump sends out embarrassing new year’s eve message; this is disturbing | trump        | trump     |\n",
       "| 3 | fake |  donald trump sends out embarrassing new year’s eve message; this is disturbing | sends        | send      |\n",
       "| 4 | fake |  donald trump sends out embarrassing new year’s eve message; this is disturbing | out          | out       |\n",
       "| 5 | fake |  donald trump sends out embarrassing new year’s eve message; this is disturbing | embarrassing | embarrass |\n",
       "| 6 | fake |  donald trump sends out embarrassing new year’s eve message; this is disturbing | new          | new       |\n",
       "\n"
      ],
      "text/plain": [
       "  y   \n",
       "1 fake\n",
       "2 fake\n",
       "3 fake\n",
       "4 fake\n",
       "5 fake\n",
       "6 fake\n",
       "  title                                                                          \n",
       "1  donald trump sends out embarrassing new year’s eve message; this is disturbing\n",
       "2  donald trump sends out embarrassing new year’s eve message; this is disturbing\n",
       "3  donald trump sends out embarrassing new year’s eve message; this is disturbing\n",
       "4  donald trump sends out embarrassing new year’s eve message; this is disturbing\n",
       "5  donald trump sends out embarrassing new year’s eve message; this is disturbing\n",
       "6  donald trump sends out embarrassing new year’s eve message; this is disturbing\n",
       "  word         stemmed  \n",
       "1 donald       donald   \n",
       "2 trump        trump    \n",
       "3 sends        send     \n",
       "4 out          out      \n",
       "5 embarrassing embarrass\n",
       "6 new          new      "
      ]
     },
     "metadata": {},
     "output_type": "display_data"
    }
   ],
   "source": [
    "stems <- tokens %>%\n",
    "  mutate(stemmed = stem_words(word))\n",
    "\n",
    "head(stems)"
   ]
  },
  {
   "cell_type": "markdown",
   "metadata": {},
   "source": [
    "###  Lemmatize\n",
    "\n",
    "Next, we clean up the tokens further by lemmatization, again using the `textstem` library:"
   ]
  },
  {
   "cell_type": "code",
   "execution_count": 161,
   "metadata": {},
   "outputs": [
    {
     "data": {
      "text/html": [
       "<table>\n",
       "<caption>A data.frame: 6 × 5</caption>\n",
       "<thead>\n",
       "\t<tr><th></th><th scope=col>y</th><th scope=col>title</th><th scope=col>word</th><th scope=col>stemmed</th><th scope=col>lemma</th></tr>\n",
       "\t<tr><th></th><th scope=col>&lt;chr&gt;</th><th scope=col>&lt;chr&gt;</th><th scope=col>&lt;chr&gt;</th><th scope=col>&lt;chr&gt;</th><th scope=col>&lt;chr&gt;</th></tr>\n",
       "</thead>\n",
       "<tbody>\n",
       "\t<tr><th scope=row>1</th><td>fake</td><td> donald trump sends out embarrassing new year’s eve message; this is disturbing</td><td>donald      </td><td>donald   </td><td>donald   </td></tr>\n",
       "\t<tr><th scope=row>2</th><td>fake</td><td> donald trump sends out embarrassing new year’s eve message; this is disturbing</td><td>trump       </td><td>trump    </td><td>trump    </td></tr>\n",
       "\t<tr><th scope=row>3</th><td>fake</td><td> donald trump sends out embarrassing new year’s eve message; this is disturbing</td><td>sends       </td><td>send     </td><td>send     </td></tr>\n",
       "\t<tr><th scope=row>4</th><td>fake</td><td> donald trump sends out embarrassing new year’s eve message; this is disturbing</td><td>out         </td><td>out      </td><td>out      </td></tr>\n",
       "\t<tr><th scope=row>5</th><td>fake</td><td> donald trump sends out embarrassing new year’s eve message; this is disturbing</td><td>embarrassing</td><td>embarrass</td><td>embarrass</td></tr>\n",
       "\t<tr><th scope=row>6</th><td>fake</td><td> donald trump sends out embarrassing new year’s eve message; this is disturbing</td><td>new         </td><td>new      </td><td>new      </td></tr>\n",
       "</tbody>\n",
       "</table>\n"
      ],
      "text/latex": [
       "A data.frame: 6 × 5\n",
       "\\begin{tabular}{r|lllll}\n",
       "  & y & title & word & stemmed & lemma\\\\\n",
       "  & <chr> & <chr> & <chr> & <chr> & <chr>\\\\\n",
       "\\hline\n",
       "\t1 & fake &  donald trump sends out embarrassing new year’s eve message; this is disturbing & donald       & donald    & donald   \\\\\n",
       "\t2 & fake &  donald trump sends out embarrassing new year’s eve message; this is disturbing & trump        & trump     & trump    \\\\\n",
       "\t3 & fake &  donald trump sends out embarrassing new year’s eve message; this is disturbing & sends        & send      & send     \\\\\n",
       "\t4 & fake &  donald trump sends out embarrassing new year’s eve message; this is disturbing & out          & out       & out      \\\\\n",
       "\t5 & fake &  donald trump sends out embarrassing new year’s eve message; this is disturbing & embarrassing & embarrass & embarrass\\\\\n",
       "\t6 & fake &  donald trump sends out embarrassing new year’s eve message; this is disturbing & new          & new       & new      \\\\\n",
       "\\end{tabular}\n"
      ],
      "text/markdown": [
       "\n",
       "A data.frame: 6 × 5\n",
       "\n",
       "| <!--/--> | y &lt;chr&gt; | title &lt;chr&gt; | word &lt;chr&gt; | stemmed &lt;chr&gt; | lemma &lt;chr&gt; |\n",
       "|---|---|---|---|---|---|\n",
       "| 1 | fake |  donald trump sends out embarrassing new year’s eve message; this is disturbing | donald       | donald    | donald    |\n",
       "| 2 | fake |  donald trump sends out embarrassing new year’s eve message; this is disturbing | trump        | trump     | trump     |\n",
       "| 3 | fake |  donald trump sends out embarrassing new year’s eve message; this is disturbing | sends        | send      | send      |\n",
       "| 4 | fake |  donald trump sends out embarrassing new year’s eve message; this is disturbing | out          | out       | out       |\n",
       "| 5 | fake |  donald trump sends out embarrassing new year’s eve message; this is disturbing | embarrassing | embarrass | embarrass |\n",
       "| 6 | fake |  donald trump sends out embarrassing new year’s eve message; this is disturbing | new          | new       | new       |\n",
       "\n"
      ],
      "text/plain": [
       "  y   \n",
       "1 fake\n",
       "2 fake\n",
       "3 fake\n",
       "4 fake\n",
       "5 fake\n",
       "6 fake\n",
       "  title                                                                          \n",
       "1  donald trump sends out embarrassing new year’s eve message; this is disturbing\n",
       "2  donald trump sends out embarrassing new year’s eve message; this is disturbing\n",
       "3  donald trump sends out embarrassing new year’s eve message; this is disturbing\n",
       "4  donald trump sends out embarrassing new year’s eve message; this is disturbing\n",
       "5  donald trump sends out embarrassing new year’s eve message; this is disturbing\n",
       "6  donald trump sends out embarrassing new year’s eve message; this is disturbing\n",
       "  word         stemmed   lemma    \n",
       "1 donald       donald    donald   \n",
       "2 trump        trump     trump    \n",
       "3 sends        send      send     \n",
       "4 out          out       out      \n",
       "5 embarrassing embarrass embarrass\n",
       "6 new          new       new      "
      ]
     },
     "metadata": {},
     "output_type": "display_data"
    }
   ],
   "source": [
    "lemmas <- stems %>%\n",
    "  mutate(lemma = lemmatize_words(stemmed))\n",
    "\n",
    "head(lemmas)"
   ]
  },
  {
   "cell_type": "markdown",
   "metadata": {},
   "source": [
    "## Feature engineering\n",
    "\n",
    "**ADD ADDITIONAL FEATURES HERE, INCORPORATE FROM ABOVE?**\n",
    "\n",
    "Now we  calculate TF-IDF. Those scores and all other features are incorporated to a data frame called `X` for later machine learning."
   ]
  },
  {
   "cell_type": "code",
   "execution_count": 183,
   "metadata": {},
   "outputs": [
    {
     "data": {
      "text/html": [
       "<table>\n",
       "<caption>A data.frame: 6 × 4</caption>\n",
       "<thead>\n",
       "\t<tr><th></th><th scope=col>title</th><th scope=col>y</th><th scope=col>lemma</th><th scope=col>n</th></tr>\n",
       "\t<tr><th></th><th scope=col>&lt;chr&gt;</th><th scope=col>&lt;chr&gt;</th><th scope=col>&lt;chr&gt;</th><th scope=col>&lt;int&gt;</th></tr>\n",
       "</thead>\n",
       "<tbody>\n",
       "\t<tr><th scope=row>1</th><td>sources                                                                      </td><td>real</td><td>sourc    </td><td>31</td></tr>\n",
       "\t<tr><th scope=row>2</th><td>highlights: the trump presidency on april  at :30 p.m. edt/0130 gmt on friday</td><td>real</td><td>on       </td><td>16</td></tr>\n",
       "\t<tr><th scope=row>3</th><td>factbox: trump fills top jobs for his administration                         </td><td>real</td><td>administr</td><td>14</td></tr>\n",
       "\t<tr><th scope=row>4</th><td>factbox: trump fills top jobs for his administration                         </td><td>real</td><td>factbox  </td><td>14</td></tr>\n",
       "\t<tr><th scope=row>5</th><td>factbox: trump fills top jobs for his administration                         </td><td>real</td><td>fill     </td><td>14</td></tr>\n",
       "\t<tr><th scope=row>6</th><td>factbox: trump fills top jobs for his administration                         </td><td>real</td><td>for      </td><td>14</td></tr>\n",
       "</tbody>\n",
       "</table>\n"
      ],
      "text/latex": [
       "A data.frame: 6 × 4\n",
       "\\begin{tabular}{r|llll}\n",
       "  & title & y & lemma & n\\\\\n",
       "  & <chr> & <chr> & <chr> & <int>\\\\\n",
       "\\hline\n",
       "\t1 & sources                                                                       & real & sourc     & 31\\\\\n",
       "\t2 & highlights: the trump presidency on april  at :30 p.m. edt/0130 gmt on friday & real & on        & 16\\\\\n",
       "\t3 & factbox: trump fills top jobs for his administration                          & real & administr & 14\\\\\n",
       "\t4 & factbox: trump fills top jobs for his administration                          & real & factbox   & 14\\\\\n",
       "\t5 & factbox: trump fills top jobs for his administration                          & real & fill      & 14\\\\\n",
       "\t6 & factbox: trump fills top jobs for his administration                          & real & for       & 14\\\\\n",
       "\\end{tabular}\n"
      ],
      "text/markdown": [
       "\n",
       "A data.frame: 6 × 4\n",
       "\n",
       "| <!--/--> | title &lt;chr&gt; | y &lt;chr&gt; | lemma &lt;chr&gt; | n &lt;int&gt; |\n",
       "|---|---|---|---|---|\n",
       "| 1 | sources                                                                       | real | sourc     | 31 |\n",
       "| 2 | highlights: the trump presidency on april  at :30 p.m. edt/0130 gmt on friday | real | on        | 16 |\n",
       "| 3 | factbox: trump fills top jobs for his administration                          | real | administr | 14 |\n",
       "| 4 | factbox: trump fills top jobs for his administration                          | real | factbox   | 14 |\n",
       "| 5 | factbox: trump fills top jobs for his administration                          | real | fill      | 14 |\n",
       "| 6 | factbox: trump fills top jobs for his administration                          | real | for       | 14 |\n",
       "\n"
      ],
      "text/plain": [
       "  title                                                                        \n",
       "1 sources                                                                      \n",
       "2 highlights: the trump presidency on april  at :30 p.m. edt/0130 gmt on friday\n",
       "3 factbox: trump fills top jobs for his administration                         \n",
       "4 factbox: trump fills top jobs for his administration                         \n",
       "5 factbox: trump fills top jobs for his administration                         \n",
       "6 factbox: trump fills top jobs for his administration                         \n",
       "  y    lemma     n \n",
       "1 real sourc     31\n",
       "2 real on        16\n",
       "3 real administr 14\n",
       "4 real factbox   14\n",
       "5 real fill      14\n",
       "6 real for       14"
      ]
     },
     "metadata": {},
     "output_type": "display_data"
    }
   ],
   "source": [
    "token_count <- lemmas %>%\n",
    "  count(title, y, lemma, sort=TRUE) %>%\n",
    "  ungroup()\n",
    "head(token_count)"
   ]
  },
  {
   "cell_type": "code",
   "execution_count": 184,
   "metadata": {},
   "outputs": [
    {
     "data": {
      "text/html": [
       "<table>\n",
       "<caption>A grouped_df: 6 × 3</caption>\n",
       "<thead>\n",
       "\t<tr><th scope=col>title</th><th scope=col>y</th><th scope=col>total</th></tr>\n",
       "\t<tr><th scope=col>&lt;chr&gt;</th><th scope=col>&lt;chr&gt;</th><th scope=col>&lt;int&gt;</th></tr>\n",
       "</thead>\n",
       "<tbody>\n",
       "\t<tr><td>\n",
       "\n",
       "\n",
       "\n",
       "\n",
       "\n",
       "\n",
       "donald trump gets his a** handed to him by a -year-old girl (video)\n",
       "\n",
       "\n",
       "\n",
       "\n",
       "\n",
       "\n",
       "                                   </td><td>fake</td><td>14</td></tr>\n",
       "\t<tr><td>\n",
       "\n",
       "\n",
       "\n",
       "\n",
       "\n",
       "\n",
       "ex-gop congressman shreds fellow republicans for not ‘howling’ for trump’s impeachment (video)\n",
       "\n",
       "\n",
       "\n",
       "\n",
       "\n",
       "\n",
       "        </td><td>fake</td><td>13</td></tr>\n",
       "\t<tr><td>\n",
       "\n",
       "\n",
       "\n",
       "\n",
       "\n",
       "\n",
       "trump gets stomped for whining about president obama using air force one on campaign trail\n",
       "\n",
       "\n",
       "\n",
       "\n",
       "\n",
       "\n",
       "            </td><td>fake</td><td>15</td></tr>\n",
       "\t<tr><td>\n",
       "\n",
       "\n",
       "\n",
       "\n",
       "\n",
       "\n",
       "watch: democratic rep delivers scathing rebuke of trumpcare bill to thunderous applause on house floor\n",
       "\n",
       "\n",
       "\n",
       "\n",
       "\n",
       "\n",
       "</td><td>fake</td><td>15</td></tr>\n",
       "\t<tr><td>  amazingly racist and bigoted things trump supporters actually believe (video)                                                   </td><td>fake</td><td>10</td></tr>\n",
       "\t<tr><td>  broke a new climate change record and it’s bad news for the planet                                                              </td><td>fake</td><td>13</td></tr>\n",
       "</tbody>\n",
       "</table>\n"
      ],
      "text/latex": [
       "A grouped\\_df: 6 × 3\n",
       "\\begin{tabular}{lll}\n",
       " title & y & total\\\\\n",
       " <chr> & <chr> & <int>\\\\\n",
       "\\hline\n",
       "\t \n",
       "\n",
       "\n",
       "\n",
       "\n",
       "\n",
       "\n",
       "donald trump gets his a** handed to him by a -year-old girl (video)\n",
       "\n",
       "\n",
       "\n",
       "\n",
       "\n",
       "\n",
       "                                    & fake & 14\\\\\n",
       "\t \n",
       "\n",
       "\n",
       "\n",
       "\n",
       "\n",
       "\n",
       "ex-gop congressman shreds fellow republicans for not ‘howling’ for trump’s impeachment (video)\n",
       "\n",
       "\n",
       "\n",
       "\n",
       "\n",
       "\n",
       "         & fake & 13\\\\\n",
       "\t \n",
       "\n",
       "\n",
       "\n",
       "\n",
       "\n",
       "\n",
       "trump gets stomped for whining about president obama using air force one on campaign trail\n",
       "\n",
       "\n",
       "\n",
       "\n",
       "\n",
       "\n",
       "             & fake & 15\\\\\n",
       "\t \n",
       "\n",
       "\n",
       "\n",
       "\n",
       "\n",
       "\n",
       "watch: democratic rep delivers scathing rebuke of trumpcare bill to thunderous applause on house floor\n",
       "\n",
       "\n",
       "\n",
       "\n",
       "\n",
       "\n",
       " & fake & 15\\\\\n",
       "\t   amazingly racist and bigoted things trump supporters actually believe (video)                                                    & fake & 10\\\\\n",
       "\t   broke a new climate change record and it’s bad news for the planet                                                               & fake & 13\\\\\n",
       "\\end{tabular}\n"
      ],
      "text/markdown": [
       "\n",
       "A grouped_df: 6 × 3\n",
       "\n",
       "| title &lt;chr&gt; | y &lt;chr&gt; | total &lt;int&gt; |\n",
       "|---|---|---|\n",
       "| \n",
       "\n",
       "\n",
       "\n",
       "\n",
       "\n",
       "\n",
       "donald trump gets his a** handed to him by a -year-old girl (video)\n",
       "\n",
       "\n",
       "\n",
       "\n",
       "\n",
       "\n",
       "                                    | fake | 14 |\n",
       "| \n",
       "\n",
       "\n",
       "\n",
       "\n",
       "\n",
       "\n",
       "ex-gop congressman shreds fellow republicans for not ‘howling’ for trump’s impeachment (video)\n",
       "\n",
       "\n",
       "\n",
       "\n",
       "\n",
       "\n",
       "         | fake | 13 |\n",
       "| \n",
       "\n",
       "\n",
       "\n",
       "\n",
       "\n",
       "\n",
       "trump gets stomped for whining about president obama using air force one on campaign trail\n",
       "\n",
       "\n",
       "\n",
       "\n",
       "\n",
       "\n",
       "             | fake | 15 |\n",
       "| \n",
       "\n",
       "\n",
       "\n",
       "\n",
       "\n",
       "\n",
       "watch: democratic rep delivers scathing rebuke of trumpcare bill to thunderous applause on house floor\n",
       "\n",
       "\n",
       "\n",
       "\n",
       "\n",
       "\n",
       " | fake | 15 |\n",
       "|   amazingly racist and bigoted things trump supporters actually believe (video)                                                    | fake | 10 |\n",
       "|   broke a new climate change record and it’s bad news for the planet                                                               | fake | 13 |\n",
       "\n"
      ],
      "text/plain": [
       "  title                                                                                                                             \n",
       "1 \\n\\n\\n\\n\\n\\n\\ndonald trump gets his a** handed to him by a -year-old girl (video)\\n\\n\\n\\n\\n\\n\\n                                   \n",
       "2 \\n\\n\\n\\n\\n\\n\\nex-gop congressman shreds fellow republicans for not ‘howling’ for trump’s impeachment (video)\\n\\n\\n\\n\\n\\n\\n        \n",
       "3 \\n\\n\\n\\n\\n\\n\\ntrump gets stomped for whining about president obama using air force one on campaign trail\\n\\n\\n\\n\\n\\n\\n            \n",
       "4 \\n\\n\\n\\n\\n\\n\\nwatch: democratic rep delivers scathing rebuke of trumpcare bill to thunderous applause on house floor\\n\\n\\n\\n\\n\\n\\n\n",
       "5   amazingly racist and bigoted things trump supporters actually believe (video)                                                   \n",
       "6   broke a new climate change record and it’s bad news for the planet                                                              \n",
       "  y    total\n",
       "1 fake 14   \n",
       "2 fake 13   \n",
       "3 fake 15   \n",
       "4 fake 15   \n",
       "5 fake 10   \n",
       "6 fake 13   "
      ]
     },
     "metadata": {},
     "output_type": "display_data"
    }
   ],
   "source": [
    "total_words <- token_count %>%\n",
    "  group_by(title, y) %>%\n",
    "  summarise(total = sum(n), .groups='keep')\n",
    "head(total_words)"
   ]
  },
  {
   "cell_type": "code",
   "execution_count": 243,
   "metadata": {},
   "outputs": [
    {
     "data": {
      "text/html": [
       "<table>\n",
       "<caption>A data.frame: 6 × 7</caption>\n",
       "<thead>\n",
       "\t<tr><th></th><th scope=col>title</th><th scope=col>y</th><th scope=col>lemma</th><th scope=col>n</th><th scope=col>tf</th><th scope=col>idf</th><th scope=col>tf_idf</th></tr>\n",
       "\t<tr><th></th><th scope=col>&lt;chr&gt;</th><th scope=col>&lt;chr&gt;</th><th scope=col>&lt;chr&gt;</th><th scope=col>&lt;int&gt;</th><th scope=col>&lt;dbl&gt;</th><th scope=col>&lt;dbl&gt;</th><th scope=col>&lt;dbl&gt;</th></tr>\n",
       "</thead>\n",
       "<tbody>\n",
       "\t<tr><th scope=row>1</th><td>sources                                                                      </td><td>real</td><td>sourc    </td><td>31</td><td>1.0000000</td><td>4.590911</td><td>4.5909108</td></tr>\n",
       "\t<tr><th scope=row>2</th><td>highlights: the trump presidency on april  at :30 p.m. edt/0130 gmt on friday</td><td>real</td><td>on       </td><td>16</td><td>0.1428571</td><td>1.839756</td><td>0.2628222</td></tr>\n",
       "\t<tr><th scope=row>3</th><td>factbox: trump fills top jobs for his administration                         </td><td>real</td><td>administr</td><td>14</td><td>0.1250000</td><td>5.065004</td><td>0.6331256</td></tr>\n",
       "\t<tr><th scope=row>4</th><td>factbox: trump fills top jobs for his administration                         </td><td>real</td><td>factbox  </td><td>14</td><td>0.1250000</td><td>4.990019</td><td>0.6237523</td></tr>\n",
       "\t<tr><th scope=row>5</th><td>factbox: trump fills top jobs for his administration                         </td><td>real</td><td>fill     </td><td>14</td><td>0.1250000</td><td>6.733531</td><td>0.8416914</td></tr>\n",
       "\t<tr><th scope=row>6</th><td>factbox: trump fills top jobs for his administration                         </td><td>real</td><td>for      </td><td>14</td><td>0.1250000</td><td>1.853698</td><td>0.2317123</td></tr>\n",
       "</tbody>\n",
       "</table>\n"
      ],
      "text/latex": [
       "A data.frame: 6 × 7\n",
       "\\begin{tabular}{r|lllllll}\n",
       "  & title & y & lemma & n & tf & idf & tf\\_idf\\\\\n",
       "  & <chr> & <chr> & <chr> & <int> & <dbl> & <dbl> & <dbl>\\\\\n",
       "\\hline\n",
       "\t1 & sources                                                                       & real & sourc     & 31 & 1.0000000 & 4.590911 & 4.5909108\\\\\n",
       "\t2 & highlights: the trump presidency on april  at :30 p.m. edt/0130 gmt on friday & real & on        & 16 & 0.1428571 & 1.839756 & 0.2628222\\\\\n",
       "\t3 & factbox: trump fills top jobs for his administration                          & real & administr & 14 & 0.1250000 & 5.065004 & 0.6331256\\\\\n",
       "\t4 & factbox: trump fills top jobs for his administration                          & real & factbox   & 14 & 0.1250000 & 4.990019 & 0.6237523\\\\\n",
       "\t5 & factbox: trump fills top jobs for his administration                          & real & fill      & 14 & 0.1250000 & 6.733531 & 0.8416914\\\\\n",
       "\t6 & factbox: trump fills top jobs for his administration                          & real & for       & 14 & 0.1250000 & 1.853698 & 0.2317123\\\\\n",
       "\\end{tabular}\n"
      ],
      "text/markdown": [
       "\n",
       "A data.frame: 6 × 7\n",
       "\n",
       "| <!--/--> | title &lt;chr&gt; | y &lt;chr&gt; | lemma &lt;chr&gt; | n &lt;int&gt; | tf &lt;dbl&gt; | idf &lt;dbl&gt; | tf_idf &lt;dbl&gt; |\n",
       "|---|---|---|---|---|---|---|---|\n",
       "| 1 | sources                                                                       | real | sourc     | 31 | 1.0000000 | 4.590911 | 4.5909108 |\n",
       "| 2 | highlights: the trump presidency on april  at :30 p.m. edt/0130 gmt on friday | real | on        | 16 | 0.1428571 | 1.839756 | 0.2628222 |\n",
       "| 3 | factbox: trump fills top jobs for his administration                          | real | administr | 14 | 0.1250000 | 5.065004 | 0.6331256 |\n",
       "| 4 | factbox: trump fills top jobs for his administration                          | real | factbox   | 14 | 0.1250000 | 4.990019 | 0.6237523 |\n",
       "| 5 | factbox: trump fills top jobs for his administration                          | real | fill      | 14 | 0.1250000 | 6.733531 | 0.8416914 |\n",
       "| 6 | factbox: trump fills top jobs for his administration                          | real | for       | 14 | 0.1250000 | 1.853698 | 0.2317123 |\n",
       "\n"
      ],
      "text/plain": [
       "  title                                                                        \n",
       "1 sources                                                                      \n",
       "2 highlights: the trump presidency on april  at :30 p.m. edt/0130 gmt on friday\n",
       "3 factbox: trump fills top jobs for his administration                         \n",
       "4 factbox: trump fills top jobs for his administration                         \n",
       "5 factbox: trump fills top jobs for his administration                         \n",
       "6 factbox: trump fills top jobs for his administration                         \n",
       "  y    lemma     n  tf        idf      tf_idf   \n",
       "1 real sourc     31 1.0000000 4.590911 4.5909108\n",
       "2 real on        16 0.1428571 1.839756 0.2628222\n",
       "3 real administr 14 0.1250000 5.065004 0.6331256\n",
       "4 real factbox   14 0.1250000 4.990019 0.6237523\n",
       "5 real fill      14 0.1250000 6.733531 0.8416914\n",
       "6 real for       14 0.1250000 1.853698 0.2317123"
      ]
     },
     "metadata": {},
     "output_type": "display_data"
    }
   ],
   "source": [
    "token_count <- token_count %>%\n",
    "  bind_tf_idf(lemma, title, n)\n",
    "\n",
    "# Remove tokens with less than 10 instances\n",
    "tc <- token_count %>%\n",
    "  group_by(lemma) %>%\n",
    "  summarise(n=sum(n), .groups='keep') %>%\n",
    "  filter(n > 10)\n",
    "\n",
    "token_count <- token_count %>%\n",
    "  filter(lemma %in% tc$lemma)\n",
    "\n",
    "head(token_count)"
   ]
  },
  {
   "cell_type": "code",
   "execution_count": 244,
   "metadata": {},
   "outputs": [],
   "source": [
    "# Make into a wide, tidy data frame for machine learning\n",
    "X <- token_count %>%\n",
    "  select(title, y, lemma, tf_idf) %>% \n",
    "  filter(lemma != 'title',\n",
    "         lemma != 'y') %>%  # remove because I'm already using 'title' and 'y'\n",
    "  unique %>%\n",
    "  tidyr::spread(lemma, tf_idf) %>%\n",
    "  janitor::clean_names() %>%  # VERY HANDY FUNCTION!\n",
    "  replace(is.na(.), 0) %>%\n",
    "  select(!contains('_2'))"
   ]
  },
  {
   "cell_type": "code",
   "execution_count": 245,
   "metadata": {},
   "outputs": [
    {
     "data": {
      "text/html": [
       "<style>\n",
       ".list-inline {list-style: none; margin:0; padding: 0}\n",
       ".list-inline>li {display: inline-block}\n",
       ".list-inline>li:not(:last-child)::after {content: \"\\00b7\"; padding: 0 .5ex}\n",
       "</style>\n",
       "<ol class=list-inline><li>38638</li><li>4158</li></ol>\n"
      ],
      "text/latex": [
       "\\begin{enumerate*}\n",
       "\\item 38638\n",
       "\\item 4158\n",
       "\\end{enumerate*}\n"
      ],
      "text/markdown": [
       "1. 38638\n",
       "2. 4158\n",
       "\n",
       "\n"
      ],
      "text/plain": [
       "[1] 38638  4158"
      ]
     },
     "metadata": {},
     "output_type": "display_data"
    },
    {
     "data": {
      "text/html": [
       "<table>\n",
       "<caption>A data.frame: 6 × 6</caption>\n",
       "<thead>\n",
       "\t<tr><th></th><th scope=col>title</th><th scope=col>y</th><th scope=col>challeng</th><th scope=col>collin</th><th scope=col>conwai</th><th scope=col>defeat</th></tr>\n",
       "\t<tr><th></th><th scope=col>&lt;chr&gt;</th><th scope=col>&lt;chr&gt;</th><th scope=col>&lt;dbl&gt;</th><th scope=col>&lt;dbl&gt;</th><th scope=col>&lt;dbl&gt;</th><th scope=col>&lt;dbl&gt;</th></tr>\n",
       "</thead>\n",
       "<tbody>\n",
       "\t<tr><th scope=row>1</th><td>\n",
       "\n",
       "\n",
       "\n",
       "\n",
       "\n",
       "\n",
       "donald trump gets his a** handed to him by a -year-old girl (video)\n",
       "\n",
       "\n",
       "\n",
       "\n",
       "\n",
       "\n",
       "                                   </td><td>fake</td><td>0</td><td>0</td><td>0</td><td>0</td></tr>\n",
       "\t<tr><th scope=row>2</th><td>\n",
       "\n",
       "\n",
       "\n",
       "\n",
       "\n",
       "\n",
       "ex-gop congressman shreds fellow republicans for not ‘howling’ for trump’s impeachment (video)\n",
       "\n",
       "\n",
       "\n",
       "\n",
       "\n",
       "\n",
       "        </td><td>fake</td><td>0</td><td>0</td><td>0</td><td>0</td></tr>\n",
       "\t<tr><th scope=row>3</th><td>\n",
       "\n",
       "\n",
       "\n",
       "\n",
       "\n",
       "\n",
       "trump gets stomped for whining about president obama using air force one on campaign trail\n",
       "\n",
       "\n",
       "\n",
       "\n",
       "\n",
       "\n",
       "            </td><td>fake</td><td>0</td><td>0</td><td>0</td><td>0</td></tr>\n",
       "\t<tr><th scope=row>4</th><td>\n",
       "\n",
       "\n",
       "\n",
       "\n",
       "\n",
       "\n",
       "watch: democratic rep delivers scathing rebuke of trumpcare bill to thunderous applause on house floor\n",
       "\n",
       "\n",
       "\n",
       "\n",
       "\n",
       "\n",
       "</td><td>fake</td><td>0</td><td>0</td><td>0</td><td>0</td></tr>\n",
       "\t<tr><th scope=row>5</th><td>  amazingly racist and bigoted things trump supporters actually believe (video)                                                   </td><td>fake</td><td>0</td><td>0</td><td>0</td><td>0</td></tr>\n",
       "\t<tr><th scope=row>6</th><td>  broke a new climate change record and it’s bad news for the planet                                                              </td><td>fake</td><td>0</td><td>0</td><td>0</td><td>0</td></tr>\n",
       "</tbody>\n",
       "</table>\n"
      ],
      "text/latex": [
       "A data.frame: 6 × 6\n",
       "\\begin{tabular}{r|llllll}\n",
       "  & title & y & challeng & collin & conwai & defeat\\\\\n",
       "  & <chr> & <chr> & <dbl> & <dbl> & <dbl> & <dbl>\\\\\n",
       "\\hline\n",
       "\t1 & \n",
       "\n",
       "\n",
       "\n",
       "\n",
       "\n",
       "\n",
       "donald trump gets his a** handed to him by a -year-old girl (video)\n",
       "\n",
       "\n",
       "\n",
       "\n",
       "\n",
       "\n",
       "                                    & fake & 0 & 0 & 0 & 0\\\\\n",
       "\t2 & \n",
       "\n",
       "\n",
       "\n",
       "\n",
       "\n",
       "\n",
       "ex-gop congressman shreds fellow republicans for not ‘howling’ for trump’s impeachment (video)\n",
       "\n",
       "\n",
       "\n",
       "\n",
       "\n",
       "\n",
       "         & fake & 0 & 0 & 0 & 0\\\\\n",
       "\t3 & \n",
       "\n",
       "\n",
       "\n",
       "\n",
       "\n",
       "\n",
       "trump gets stomped for whining about president obama using air force one on campaign trail\n",
       "\n",
       "\n",
       "\n",
       "\n",
       "\n",
       "\n",
       "             & fake & 0 & 0 & 0 & 0\\\\\n",
       "\t4 & \n",
       "\n",
       "\n",
       "\n",
       "\n",
       "\n",
       "\n",
       "watch: democratic rep delivers scathing rebuke of trumpcare bill to thunderous applause on house floor\n",
       "\n",
       "\n",
       "\n",
       "\n",
       "\n",
       "\n",
       " & fake & 0 & 0 & 0 & 0\\\\\n",
       "\t5 &   amazingly racist and bigoted things trump supporters actually believe (video)                                                    & fake & 0 & 0 & 0 & 0\\\\\n",
       "\t6 &   broke a new climate change record and it’s bad news for the planet                                                               & fake & 0 & 0 & 0 & 0\\\\\n",
       "\\end{tabular}\n"
      ],
      "text/markdown": [
       "\n",
       "A data.frame: 6 × 6\n",
       "\n",
       "| <!--/--> | title &lt;chr&gt; | y &lt;chr&gt; | challeng &lt;dbl&gt; | collin &lt;dbl&gt; | conwai &lt;dbl&gt; | defeat &lt;dbl&gt; |\n",
       "|---|---|---|---|---|---|---|\n",
       "| 1 | \n",
       "\n",
       "\n",
       "\n",
       "\n",
       "\n",
       "\n",
       "donald trump gets his a** handed to him by a -year-old girl (video)\n",
       "\n",
       "\n",
       "\n",
       "\n",
       "\n",
       "\n",
       "                                    | fake | 0 | 0 | 0 | 0 |\n",
       "| 2 | \n",
       "\n",
       "\n",
       "\n",
       "\n",
       "\n",
       "\n",
       "ex-gop congressman shreds fellow republicans for not ‘howling’ for trump’s impeachment (video)\n",
       "\n",
       "\n",
       "\n",
       "\n",
       "\n",
       "\n",
       "         | fake | 0 | 0 | 0 | 0 |\n",
       "| 3 | \n",
       "\n",
       "\n",
       "\n",
       "\n",
       "\n",
       "\n",
       "trump gets stomped for whining about president obama using air force one on campaign trail\n",
       "\n",
       "\n",
       "\n",
       "\n",
       "\n",
       "\n",
       "             | fake | 0 | 0 | 0 | 0 |\n",
       "| 4 | \n",
       "\n",
       "\n",
       "\n",
       "\n",
       "\n",
       "\n",
       "watch: democratic rep delivers scathing rebuke of trumpcare bill to thunderous applause on house floor\n",
       "\n",
       "\n",
       "\n",
       "\n",
       "\n",
       "\n",
       " | fake | 0 | 0 | 0 | 0 |\n",
       "| 5 |   amazingly racist and bigoted things trump supporters actually believe (video)                                                    | fake | 0 | 0 | 0 | 0 |\n",
       "| 6 |   broke a new climate change record and it’s bad news for the planet                                                               | fake | 0 | 0 | 0 | 0 |\n",
       "\n"
      ],
      "text/plain": [
       "  title                                                                                                                             \n",
       "1 \\n\\n\\n\\n\\n\\n\\ndonald trump gets his a** handed to him by a -year-old girl (video)\\n\\n\\n\\n\\n\\n\\n                                   \n",
       "2 \\n\\n\\n\\n\\n\\n\\nex-gop congressman shreds fellow republicans for not ‘howling’ for trump’s impeachment (video)\\n\\n\\n\\n\\n\\n\\n        \n",
       "3 \\n\\n\\n\\n\\n\\n\\ntrump gets stomped for whining about president obama using air force one on campaign trail\\n\\n\\n\\n\\n\\n\\n            \n",
       "4 \\n\\n\\n\\n\\n\\n\\nwatch: democratic rep delivers scathing rebuke of trumpcare bill to thunderous applause on house floor\\n\\n\\n\\n\\n\\n\\n\n",
       "5   amazingly racist and bigoted things trump supporters actually believe (video)                                                   \n",
       "6   broke a new climate change record and it’s bad news for the planet                                                              \n",
       "  y    challeng collin conwai defeat\n",
       "1 fake 0        0      0      0     \n",
       "2 fake 0        0      0      0     \n",
       "3 fake 0        0      0      0     \n",
       "4 fake 0        0      0      0     \n",
       "5 fake 0        0      0      0     \n",
       "6 fake 0        0      0      0     "
      ]
     },
     "metadata": {},
     "output_type": "display_data"
    },
    {
     "data": {
      "text/plain": [
       "\n",
       "     fake      real \n",
       "0.4632745 0.5367255 "
      ]
     },
     "metadata": {},
     "output_type": "display_data"
    }
   ],
   "source": [
    "dim(X)\n",
    "head(X[, c(1,2,601, 709, 804, 945)])\n",
    "prop.table(table(X$y))"
   ]
  },
  {
   "cell_type": "markdown",
   "metadata": {},
   "source": [
    "Our final TF-IDF matrix has almost 39,000 articles (rows), 4156 token TF-IDF scores (columns), and a reasonably balanced distribution of fake and real news.\n",
    "\n",
    "**ADD ADDITIONAL FEATURES HERE!**"
   ]
  },
  {
   "cell_type": "markdown",
   "metadata": {},
   "source": [
    "## Modeling\n",
    "\n",
    "With almost 14,000 potential variable, we would like to drop those to a more reasonable set. First, remove low variance using the ratio of a variable's unique values to its sample size. By default, `nearZeroVar` suggests all the variables have sparse variancel; this is fixed by modifying the default value for `uniqueCut`:"
   ]
  },
  {
   "cell_type": "code",
   "execution_count": null,
   "metadata": {},
   "outputs": [],
   "source": []
  },
  {
   "cell_type": "code",
   "execution_count": 269,
   "metadata": {},
   "outputs": [
    {
     "name": "stdout",
     "output_type": "stream",
     "text": [
      "   [1]    3    4    6    7    8   10   11   12   13   14   15   16   17   18\n",
      "  [15]   19   22   23   24   25   26   28   29   30   31   32   33   34   35\n",
      "  [29]   36   37   38   40   41   42   43   46   50   52   53   54   55   56\n",
      "  [43]   57   58   59   60   61   62   64   65   66   67   68   69   70   71\n",
      "  [57]   72   73   74   75   76   77   78   79   80   81   82   83   84   89\n",
      "  [71]   92   93   94   96   97   98  100  101  103  104  105  106  107  108\n",
      "  [85]  109  110  111  112  113  114  115  116  117  118  120  122  123  125\n",
      "  [99]  126  127  128  129  131  132  133  134  135  136  137  138  139  140\n",
      " [113]  141  142  143  144  147  148  150  151  152  153  154  155  156  157\n",
      " [127]  159  160  161  162  163  164  165  167  168  169  171  172  176  179\n",
      " [141]  181  182  183  184  185  186  187  188  189  190  191  192  193  195\n",
      " [155]  196  197  199  200  201  202  204  206  207  208  209  210  211  212\n",
      " [169]  213  214  215  216  217  221  223  224  225  226  227  228  229  230\n",
      " [183]  231  232  234  235  236  237  238  240  241  242  243  244  245  246\n",
      " [197]  247  248  250  251  252  253  256  257  261  262  263  264  265  266\n",
      " [211]  268  269  270  271  272  274  275  277  278  279  280  283  284  285\n",
      " [225]  286  288  289  290  291  292  293  294  295  296  297  298  299  300\n",
      " [239]  301  302  303  305  307  308  310  311  312  314  316  317  318  319\n",
      " [253]  320  321  322  323  324  325  326  327  328  329  330  331  333  334\n",
      " [267]  335  337  338  340  342  343  344  347  348  349  350  351  353  354\n",
      " [281]  355  356  358  359  360  362  363  364  365  367  368  369  370  371\n",
      " [295]  372  373  374  375  376  377  378  379  380  383  384  385  386  388\n",
      " [309]  390  391  392  393  394  395  396  397  398  399  400  401  403  404\n",
      " [323]  405  407  409  410  411  412  413  414  415  417  418  419  420  421\n",
      " [337]  422  423  425  426  427  428  429  430  432  433  434  435  436  438\n",
      " [351]  440  441  442  445  446  448  449  450  451  452  453  454  455  456\n",
      " [365]  457  458  460  461  462  463  464  465  466  467  468  469  471  472\n",
      " [379]  473  474  475  476  477  478  479  480  481  483  484  486  487  488\n",
      " [393]  490  491  492  494  495  496  500  501  502  503  504  505  506  507\n",
      " [407]  511  514  515  517  518  519  520  521  522  523  524  525  527  528\n",
      " [421]  529  530  531  532  534  535  537  539  540  541  542  543  545  546\n",
      " [435]  547  548  549  550  551  553  554  556  557  558  559  560  561  562\n",
      " [449]  563  564  565  567  568  569  570  571  572  573  575  576  577  578\n",
      " [463]  579  580  581  582  583  584  586  587  588  589  590  591  593  594\n",
      " [477]  595  596  597  598  600  601  602  603  604  606  607  608  610  611\n",
      " [491]  612  613  614  615  616  617  618  619  620  621  622  623  624  625\n",
      " [505]  626  628  631  632  633  635  636  637  638  639  640  641  644  646\n",
      " [519]  647  648  651  653  654  655  657  658  659  660  661  662  664  665\n",
      " [533]  666  667  668  669  670  671  672  673  675  676  679  680  681  682\n",
      " [547]  683  684  685  686  687  688  689  690  692  693  694  695  696  697\n",
      " [561]  698  699  700  701  702  703  704  705  706  707  709  710  711  712\n",
      " [575]  713  714  715  716  718  719  720  722  723  724  725  727  728  729\n",
      " [589]  730  731  733  734  738  739  740  741  742  743  744  745  746  747\n",
      " [603]  748  749  750  751  752  753  754  755  756  757  758  759  760  761\n",
      " [617]  762  764  765  766  767  768  769  771  773  774  775  776  777  778\n",
      " [631]  780  781  782  783  784  785  786  787  788  789  790  791  793  794\n",
      " [645]  795  796  798  799  800  801  802  803  804  805  806  807  808  809\n",
      " [659]  811  812  813  814  815  816  817  819  820  821  822  823  824  825\n",
      " [673]  826  827  828  830  831  832  833  834  836  837  838  839  840  841\n",
      " [687]  842  843  844  845  847  848  849  850  851  852  853  854  855  856\n",
      " [701]  857  858  863  866  868  869  870  871  872  874  875  876  877  878\n",
      " [715]  879  880  881  882  883  884  886  887  888  889  890  891  894  895\n",
      " [729]  897  898  899  900  901  902  903  904  905  906  907  908  909  910\n",
      " [743]  912  913  915  917  918  920  921  924  925  926  927  928  929  930\n",
      " [757]  931  932  935  936  937  938  939  940  941  942  943  944  945  946\n",
      " [771]  947  950  951  952  953  954  955  956  957  958  959  960  961  962\n",
      " [785]  964  965  966  967  970  972  973  975  976  977  978  979  980  981\n",
      " [799]  982  983  984  986  987  988  989  990  991  992  993  994  995  996\n",
      " [813]  997  998  999 1001 1003 1004 1005 1006 1007 1009 1010 1011 1012 1013\n",
      " [827] 1014 1015 1017 1018 1019 1020 1021 1024 1025 1026 1027 1028 1029 1030\n",
      " [841] 1031 1032 1033 1034 1035 1037 1038 1039 1040 1041 1042 1043 1044 1045\n",
      " [855] 1046 1047 1048 1049 1050 1051 1052 1053 1054 1055 1057 1058 1059 1060\n",
      " [869] 1061 1062 1063 1064 1066 1067 1068 1069 1070 1071 1072 1073 1074 1075\n",
      " [883] 1076 1079 1080 1081 1082 1083 1085 1087 1090 1091 1092 1093 1097 1099\n",
      " [897] 1100 1101 1102 1104 1106 1107 1108 1109 1110 1111 1112 1113 1114 1115\n",
      " [911] 1116 1117 1118 1119 1120 1121 1122 1124 1125 1126 1127 1128 1129 1130\n",
      " [925] 1131 1132 1134 1135 1136 1137 1138 1140 1141 1142 1143 1144 1145 1146\n",
      " [939] 1147 1148 1149 1150 1151 1152 1153 1154 1155 1156 1157 1158 1159 1160\n",
      " [953] 1161 1162 1163 1165 1166 1167 1168 1169 1170 1171 1174 1175 1176 1177\n",
      " [967] 1178 1179 1180 1181 1183 1185 1186 1188 1189 1190 1191 1192 1193 1195\n",
      " [981] 1196 1197 1198 1199 1201 1203 1204 1205 1206 1207 1208 1209 1210 1211\n",
      " [995] 1212 1213 1214 1215 1216 1217 1218 1219 1221 1222 1223 1224 1225 1226\n",
      "[1009] 1227 1228 1229 1230 1231 1232 1233 1234 1235 1236 1237 1238 1240 1242\n",
      "[1023] 1243 1244 1245 1246 1249 1251 1252 1253 1254 1255 1256 1258 1259 1261\n",
      "[1037] 1262 1263 1264 1265 1266 1267 1268 1269 1270 1271 1272 1273 1274 1275\n",
      "[1051] 1276 1277 1278 1279 1280 1281 1282 1283 1284 1286 1287 1288 1289 1291\n",
      "[1065] 1292 1293 1294 1295 1296 1297 1298 1299 1300 1303 1306 1307 1308 1310\n",
      "[1079] 1311 1312 1314 1316 1318 1320 1322 1323 1325 1326 1327 1328 1329 1330\n",
      "[1093] 1331 1332 1333 1334 1335 1337 1338 1339 1341 1342 1343 1345 1346 1347\n",
      "[1107] 1352 1353 1354 1355 1357 1358 1359 1360 1361 1362 1363 1364 1365 1367\n",
      "[1121] 1368 1369 1370 1371 1372 1374 1375 1377 1378 1379 1380 1381 1383 1384\n",
      "[1135] 1386 1387 1388 1389 1390 1391 1392 1394 1395 1396 1398 1399 1400 1401\n",
      "[1149] 1402 1403 1404 1405 1406 1407 1408 1410 1411 1412 1413 1414 1415 1416\n",
      "[1163] 1417 1418 1420 1421 1422 1423 1424 1427 1428 1431 1432 1434 1435 1436\n",
      "[1177] 1437 1438 1439 1440 1441 1443 1444 1445 1446 1447 1448 1450 1451 1454\n",
      "[1191] 1455 1456 1457 1458 1460 1461 1463 1464 1465 1466 1467 1468 1469 1470\n",
      "[1205] 1471 1472 1474 1475 1476 1477 1478 1479 1480 1483 1484 1485 1486 1488\n",
      "[1219] 1489 1491 1492 1493 1494 1495 1496 1497 1498 1499 1501 1502 1503 1505\n",
      "[1233] 1506 1509 1510 1512 1513 1514 1515 1516 1517 1519 1520 1521 1523 1524\n",
      "[1247] 1525 1527 1528 1529 1530 1532 1535 1536 1537 1538 1540 1542 1543 1545\n",
      "[1261] 1546 1547 1548 1549 1550 1551 1554 1555 1556 1557 1558 1559 1560 1561\n",
      "[1275] 1562 1563 1565 1566 1567 1568 1569 1570 1571 1572 1574 1575 1576 1577\n",
      "[1289] 1578 1579 1580 1581 1582 1583 1584 1585 1586 1587 1589 1590 1591 1592\n",
      "[1303] 1593 1594 1595 1596 1598 1599 1600 1601 1602 1603 1605 1606 1607 1608\n",
      "[1317] 1611 1612 1613 1614 1615 1616 1617 1618 1619 1620 1621 1623 1625 1626\n",
      "[1331] 1627 1629 1630 1631 1632 1634 1635 1636 1637 1638 1639 1640 1641 1642\n",
      "[1345] 1643 1644 1646 1647 1648 1650 1651 1652 1653 1656 1657 1659 1661 1663\n",
      "[1359] 1664 1665 1666 1667 1668 1669 1670 1671 1672 1673 1677 1678 1681 1682\n",
      "[1373] 1683 1684 1687 1688 1689 1690 1691 1693 1698 1700 1702 1703 1706 1707\n",
      "[1387] 1709 1710 1711 1712 1713 1715 1717 1718 1719 1720 1721 1722 1723 1724\n",
      "[1401] 1726 1728 1729 1730 1731 1734 1735 1736 1740 1741 1743 1744 1745 1746\n",
      "[1415] 1747 1748 1749 1751 1752 1754 1755 1756 1757 1758 1759 1760 1761 1762\n",
      "[1429] 1764 1766 1767 1769 1770 1772 1773 1775 1776 1777 1778 1779 1780 1781\n",
      "[1443] 1782 1783 1784 1785 1787 1789 1791 1792 1794 1795 1796 1798 1799 1800\n",
      "[1457] 1801 1802 1803 1804 1805 1806 1807 1808 1809 1810 1812 1814 1815 1817\n",
      "[1471] 1818 1819 1820 1821 1822 1823 1824 1825 1826 1827 1828 1829 1830 1831\n",
      "[1485] 1832 1833 1835 1836 1837 1838 1839 1840 1842 1843 1844 1845 1846 1849\n",
      "[1499] 1850 1851 1852 1853 1854 1855 1856 1857 1858 1859 1860 1861 1862 1863\n",
      "[1513] 1864 1865 1866 1867 1869 1870 1872 1874 1875 1876 1877 1878 1880 1882\n",
      "[1527] 1883 1884 1885 1886 1888 1890 1891 1892 1893 1894 1895 1896 1899 1900\n",
      "[1541] 1902 1903 1904 1905 1909 1910 1911 1912 1913 1914 1915 1916 1917 1918\n",
      "[1555] 1919 1921 1923 1924 1925 1926 1927 1928 1929 1930 1931 1933 1934 1935\n",
      "[1569] 1936 1937 1938 1939 1940 1941 1942 1943 1944 1945 1946 1947 1948 1949\n",
      "[1583] 1951 1952 1954 1955 1957 1959 1961 1962 1963 1964 1967 1969 1970 1971\n",
      "[1597] 1972 1973 1974 1975 1976 1979 1981 1982 1983 1984 1985 1986 1987 1988\n",
      "[1611] 1989 1990 1993 1995 1996 1997 1998 1999 2000 2001 2002 2003 2004 2005\n",
      "[1625] 2006 2008 2009 2011 2012 2013 2014 2015 2017 2018 2019 2020 2021 2022\n",
      "[1639] 2023 2024 2025 2026 2028 2029 2031 2032 2033 2034 2035 2036 2037 2038\n",
      "[1653] 2039 2040 2041 2042 2044 2045 2046 2047 2048 2049 2050 2051 2052 2053\n",
      "[1667] 2054 2055 2056 2057 2058 2059 2060 2061 2062 2063 2065 2067 2068 2069\n",
      "[1681] 2070 2072 2073 2074 2075 2076 2077 2078 2080 2082 2083 2084 2086 2089\n",
      "[1695] 2090 2092 2093 2094 2097 2098 2099 2100 2101 2102 2104 2105 2107 2108\n",
      "[1709] 2109 2110 2111 2112 2113 2114 2117 2118 2119 2120 2121 2122 2124 2125\n",
      "[1723] 2127 2128 2129 2130 2131 2132 2135 2138 2139 2140 2141 2142 2144 2146\n",
      "[1737] 2147 2149 2151 2152 2153 2154 2155 2156 2157 2158 2159 2160 2161 2162\n",
      "[1751] 2163 2164 2166 2167 2168 2170 2171 2173 2174 2175 2176 2177 2179 2180\n",
      "[1765] 2182 2183 2184 2185 2186 2189 2190 2191 2192 2193 2194 2195 2196 2198\n",
      "[1779] 2200 2201 2202 2203 2204 2205 2206 2207 2208 2209 2210 2212 2213 2215\n",
      "[1793] 2218 2219 2220 2221 2222 2223 2224 2225 2227 2228 2229 2230 2231 2232\n",
      "[1807] 2233 2234 2235 2236 2237 2239 2240 2241 2242 2245 2246 2247 2248 2249\n",
      "[1821] 2250 2251 2252 2253 2254 2256 2257 2258 2259 2260 2261 2263 2264 2265\n",
      "[1835] 2266 2269 2270 2272 2273 2274 2275 2276 2277 2278 2279 2280 2283 2284\n",
      "[1849] 2287 2288 2290 2291 2292 2293 2294 2295 2296 2297 2298 2299 2301 2303\n",
      "[1863] 2304 2305 2306 2309 2310 2311 2313 2314 2316 2317 2318 2319 2321 2322\n",
      "[1877] 2323 2325 2326 2327 2328 2329 2330 2331 2332 2334 2335 2336 2337 2338\n",
      "[1891] 2339 2340 2341 2342 2343 2344 2345 2346 2347 2348 2349 2350 2351 2352\n",
      "[1905] 2353 2354 2355 2356 2358 2360 2361 2362 2363 2364 2365 2366 2367 2368\n",
      "[1919] 2370 2371 2373 2374 2375 2376 2377 2379 2380 2381 2383 2384 2385 2386\n",
      "[1933] 2387 2388 2389 2390 2391 2393 2394 2395 2396 2397 2398 2400 2401 2402\n",
      "[1947] 2403 2406 2407 2408 2409 2410 2411 2412 2413 2415 2416 2420 2421 2422\n",
      "[1961] 2423 2424 2425 2426 2428 2429 2430 2431 2432 2434 2435 2436 2437 2438\n",
      "[1975] 2441 2443 2444 2445 2446 2447 2448 2450 2451 2452 2453 2454 2455 2456\n",
      "[1989] 2457 2458 2460 2461 2463 2465 2466 2467 2468 2471 2472 2473 2474 2475\n",
      "[2003] 2476 2477 2478 2479 2481 2482 2483 2484 2485 2487 2488 2489 2490 2492\n",
      "[2017] 2493 2494 2495 2497 2498 2500 2502 2503 2504 2506 2507 2509 2510 2512\n",
      "[2031] 2513 2514 2515 2517 2518 2519 2520 2521 2523 2527 2528 2529 2530 2531\n",
      "[2045] 2533 2534 2535 2536 2537 2538 2539 2540 2541 2544 2545 2549 2550 2551\n",
      "[2059] 2552 2553 2554 2555 2556 2558 2559 2561 2563 2564 2566 2568 2570 2571\n",
      "[2073] 2572 2573 2574 2575 2576 2577 2578 2579 2581 2583 2585 2586 2587 2588\n",
      "[2087] 2590 2592 2594 2595 2596 2598 2599 2600 2601 2603 2604 2605 2606 2607\n",
      "[2101] 2608 2609 2612 2613 2614 2615 2616 2617 2618 2619 2620 2621 2623 2624\n",
      "[2115] 2625 2626 2627 2628 2629 2630 2631 2632 2633 2634 2635 2636 2637 2638\n",
      "[2129] 2639 2640 2642 2643 2644 2645 2646 2649 2650 2651 2652 2653 2655 2656\n",
      "[2143] 2657 2658 2659 2660 2661 2662 2663 2664 2666 2668 2669 2670 2671 2672\n",
      "[2157] 2674 2675 2676 2677 2678 2679 2680 2681 2682 2683 2684 2685 2686 2687\n",
      "[2171] 2689 2690 2691 2692 2693 2694 2696 2697 2698 2699 2700 2701 2702 2703\n",
      "[2185] 2705 2706 2707 2708 2709 2710 2711 2712 2713 2714 2715 2716 2717 2719\n",
      "[2199] 2720 2721 2722 2724 2725 2726 2727 2728 2729 2730 2731 2732 2733 2734\n",
      "[2213] 2735 2736 2741 2742 2744 2745 2746 2747 2748 2749 2750 2751 2752 2753\n",
      "[2227] 2754 2755 2757 2758 2761 2763 2764 2765 2767 2768 2769 2770 2771 2772\n",
      "[2241] 2774 2775 2776 2777 2778 2779 2781 2783 2784 2785 2786 2787 2788 2789\n",
      "[2255] 2790 2791 2793 2794 2795 2797 2798 2799 2800 2801 2802 2803 2804 2805\n",
      "[2269] 2806 2807 2808 2809 2811 2814 2815 2816 2817 2818 2819 2820 2821 2822\n",
      "[2283] 2823 2824 2825 2826 2827 2828 2829 2830 2831 2833 2835 2836 2838 2839\n",
      "[2297] 2841 2842 2843 2844 2845 2846 2848 2849 2850 2851 2852 2853 2855 2856\n",
      "[2311] 2857 2859 2860 2861 2862 2863 2864 2865 2866 2869 2870 2871 2873 2874\n",
      "[2325] 2875 2876 2877 2879 2882 2884 2886 2887 2888 2889 2890 2891 2892 2893\n",
      "[2339] 2897 2898 2899 2900 2901 2902 2903 2904 2906 2907 2908 2909 2910 2911\n",
      "[2353] 2912 2913 2915 2916 2920 2921 2922 2923 2924 2925 2926 2928 2929 2931\n",
      "[2367] 2932 2933 2934 2935 2936 2937 2938 2939 2940 2942 2943 2944 2945 2947\n",
      "[2381] 2948 2949 2951 2952 2953 2954 2955 2957 2959 2960 2962 2963 2964 2965\n",
      "[2395] 2966 2967 2968 2969 2970 2971 2972 2973 2974 2975 2977 2978 2979 2980\n",
      "[2409] 2981 2982 2983 2984 2985 2986 2987 2988 2989 2991 2993 2994 2995 2996\n",
      "[2423] 2997 2998 2999 3000 3001 3002 3003 3004 3005 3006 3007 3008 3010 3012\n",
      "[2437] 3013 3016 3018 3019 3020 3021 3023 3024 3025 3026 3028 3030 3031 3032\n",
      "[2451] 3034 3035 3036 3037 3038 3039 3040 3041 3042 3043 3044 3045 3046 3047\n",
      "[2465] 3048 3049 3050 3053 3054 3055 3056 3057 3058 3059 3061 3062 3063 3064\n",
      "[2479] 3065 3066 3067 3068 3069 3071 3072 3073 3074 3075 3076 3077 3078 3079\n",
      "[2493] 3080 3081 3082 3083 3084 3085 3086 3087 3089 3090 3091 3092 3093 3094\n",
      "[2507] 3095 3096 3097 3099 3100 3102 3103 3104 3105 3106 3107 3108 3109 3110\n",
      "[2521] 3111 3112 3113 3114 3115 3117 3118 3119 3120 3121 3123 3124 3125 3126\n",
      "[2535] 3128 3129 3131 3132 3133 3134 3135 3136 3137 3138 3139 3140 3141 3142\n",
      "[2549] 3143 3144 3145 3147 3149 3150 3152 3155 3156 3157 3158 3159 3160 3161\n",
      "[2563] 3162 3164 3165 3166 3167 3168 3169 3170 3172 3173 3174 3177 3178 3179\n",
      "[2577] 3180 3181 3182 3184 3187 3188 3189 3190 3191 3193 3194 3195 3196 3197\n",
      "[2591] 3198 3199 3200 3201 3202 3204 3205 3206 3207 3208 3209 3210 3211 3212\n",
      "[2605] 3213 3214 3215 3216 3217 3219 3220 3221 3222 3223 3224 3225 3226 3227\n",
      "[2619] 3228 3229 3230 3231 3232 3234 3236 3237 3238 3241 3242 3243 3244 3245\n",
      "[2633] 3246 3247 3248 3249 3251 3252 3254 3257 3258 3259 3260 3261 3262 3263\n",
      "[2647] 3264 3265 3266 3267 3268 3269 3270 3274 3275 3276 3277 3278 3281 3282\n",
      "[2661] 3283 3285 3286 3287 3288 3289 3290 3292 3294 3295 3296 3297 3298 3300\n",
      "[2675] 3301 3302 3303 3304 3305 3307 3308 3309 3310 3311 3312 3314 3315 3316\n",
      "[2689] 3318 3319 3320 3321 3322 3324 3325 3326 3328 3329 3330 3331 3332 3334\n",
      "[2703] 3336 3338 3340 3341 3342 3343 3344 3345 3346 3347 3349 3350 3351 3352\n",
      "[2717] 3353 3354 3355 3356 3357 3358 3359 3360 3361 3362 3363 3364 3365 3366\n",
      "[2731] 3367 3368 3370 3371 3372 3373 3374 3375 3376 3377 3378 3379 3380 3381\n",
      "[2745] 3382 3383 3384 3385 3386 3387 3388 3389 3390 3391 3392 3393 3394 3395\n",
      "[2759] 3396 3397 3398 3400 3401 3402 3404 3405 3406 3407 3408 3410 3411 3412\n",
      "[2773] 3413 3415 3416 3417 3419 3420 3421 3423 3424 3425 3427 3428 3429 3430\n",
      "[2787] 3431 3432 3433 3434 3435 3436 3437 3439 3440 3441 3442 3443 3445 3446\n",
      "[2801] 3448 3449 3450 3451 3452 3453 3454 3455 3456 3457 3458 3459 3460 3461\n",
      "[2815] 3462 3463 3464 3465 3466 3467 3468 3469 3470 3471 3472 3473 3474 3475\n",
      "[2829] 3476 3477 3478 3479 3480 3481 3482 3483 3484 3486 3487 3489 3491 3493\n",
      "[2843] 3494 3496 3499 3500 3502 3503 3504 3505 3506 3507 3508 3509 3511 3512\n",
      "[2857] 3514 3515 3516 3517 3519 3521 3522 3523 3524 3525 3526 3527 3528 3529\n",
      "[2871] 3531 3532 3533 3534 3535 3536 3537 3538 3539 3540 3542 3543 3544 3546\n",
      "[2885] 3547 3548 3549 3550 3551 3552 3553 3554 3555 3556 3557 3558 3559 3560\n",
      "[2899] 3561 3562 3563 3564 3565 3566 3567 3570 3571 3572 3573 3574 3575 3576\n",
      "[2913] 3577 3579 3580 3581 3583 3584 3585 3586 3587 3588 3590 3591 3592 3593\n",
      "[2927] 3594 3595 3596 3597 3598 3599 3600 3601 3602 3603 3604 3605 3606 3607\n",
      "[2941] 3608 3609 3610 3611 3612 3613 3614 3615 3616 3617 3618 3623 3624 3625\n",
      "[2955] 3626 3627 3629 3630 3631 3632 3633 3635 3636 3637 3638 3639 3640 3641\n",
      "[2969] 3643 3644 3645 3646 3649 3650 3651 3652 3653 3655 3656 3657 3660 3661\n",
      "[2983] 3662 3664 3665 3666 3667 3668 3669 3670 3672 3673 3674 3675 3678 3679\n",
      "[2997] 3680 3682 3683 3685 3686 3687 3690 3696 3697 3699 3701 3703 3708 3709\n",
      "[3011] 3710 3713 3714 3716 3718 3719 3721 3722 3723 3724 3725 3726 3727 3728\n",
      "[3025] 3730 3731 3732 3733 3734 3736 3737 3738 3739 3740 3741 3742 3743 3744\n",
      "[3039] 3745 3746 3747 3748 3749 3750 3751 3753 3754 3756 3757 3758 3760 3762\n",
      "[3053] 3763 3764 3765 3766 3767 3769 3770 3771 3772 3773 3774 3775 3776 3777\n",
      "[3067] 3778 3779 3781 3782 3783 3784 3785 3787 3788 3789 3790 3792 3793 3794\n",
      "[3081] 3795 3796 3797 3798 3799 3800 3801 3802 3804 3805 3806 3807 3808 3809\n",
      "[3095] 3810 3811 3812 3814 3816 3817 3818 3821 3822 3823 3827 3828 3829 3830\n",
      "[3109] 3831 3832 3833 3834 3835 3836 3838 3839 3842 3843 3844 3847 3848 3849\n",
      "[3123] 3850 3851 3853 3854 3855 3856 3857 3858 3859 3860 3861 3862 3863 3864\n",
      "[3137] 3865 3867 3868 3869 3870 3871 3872 3873 3874 3875 3876 3877 3880 3881\n",
      "[3151] 3882 3883 3884 3885 3886 3887 3888 3889 3890 3891 3893 3894 3895 3896\n",
      "[3165] 3897 3898 3899 3900 3901 3902 3903 3904 3905 3906 3908 3910 3911 3912\n",
      "[3179] 3913 3914 3915 3916 3917 3918 3921 3922 3923 3924 3925 3926 3927 3928\n",
      "[3193] 3929 3930 3931 3932 3933 3934 3935 3936 3937 3938 3939 3940 3941 3942\n",
      "[3207] 3944 3945 3948 3949 3950 3951 3952 3954 3956 3957 3958 3961 3962 3963\n",
      "[3221] 3964 3968 3969 3970 3971 3973 3974 3975 3976 3979 3980 3981 3982 3984\n",
      "[3235] 3987 3989 3991 3992 3994 3996 3999 4001 4002 4004 4005 4006 4008 4010\n",
      "[3249] 4011 4012 4013 4014 4016 4017 4018 4019 4020 4021 4022 4025 4026 4027\n",
      "[3263] 4028 4030 4031 4032 4033 4034 4035 4037 4038 4039 4040 4041 4043 4044\n",
      "[3277] 4047 4048 4050 4051 4052 4053 4057 4058 4059 4060 4062 4063 4064 4065\n",
      "[3291] 4068 4069 4070 4072 4074 4075 4076 4077 4078 4079 4080 4081 4082 4083\n",
      "[3305] 4084 4086 4087 4088 4090 4091 4093 4094 4096 4097 4098 4099 4104 4106\n",
      "[3319] 4107 4108 4109 4111 4113 4114 4115 4116 4118 4119 4120 4121 4122 4123\n",
      "[3333] 4124 4125 4126 4128 4129 4130 4131 4132 4133 4134 4135 4136 4137 4139\n",
      "[3347] 4141 4144 4145 4146 4148 4149 4150 4151 4152 4153 4154 4155 4156 4157\n",
      "[3361] 4158\n"
     ]
    }
   ],
   "source": [
    "# Remove low variance variables\n",
    "low_variance <- nearZeroVar(X, uniqueCut=.045)\n",
    "print(low_variance)"
   ]
  },
  {
   "cell_type": "code",
   "execution_count": 270,
   "metadata": {},
   "outputs": [
    {
     "data": {
      "text/html": [
       "3361"
      ],
      "text/latex": [
       "3361"
      ],
      "text/markdown": [
       "3361"
      ],
      "text/plain": [
       "[1] 3361"
      ]
     },
     "metadata": {},
     "output_type": "display_data"
    }
   ],
   "source": [
    "length(low_variance)"
   ]
  },
  {
   "cell_type": "code",
   "execution_count": 273,
   "metadata": {},
   "outputs": [],
   "source": [
    "X <- X[,-low_variance]\n",
    "ncol(X)"
   ]
  },
  {
   "cell_type": "code",
   "execution_count": null,
   "metadata": {},
   "outputs": [],
   "source": []
  },
  {
   "cell_type": "markdown",
   "metadata": {},
   "source": [
    "### Random Forest\n",
    "\n",
    "**TEMPLATE FOR MODELING**\n",
    "\n",
    "Using the `ranger`  package, a faster and more modern implementation of random forests\n",
    "\n",
    "Maximize for ROC:"
   ]
  },
  {
   "cell_type": "code",
   "execution_count": 281,
   "metadata": {},
   "outputs": [
    {
     "name": "stdout",
     "output_type": "stream",
     "text": [
      "Growing trees.. Progress: 48%. Estimated remaining time: 33 seconds.\n",
      "Growing trees.. Progress: 97%. Estimated remaining time: 2 seconds.\n",
      "Growing trees.. Progress: 23%. Estimated remaining time: 1 minute, 41 seconds.\n",
      "Growing trees.. Progress: 48%. Estimated remaining time: 1 minute, 7 seconds.\n",
      "Growing trees.. Progress: 72%. Estimated remaining time: 35 seconds.\n",
      "Growing trees.. Progress: 95%. Estimated remaining time: 6 seconds.\n",
      "Growing trees.. Progress: 48%. Estimated remaining time: 33 seconds.\n",
      "Growing trees.. Progress: 96%. Estimated remaining time: 2 seconds.\n",
      "Growing trees.. Progress: 21%. Estimated remaining time: 1 minute, 59 seconds.\n",
      "Growing trees.. Progress: 41%. Estimated remaining time: 1 minute, 30 seconds.\n",
      "Growing trees.. Progress: 61%. Estimated remaining time: 59 seconds.\n",
      "Growing trees.. Progress: 81%. Estimated remaining time: 28 seconds.\n",
      "Growing trees.. Progress: 51%. Estimated remaining time: 30 seconds.\n",
      "Growing trees.. Progress: 24%. Estimated remaining time: 1 minute, 40 seconds.\n",
      "Growing trees.. Progress: 44%. Estimated remaining time: 1 minute, 17 seconds.\n",
      "Growing trees.. Progress: 66%. Estimated remaining time: 47 seconds.\n",
      "Growing trees.. Progress: 88%. Estimated remaining time: 16 seconds.\n",
      "Growing trees.. Progress: 52%. Estimated remaining time: 28 seconds.\n"
     ]
    },
    {
     "name": "stderr",
     "output_type": "stream",
     "text": [
      "Warning message:\n",
      "“model fit failed for Fold2.Rep1: mtry=20, splitrule=gini, min.node.size=5 Error in ranger::ranger(dependent.variable.name = \".outcome\", data = x,  : \n",
      "  User interrupt or internal error.\n",
      "”\n",
      "Warning message in nominalTrainWorkflow(x = x, y = y, wts = weights, info = trainInfo, :\n",
      "“There were missing values in resampled performance measures.”\n"
     ]
    },
    {
     "name": "stdout",
     "output_type": "stream",
     "text": [
      "Growing trees.. Progress: 18%. Estimated remaining time: 2 minutes, 17 seconds.\n",
      "Growing trees.. Progress: 37%. Estimated remaining time: 1 minute, 43 seconds.\n",
      "Growing trees.. Progress: 56%. Estimated remaining time: 1 minute, 12 seconds.\n",
      "Growing trees.. Progress: 73%. Estimated remaining time: 46 seconds.\n",
      "Growing trees.. Progress: 91%. Estimated remaining time: 15 seconds.\n"
     ]
    },
    {
     "data": {
      "text/plain": [
       "Random Forest \n",
       "\n",
       "38638 samples\n",
       "  101 predictor\n",
       "    2 classes: 'fake', 'real' \n",
       "\n",
       "No pre-processing\n",
       "Resampling: Cross-Validated (2 fold, repeated 1 times) \n",
       "Summary of sample sizes: 19319, 19319 \n",
       "Resampling results across tuning parameters:\n",
       "\n",
       "  mtry  min.node.size  ROC        Sens       Spec     \n",
       "   9    1              0.8338856  0.6296648  0.9106953\n",
       "   9    5              0.8338819  0.6300000  0.9094898\n",
       "  20    1              0.8332784  0.6267039  0.9173498\n",
       "  20    5              0.8319198  0.6367598  0.9115633\n",
       "\n",
       "Tuning parameter 'splitrule' was held constant at a value of gini\n",
       "ROC was used to select the optimal model using the largest value.\n",
       "The final values used for the model were mtry = 9, splitrule = gini\n",
       " and min.node.size = 1."
      ]
     },
     "metadata": {},
     "output_type": "display_data"
    }
   ],
   "source": [
    "ctrl <- trainControl(method='repeatedcv',\n",
    "                     number=2,  # number of folds for each run: change this for final run\n",
    "                     repeats=1,  # number of times to repeat CV: change this for final run\n",
    "                     classProbs=TRUE,\n",
    "                     savePredictions=TRUE,\n",
    "                     summaryFunction = twoClassSummary)\n",
    "\n",
    "# good guesses for mtry are sqrt(p) and log2(p)\n",
    "tunegrid <- expand.grid(mtry=c(9, 20),\n",
    "                        splitrule=c('gini'),\n",
    "                        min.node.size=c(1, 5))\n",
    " \n",
    "set.seed(1804)\n",
    "m0 <- train(y ~ .,\n",
    "            data=X[, c(2:103)],   # REMOVE THIS SUBSETTING FOR REAL MODEL\n",
    "            tuneGrid=tunegrid,\n",
    "            method='ranger',\n",
    "            num.trees=1000,\n",
    "            importance='impurity',\n",
    "            trControl=ctrl,\n",
    "            metric='ROC')\n",
    "\n",
    "print(m0)\n",
    "\n"
   ]
  },
  {
   "cell_type": "code",
   "execution_count": 282,
   "metadata": {},
   "outputs": [
    {
     "name": "stdout",
     "output_type": "stream",
     "text": [
      "Random Forest \n",
      "\n",
      "38638 samples\n",
      "  101 predictor\n",
      "    2 classes: 'fake', 'real' \n",
      "\n",
      "No pre-processing\n",
      "Resampling: Cross-Validated (2 fold, repeated 1 times) \n",
      "Summary of sample sizes: 19319, 19319 \n",
      "Resampling results across tuning parameters:\n",
      "\n",
      "  mtry  min.node.size  ROC        Sens       Spec     \n",
      "   9    1              0.8338856  0.6296648  0.9106953\n",
      "   9    5              0.8338819  0.6300000  0.9094898\n",
      "  20    1              0.8332784  0.6267039  0.9173498\n",
      "  20    5              0.8319198  0.6367598  0.9115633\n",
      "\n",
      "Tuning parameter 'splitrule' was held constant at a value of gini\n",
      "ROC was used to select the optimal model using the largest value.\n",
      "The final values used for the model were mtry = 9, splitrule = gini\n",
      " and min.node.size = 1.\n"
     ]
    }
   ],
   "source": [
    "print(m0)"
   ]
  },
  {
   "cell_type": "code",
   "execution_count": 287,
   "metadata": {},
   "outputs": [
    {
     "data": {
      "text/html": [
       "<table>\n",
       "<caption>A data.frame: 2 × 4</caption>\n",
       "<thead>\n",
       "\t<tr><th></th><th scope=col>ROC</th><th scope=col>Sens</th><th scope=col>Spec</th><th scope=col>Resample</th></tr>\n",
       "\t<tr><th></th><th scope=col>&lt;dbl&gt;</th><th scope=col>&lt;dbl&gt;</th><th scope=col>&lt;dbl&gt;</th><th scope=col>&lt;chr&gt;</th></tr>\n",
       "</thead>\n",
       "<tbody>\n",
       "\t<tr><th scope=row>1</th><td>0.8325625</td><td>0.6359777</td><td>0.9043302</td><td>Fold1.Rep1</td></tr>\n",
       "\t<tr><th scope=row>2</th><td>0.8352088</td><td>0.6233520</td><td>0.9170605</td><td>Fold2.Rep1</td></tr>\n",
       "</tbody>\n",
       "</table>\n"
      ],
      "text/latex": [
       "A data.frame: 2 × 4\n",
       "\\begin{tabular}{r|llll}\n",
       "  & ROC & Sens & Spec & Resample\\\\\n",
       "  & <dbl> & <dbl> & <dbl> & <chr>\\\\\n",
       "\\hline\n",
       "\t1 & 0.8325625 & 0.6359777 & 0.9043302 & Fold1.Rep1\\\\\n",
       "\t2 & 0.8352088 & 0.6233520 & 0.9170605 & Fold2.Rep1\\\\\n",
       "\\end{tabular}\n"
      ],
      "text/markdown": [
       "\n",
       "A data.frame: 2 × 4\n",
       "\n",
       "| <!--/--> | ROC &lt;dbl&gt; | Sens &lt;dbl&gt; | Spec &lt;dbl&gt; | Resample &lt;chr&gt; |\n",
       "|---|---|---|---|---|\n",
       "| 1 | 0.8325625 | 0.6359777 | 0.9043302 | Fold1.Rep1 |\n",
       "| 2 | 0.8352088 | 0.6233520 | 0.9170605 | Fold2.Rep1 |\n",
       "\n"
      ],
      "text/plain": [
       "  ROC       Sens      Spec      Resample  \n",
       "1 0.8325625 0.6359777 0.9043302 Fold1.Rep1\n",
       "2 0.8352088 0.6233520 0.9170605 Fold2.Rep1"
      ]
     },
     "metadata": {},
     "output_type": "display_data"
    },
    {
     "data": {
      "text/html": [
       "0.833885601742625"
      ],
      "text/latex": [
       "0.833885601742625"
      ],
      "text/markdown": [
       "0.833885601742625"
      ],
      "text/plain": [
       "[1] 0.8338856"
      ]
     },
     "metadata": {},
     "output_type": "display_data"
    },
    {
     "data": {
      "text/html": [
       "0.629664804469274"
      ],
      "text/latex": [
       "0.629664804469274"
      ],
      "text/markdown": [
       "0.629664804469274"
      ],
      "text/plain": [
       "[1] 0.6296648"
      ]
     },
     "metadata": {},
     "output_type": "display_data"
    },
    {
     "data": {
      "text/html": [
       "0.910695341884463"
      ],
      "text/latex": [
       "0.910695341884463"
      ],
      "text/markdown": [
       "0.910695341884463"
      ],
      "text/plain": [
       "[1] 0.9106953"
      ]
     },
     "metadata": {},
     "output_type": "display_data"
    }
   ],
   "source": [
    "# shows the performance on each repetition of the modeling proess\n",
    "# can get mean performance, std dev of each performance, or plot\n",
    "# a histogram, giving complete overview of performance on multiple\n",
    "# slices and dices of the training dataset\n",
    "head(m0$resample)\n",
    "\n",
    "# Averaged cross-validation scores, most representative of performance\n",
    "mean(m0$resample$ROC); mean(m0$resample$Sens); mean(m0$resample$Spec)"
   ]
  },
  {
   "cell_type": "code",
   "execution_count": 284,
   "metadata": {},
   "outputs": [
    {
     "data": {
      "text/plain": [
       "ranger variable importance\n",
       "\n",
       "  only 20 most important variables shown (out of 101)\n",
       "\n",
       "         Overall\n",
       "a        100.000\n",
       "and       85.411\n",
       "about     45.215\n",
       "after     41.066\n",
       "`break`   28.533\n",
       "be        28.324\n",
       "at        27.958\n",
       "ar        25.278\n",
       "black     23.205\n",
       "bill      19.825\n",
       "american  14.343\n",
       "america   14.225\n",
       "against   11.791\n",
       "back      11.228\n",
       "berni     10.643\n",
       "becaus     9.438\n",
       "attack     9.373\n",
       "anti       8.781\n",
       "aid        8.220\n",
       "all        7.786"
      ]
     },
     "metadata": {},
     "output_type": "display_data"
    }
   ],
   "source": [
    "varImp(m0)"
   ]
  },
  {
   "cell_type": "code",
   "execution_count": 286,
   "metadata": {},
   "outputs": [
    {
     "data": {
      "image/png": "[encoded data removed]",
      "text/plain": [
       "plot without title"
      ]
     },
     "metadata": {
      "image/png": {
       "height": 420,
       "width": 420
      }
     },
     "output_type": "display_data"
    }
   ],
   "source": [
    "# This is a conveniant way to visualize 'direct probabilities' from the raw data,\n",
    "# (NOT the model)\n",
    "\n",
    "Y <- X %>%\n",
    "  mutate(yy = if_else(y == 'fake', TRUE, FALSE))  # has to be a factor for Hmisc\n",
    "\n",
    "library(Hmisc)\n",
    "ggplot(Y, aes(x=and, y=yy )) +\n",
    "  histSpikeg(yy ~ and, lowess=TRUE, data=Y)"
   ]
  },
  {
   "cell_type": "code",
   "execution_count": null,
   "metadata": {},
   "outputs": [],
   "source": []
  }
 ],
 "metadata": {
  "kernelspec": {
   "display_name": "R",
   "language": "R",
   "name": "ir"
  },
  "language_info": {
   "codemirror_mode": "r",
   "file_extension": ".r",
   "mimetype": "text/x-r-source",
   "name": "R",
   "pygments_lexer": "r",
   "version": "4.0.2"
  }
 },
 "nbformat": 4,
 "nbformat_minor": 2
}
