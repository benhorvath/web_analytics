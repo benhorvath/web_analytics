{
 "cells": [
  {
   "cell_type": "markdown",
   "metadata": {},
   "source": [
    "#  Final: Classifying news stories as true or fake\n",
    "\n",
    "#### Randy Thompson, Ben Horvath\n",
    "\n",
    "With the rise of social media, everyone has an equal opportunity to create, share and distribute articles of their choosing. Some of these articles are written without sources or evidence for the claims they make. These \"fake news\" articles may have patterns of text that can make them identifiable as real or fake.\n",
    "\n",
    "Our goal is to classify whether a piece is fake or not _based on its substantive text content only_. The dataset is carefully prepared to remove any 'hints' to the model that detract from this goal (e.g., removing datelines).\n",
    "\n",
    "The data can be downloaded from Kaggle at https://www.kaggle.com/clmentbisaillon/fake-and-real-news-dataset. It is not present in the Github repo because of its size.\n",
    "\n",
    "We make heavy use of tidyverse R functionality. Especially useful here is the `tidytext` package, which drastically simplifies the calculation of TF-IDF matrices; and the `caret` library for cross-validated modeling. Load necessary libraries:"
   ]
  },
  {
   "cell_type": "code",
   "execution_count": 3,
   "metadata": {},
   "outputs": [],
   "source": [
    "library(caret)\n",
    "library(dplyr)\n",
    "library(ggplot2)\n",
    "library(lubridate)  # easy dates\n",
    "library(stringr)    # easy regex\n",
    "library(textstem)   # stemming, lemmatization\n",
    "library(tidytext)   # easy TF-IDF\n",
    "library(tidyverse)\n",
    "library(janitor)\n",
    "library(topicmodels)\n",
    "library(tm)"
   ]
  },
  {
   "cell_type": "markdown",
   "metadata": {},
   "source": [
    "## Load the data\n",
    "\n",
    "The data comes seperated in two CSVs of about equal size, one for true news stories, and other for fake. We load them, assign our dependent variable $y = \\{fake, true\\}$, and combine them."
   ]
  },
  {
   "cell_type": "code",
   "execution_count": 4,
   "metadata": {},
   "outputs": [
    {
     "name": "stderr",
     "output_type": "stream",
     "text": [
      "Parsed with column specification:\n",
      "cols(\n",
      "  title = \u001b[31mcol_character()\u001b[39m,\n",
      "  text = \u001b[31mcol_character()\u001b[39m,\n",
      "  subject = \u001b[31mcol_character()\u001b[39m,\n",
      "  date = \u001b[31mcol_character()\u001b[39m\n",
      ")\n",
      "\n",
      "Parsed with column specification:\n",
      "cols(\n",
      "  title = \u001b[31mcol_character()\u001b[39m,\n",
      "  text = \u001b[31mcol_character()\u001b[39m,\n",
      "  subject = \u001b[31mcol_character()\u001b[39m,\n",
      "  date = \u001b[31mcol_character()\u001b[39m\n",
      ")\n",
      "\n",
      "Warning message:\n",
      "\" 45 failed to parse.\"\n"
     ]
    },
    {
     "data": {
      "text/html": [
       "<table>\n",
       "<caption>A tibble: 1 × 5</caption>\n",
       "<thead>\n",
       "\t<tr><th scope=col>title</th><th scope=col>text</th><th scope=col>subject</th><th scope=col>dt</th><th scope=col>y</th></tr>\n",
       "\t<tr><th scope=col>&lt;chr&gt;</th><th scope=col>&lt;chr&gt;</th><th scope=col>&lt;chr&gt;</th><th scope=col>&lt;dttm&gt;</th><th scope=col>&lt;chr&gt;</th></tr>\n",
       "</thead>\n",
       "<tbody>\n",
       "\t<tr><td>Donald Trump Sends Out Embarrassing New Year’s Eve Message; This is Disturbing</td><td>Donald Trump just couldn t wish all Americans a Happy New Year and leave it at that. Instead, he had to give a shout out to his enemies, haters and  the very dishonest fake news media.  The former reality show star had just one job to do and he couldn t do it. As our Country rapidly grows stronger and smarter, I want to wish all of my friends, supporters, enemies, haters, and even the very dishonest Fake News Media, a Happy and Healthy New Year,  President Angry Pants tweeted.  2018 will be a great year for America! As our Country rapidly grows stronger and smarter, I want to wish all of my friends, supporters, enemies, haters, and even the very dishonest Fake News Media, a Happy and Healthy New Year. 2018 will be a great year for America!  Donald J. Trump (@realDonaldTrump) December 31, 2017Trump s tweet went down about as welll as you d expect.What kind of president sends a New Year s greeting like this despicable, petty, infantile gibberish? Only Trump! His lack of decency won t even allow him to rise above the gutter long enough to wish the American citizens a happy new year!  Bishop Talbert Swan (@TalbertSwan) December 31, 2017no one likes you  Calvin (@calvinstowell) December 31, 2017Your impeachment would make 2018 a great year for America, but I ll also accept regaining control of Congress.  Miranda Yaver (@mirandayaver) December 31, 2017Do you hear yourself talk? When you have to include that many people that hate you you have to wonder? Why do the they all hate me?  Alan Sandoval (@AlanSandoval13) December 31, 2017Who uses the word Haters in a New Years wish??  Marlene (@marlene399) December 31, 2017You can t just say happy new year?  Koren pollitt (@Korencarpenter) December 31, 2017Here s Trump s New Year s Eve tweet from 2016.Happy New Year to all, including to my many enemies and those who have fought me and lost so badly they just don t know what to do. Love!  Donald J. Trump (@realDonaldTrump) December 31, 2016This is nothing new for Trump. He s been doing this for years.Trump has directed messages to his  enemies  and  haters  for New Year s, Easter, Thanksgiving, and the anniversary of 9/11. pic.twitter.com/4FPAe2KypA  Daniel Dale (@ddale8) December 31, 2017Trump s holiday tweets are clearly not presidential.How long did he work at Hallmark before becoming President?  Steven Goodine (@SGoodine) December 31, 2017He s always been like this . . . the only difference is that in the last few years, his filter has been breaking down.  Roy Schulze (@thbthttt) December 31, 2017Who, apart from a teenager uses the term haters?  Wendy (@WendyWhistles) December 31, 2017he s a fucking 5 year old  Who Knows (@rainyday80) December 31, 2017So, to all the people who voted for this a hole thinking he would change once he got into power, you were wrong! 70-year-old men don t change and now he s a year older.Photo by Andrew Burton/Getty Images.</td><td>News</td><td>2017-12-31</td><td>fake</td></tr>\n",
       "</tbody>\n",
       "</table>\n"
      ],
      "text/latex": [
       "A tibble: 1 × 5\n",
       "\\begin{tabular}{lllll}\n",
       " title & text & subject & dt & y\\\\\n",
       " <chr> & <chr> & <chr> & <dttm> & <chr>\\\\\n",
       "\\hline\n",
       "\t Donald Trump Sends Out Embarrassing New Year’s Eve Message; This is Disturbing & Donald Trump just couldn t wish all Americans a Happy New Year and leave it at that. Instead, he had to give a shout out to his enemies, haters and  the very dishonest fake news media.  The former reality show star had just one job to do and he couldn t do it. As our Country rapidly grows stronger and smarter, I want to wish all of my friends, supporters, enemies, haters, and even the very dishonest Fake News Media, a Happy and Healthy New Year,  President Angry Pants tweeted.  2018 will be a great year for America! As our Country rapidly grows stronger and smarter, I want to wish all of my friends, supporters, enemies, haters, and even the very dishonest Fake News Media, a Happy and Healthy New Year. 2018 will be a great year for America!  Donald J. Trump (@realDonaldTrump) December 31, 2017Trump s tweet went down about as welll as you d expect.What kind of president sends a New Year s greeting like this despicable, petty, infantile gibberish? Only Trump! His lack of decency won t even allow him to rise above the gutter long enough to wish the American citizens a happy new year!  Bishop Talbert Swan (@TalbertSwan) December 31, 2017no one likes you  Calvin (@calvinstowell) December 31, 2017Your impeachment would make 2018 a great year for America, but I ll also accept regaining control of Congress.  Miranda Yaver (@mirandayaver) December 31, 2017Do you hear yourself talk? When you have to include that many people that hate you you have to wonder? Why do the they all hate me?  Alan Sandoval (@AlanSandoval13) December 31, 2017Who uses the word Haters in a New Years wish??  Marlene (@marlene399) December 31, 2017You can t just say happy new year?  Koren pollitt (@Korencarpenter) December 31, 2017Here s Trump s New Year s Eve tweet from 2016.Happy New Year to all, including to my many enemies and those who have fought me and lost so badly they just don t know what to do. Love!  Donald J. Trump (@realDonaldTrump) December 31, 2016This is nothing new for Trump. He s been doing this for years.Trump has directed messages to his  enemies  and  haters  for New Year s, Easter, Thanksgiving, and the anniversary of 9/11. pic.twitter.com/4FPAe2KypA  Daniel Dale (@ddale8) December 31, 2017Trump s holiday tweets are clearly not presidential.How long did he work at Hallmark before becoming President?  Steven Goodine (@SGoodine) December 31, 2017He s always been like this . . . the only difference is that in the last few years, his filter has been breaking down.  Roy Schulze (@thbthttt) December 31, 2017Who, apart from a teenager uses the term haters?  Wendy (@WendyWhistles) December 31, 2017he s a fucking 5 year old  Who Knows (@rainyday80) December 31, 2017So, to all the people who voted for this a hole thinking he would change once he got into power, you were wrong! 70-year-old men don t change and now he s a year older.Photo by Andrew Burton/Getty Images. & News & 2017-12-31 & fake\\\\\n",
       "\\end{tabular}\n"
      ],
      "text/markdown": [
       "\n",
       "A tibble: 1 × 5\n",
       "\n",
       "| title &lt;chr&gt; | text &lt;chr&gt; | subject &lt;chr&gt; | dt &lt;dttm&gt; | y &lt;chr&gt; |\n",
       "|---|---|---|---|---|\n",
       "| Donald Trump Sends Out Embarrassing New Year’s Eve Message; This is Disturbing | Donald Trump just couldn t wish all Americans a Happy New Year and leave it at that. Instead, he had to give a shout out to his enemies, haters and  the very dishonest fake news media.  The former reality show star had just one job to do and he couldn t do it. As our Country rapidly grows stronger and smarter, I want to wish all of my friends, supporters, enemies, haters, and even the very dishonest Fake News Media, a Happy and Healthy New Year,  President Angry Pants tweeted.  2018 will be a great year for America! As our Country rapidly grows stronger and smarter, I want to wish all of my friends, supporters, enemies, haters, and even the very dishonest Fake News Media, a Happy and Healthy New Year. 2018 will be a great year for America!  Donald J. Trump (@realDonaldTrump) December 31, 2017Trump s tweet went down about as welll as you d expect.What kind of president sends a New Year s greeting like this despicable, petty, infantile gibberish? Only Trump! His lack of decency won t even allow him to rise above the gutter long enough to wish the American citizens a happy new year!  Bishop Talbert Swan (@TalbertSwan) December 31, 2017no one likes you  Calvin (@calvinstowell) December 31, 2017Your impeachment would make 2018 a great year for America, but I ll also accept regaining control of Congress.  Miranda Yaver (@mirandayaver) December 31, 2017Do you hear yourself talk? When you have to include that many people that hate you you have to wonder? Why do the they all hate me?  Alan Sandoval (@AlanSandoval13) December 31, 2017Who uses the word Haters in a New Years wish??  Marlene (@marlene399) December 31, 2017You can t just say happy new year?  Koren pollitt (@Korencarpenter) December 31, 2017Here s Trump s New Year s Eve tweet from 2016.Happy New Year to all, including to my many enemies and those who have fought me and lost so badly they just don t know what to do. Love!  Donald J. Trump (@realDonaldTrump) December 31, 2016This is nothing new for Trump. He s been doing this for years.Trump has directed messages to his  enemies  and  haters  for New Year s, Easter, Thanksgiving, and the anniversary of 9/11. pic.twitter.com/4FPAe2KypA  Daniel Dale (@ddale8) December 31, 2017Trump s holiday tweets are clearly not presidential.How long did he work at Hallmark before becoming President?  Steven Goodine (@SGoodine) December 31, 2017He s always been like this . . . the only difference is that in the last few years, his filter has been breaking down.  Roy Schulze (@thbthttt) December 31, 2017Who, apart from a teenager uses the term haters?  Wendy (@WendyWhistles) December 31, 2017he s a fucking 5 year old  Who Knows (@rainyday80) December 31, 2017So, to all the people who voted for this a hole thinking he would change once he got into power, you were wrong! 70-year-old men don t change and now he s a year older.Photo by Andrew Burton/Getty Images. | News | 2017-12-31 | fake |\n",
       "\n"
      ],
      "text/plain": [
       "  title                                                                         \n",
       "1 Donald Trump Sends Out Embarrassing New Year’s Eve Message; This is Disturbing\n",
       "  text                                                                                                                                                                                                                                                                                                                                                                                                                                                                                                                                                                                                                                                                                                                                                                                                                                                                                                                                                                                                                                                                                                                                                                                                                                                                                                                                                                                                                                                                                                                                                                                                                                                                                                                                                                                                                                                                                                                                                                                                                                                                                                                                                                                                                                                                                                                                                                                                                                                                                                                                                                                                                                                                                                                                                                                                                                                                                                                                                                                                         \n",
       "1 Donald Trump just couldn t wish all Americans a Happy New Year and leave it at that. Instead, he had to give a shout out to his enemies, haters and  the very dishonest fake news media.  The former reality show star had just one job to do and he couldn t do it. As our Country rapidly grows stronger and smarter, I want to wish all of my friends, supporters, enemies, haters, and even the very dishonest Fake News Media, a Happy and Healthy New Year,  President Angry Pants tweeted.  2018 will be a great year for America! As our Country rapidly grows stronger and smarter, I want to wish all of my friends, supporters, enemies, haters, and even the very dishonest Fake News Media, a Happy and Healthy New Year. 2018 will be a great year for America!  Donald J. Trump (@realDonaldTrump) December 31, 2017Trump s tweet went down about as welll as you d expect.What kind of president sends a New Year s greeting like this despicable, petty, infantile gibberish? Only Trump! His lack of decency won t even allow him to rise above the gutter long enough to wish the American citizens a happy new year!  Bishop Talbert Swan (@TalbertSwan) December 31, 2017no one likes you  Calvin (@calvinstowell) December 31, 2017Your impeachment would make 2018 a great year for America, but I ll also accept regaining control of Congress.  Miranda Yaver (@mirandayaver) December 31, 2017Do you hear yourself talk? When you have to include that many people that hate you you have to wonder? Why do the they all hate me?  Alan Sandoval (@AlanSandoval13) December 31, 2017Who uses the word Haters in a New Years wish??  Marlene (@marlene399) December 31, 2017You can t just say happy new year?  Koren pollitt (@Korencarpenter) December 31, 2017Here s Trump s New Year s Eve tweet from 2016.Happy New Year to all, including to my many enemies and those who have fought me and lost so badly they just don t know what to do. Love!  Donald J. Trump (@realDonaldTrump) December 31, 2016This is nothing new for Trump. He s been doing this for years.Trump has directed messages to his  enemies  and  haters  for New Year s, Easter, Thanksgiving, and the anniversary of 9/11. pic.twitter.com/4FPAe2KypA  Daniel Dale (@ddale8) December 31, 2017Trump s holiday tweets are clearly not presidential.How long did he work at Hallmark before becoming President?  Steven Goodine (@SGoodine) December 31, 2017He s always been like this . . . the only difference is that in the last few years, his filter has been breaking down.  Roy Schulze (@thbthttt) December 31, 2017Who, apart from a teenager uses the term haters?  Wendy (@WendyWhistles) December 31, 2017he s a fucking 5 year old  Who Knows (@rainyday80) December 31, 2017So, to all the people who voted for this a hole thinking he would change once he got into power, you were wrong! 70-year-old men don t change and now he s a year older.Photo by Andrew Burton/Getty Images.\n",
       "  subject dt         y   \n",
       "1 News    2017-12-31 fake"
      ]
     },
     "metadata": {},
     "output_type": "display_data"
    }
   ],
   "source": [
    "fake <- read_csv('~/CUNY/DATA 620/final/Fake.csv') %>%\n",
    "  mutate(y='fake')\n",
    "\n",
    "real <- read_csv('~/CUNY/DATA 620/final/True.csv') %>%\n",
    "  mutate(y='real')\n",
    "\n",
    "# rename date to dt to keep R happy\n",
    "df <- rbind(fake, real) %>%\n",
    "  rename(dt = 'date') %>%\n",
    "  mutate(dt = parse_date_time(dt, '%B %d, $Y'))\n",
    "\n",
    "head(df, 1)"
   ]
  },
  {
   "cell_type": "markdown",
   "metadata": {},
   "source": [
    "The dataset gives  us the title of the text, the text  itself, a classification of the news story, and the date of publishing.\n",
    "\n",
    "## Exploratory analysis\n",
    "\n",
    "Before modeling, we get to know our dataset more thoroughly. First, inspect the distribution of the dependent variable, which shows a balanced dataset."
   ]
  },
  {
   "cell_type": "code",
   "execution_count": 5,
   "metadata": {},
   "outputs": [
    {
     "data": {
      "text/plain": [
       "\n",
       " fake  real \n",
       "23481 21417 "
      ]
     },
     "metadata": {},
     "output_type": "display_data"
    }
   ],
   "source": [
    "table(df$y)"
   ]
  },
  {
   "cell_type": "code",
   "execution_count": 6,
   "metadata": {},
   "outputs": [
    {
     "data": {
      "text/plain": [
       "\n",
       "Government News       left-news     Middle-east            News        politics \n",
       "           1570            4459             778            9050            6841 \n",
       "   politicsNews         US_News       worldnews \n",
       "          11272             783           10145 "
      ]
     },
     "metadata": {},
     "output_type": "display_data"
    }
   ],
   "source": [
    "table(df$subject)"
   ]
  },
  {
   "cell_type": "markdown",
   "metadata": {},
   "source": [
    "The table below shows the distribution of subject these categories between fake and real news. We see that the fake news is labeled as either `politicsNews` or as `worldnews`, while the real news is labeled as everything else but those two. This suggests _subject should not be used as a model feature_."
   ]
  },
  {
   "cell_type": "code",
   "execution_count": 7,
   "metadata": {},
   "outputs": [
    {
     "data": {
      "text/plain": [
       "      \n",
       "       Government News  left-news Middle-east       News   politics\n",
       "  fake      0.06686257 0.18989822  0.03313317 0.38541800 0.29134194\n",
       "  real      0.00000000 0.00000000  0.00000000 0.00000000 0.00000000\n",
       "      \n",
       "       politicsNews    US_News  worldnews\n",
       "  fake   0.00000000 0.03334611 0.00000000\n",
       "  real   0.52631087 0.00000000 0.47368913"
      ]
     },
     "metadata": {},
     "output_type": "display_data"
    }
   ],
   "source": [
    "prop.table(table(df$y, df$subject), 1)"
   ]
  },
  {
   "cell_type": "markdown",
   "metadata": {},
   "source": []
  },
  {
   "cell_type": "markdown",
   "metadata": {},
   "source": [
    "The `text` column will be ommitted in the NLP analysis because it is simply too much data for be easily computer on the present machines. However, we can still try to create simple features using regular expressions from the text. We examine a few of these below:"
   ]
  },
  {
   "cell_type": "code",
   "execution_count": 8,
   "metadata": {},
   "outputs": [
    {
     "data": {
      "text/plain": [
       "      \n",
       "            FALSE       TRUE\n",
       "  fake 0.73419106 0.26580894\n",
       "  real 0.98706575 0.01293425"
      ]
     },
     "metadata": {},
     "output_type": "display_data"
    }
   ],
   "source": [
    "# Presence of Twitter handle\n",
    "df$twitter_handle <- str_detect(df$text, '(?<!\\\\w)@[\\\\w+]{1,15}\\\\b')\n",
    "prop.table(table(df$y, df$twitter_handle), 1)"
   ]
  },
  {
   "cell_type": "markdown",
   "metadata": {},
   "source": [
    "The above shows that their is an association between the presence of a twitter handle and the reality of a news story.\n",
    "\n",
    "Below shows a slighly weaker association with profanity (using a very crude and very incomplete regex):"
   ]
  },
  {
   "cell_type": "code",
   "execution_count": 9,
   "metadata": {},
   "outputs": [
    {
     "data": {
      "text/plain": [
       "      \n",
       "             FALSE        TRUE\n",
       "  fake 0.942978425 0.057021575\n",
       "  real 0.996964886 0.003035114"
      ]
     },
     "metadata": {},
     "output_type": "display_data"
    }
   ],
   "source": [
    "PROFANITY <- 'fuck|shit|bastard|bitch|whore|goddamn'\n",
    "\n",
    "df$profanity <- str_detect( tolower(df$text), PROFANITY)\n",
    "prop.table(table(df$y, df$profanity), 1)"
   ]
  },
  {
   "cell_type": "markdown",
   "metadata": {},
   "source": [
    "Finally, we can count the number of all-caps words in the text. Interestingly, there's no real difference in the distributions. Below we will see that this is due to the presence of acronyms in real news stories, as well as dateline in all-caps, e.g., WASHINGTON (Reuters). A better solution would be to count the length (in words) of all-caps phrases which do not appear often in real news stories."
   ]
  },
  {
   "cell_type": "code",
   "execution_count": 10,
   "metadata": {},
   "outputs": [
    {
     "data": {
      "image/png": "[encoded data removed]",
      "text/plain": [
       "plot without title"
      ]
     },
     "metadata": {
      "image/png": {
       "height": 420,
       "width": 420
      }
     },
     "output_type": "display_data"
    }
   ],
   "source": [
    "ALL_CAPS <- '(\\\\b[A-Z][A-Z]+|\\\\b[A-Z]\\\\b)'\n",
    "df$all_caps <- str_count(df$text, ALL_CAPS)\n",
    "\n",
    "ggplot(df %>% filter(all_caps > 5), aes(x=y, y=all_caps)) + geom_boxplot()"
   ]
  },
  {
   "cell_type": "markdown",
   "metadata": {},
   "source": [
    "Finally, examine the distribution of fake and real news stories over time. There are no fake stories recorded until just after 2016, and following the spring of 2017 the real stories shoot up in quantity relative to the fake stories.\n",
    "\n",
    "This could suggest the optimal sample should be  restricted to Jan. 2016 through June 2017, which would be about 26 thousand samples. "
   ]
  },
  {
   "cell_type": "code",
   "execution_count": 11,
   "metadata": {},
   "outputs": [
    {
     "name": "stderr",
     "output_type": "stream",
     "text": [
      "Warning message:\n",
      "\"Removed 1 rows containing missing values (geom_path).\"\n"
     ]
    },
    {
     "data": {
      "image/png": "[encoded data removed]",
      "text/plain": [
       "plot without title"
      ]
     },
     "metadata": {
      "image/png": {
       "height": 420,
       "width": 420
      }
     },
     "output_type": "display_data"
    }
   ],
   "source": [
    "df %>%\n",
    "  group_by(dt, y) %>%\n",
    "  summarise(n=n_distinct(title)) %>%\n",
    "  ggplot(aes(x=dt, y=n, colour=y)) + geom_line()"
   ]
  },
  {
   "cell_type": "markdown",
   "metadata": {},
   "source": [
    "We will perform the same operations as above on the title:"
   ]
  },
  {
   "cell_type": "code",
   "execution_count": 12,
   "metadata": {},
   "outputs": [],
   "source": [
    "df$title_twitter_handle <- str_detect(df$title, '(?<!\\\\w)@[\\\\w+]{1,15}\\\\b')\n",
    "df$title_all_caps <- str_count(df$title, ALL_CAPS)\n",
    "df$title_profanity <- str_detect( tolower(df$title), PROFANITY)"
   ]
  },
  {
   "cell_type": "markdown",
   "metadata": {},
   "source": [
    "## Data cleaning\n",
    "\n",
    "Using the story titles as IDs, there are duplicated stories. These are removed by keeping only the latest version:"
   ]
  },
  {
   "cell_type": "code",
   "execution_count": 13,
   "metadata": {},
   "outputs": [
    {
     "data": {
      "text/html": [
       "44898"
      ],
      "text/latex": [
       "44898"
      ],
      "text/markdown": [
       "44898"
      ],
      "text/plain": [
       "[1] 44898"
      ]
     },
     "metadata": {},
     "output_type": "display_data"
    },
    {
     "data": {
      "text/html": [
       "38728"
      ],
      "text/latex": [
       "38728"
      ],
      "text/markdown": [
       "38728"
      ],
      "text/plain": [
       "[1] 38728"
      ]
     },
     "metadata": {},
     "output_type": "display_data"
    }
   ],
   "source": [
    "length(df$title); length(unique(df$title))"
   ]
  },
  {
   "cell_type": "code",
   "execution_count": 14,
   "metadata": {},
   "outputs": [
    {
     "data": {
      "text/html": [
       "21770"
      ],
      "text/latex": [
       "21770"
      ],
      "text/markdown": [
       "21770"
      ],
      "text/plain": [
       "[1] 21770"
      ]
     },
     "metadata": {},
     "output_type": "display_data"
    },
    {
     "data": {
      "text/html": [
       "21770"
      ],
      "text/latex": [
       "21770"
      ],
      "text/markdown": [
       "21770"
      ],
      "text/plain": [
       "[1] 21770"
      ]
     },
     "metadata": {},
     "output_type": "display_data"
    }
   ],
   "source": [
    "df <- df %>%\n",
    "  select(y, title, dt) %>% \n",
    "  arrange(title, desc(dt)) %>%\n",
    "  group_by(title) %>%\n",
    "  slice(which.max(dt)) %>% \n",
    "  filter(dt > date(\"2016-01-01\") && dt < date(\"2017-07-01\"))  %>% \n",
    "  ungroup()\n",
    "\n",
    "length(df$title); length(unique(df$title))"
   ]
  },
  {
   "cell_type": "markdown",
   "metadata": {},
   "source": [
    "All of the real news stories are from Reuters, and all Reuters news stories begin with a dateline, e.g., WASHINGTON (Rueters). These are removed by a very simple Regex that matches the beginning of the story up to the first hyphen. It appears to be effective enough. Additionally, we remove any other mentions of 'Reuters' just to be sure, and numbers:"
   ]
  },
  {
   "cell_type": "code",
   "execution_count": 15,
   "metadata": {},
   "outputs": [],
   "source": [
    "df <- df %>%\n",
    "  mutate(title = str_remove(title, '^[^\\\\-]*\\\\-\\\\s+'),\n",
    "         title = str_remove(tolower(title), 'reuters'),\n",
    "         title = str_remove(title, '[0-9]+'),\n",
    "         title = str_remove(title, '[:punct:]+'),\n",
    "         title = str_trim(title, side = \"both\"), \n",
    "         title = str_squish(title))"
   ]
  },
  {
   "cell_type": "markdown",
   "metadata": {},
   "source": [
    "Often, at this point in NLP process, we normally remove punctuation and a list of stop words. However, it may be that there are differences in punctuations and stop words between fake and real news. We thus retain them.\n",
    "\n",
    "### Test/Training Split\n",
    "\n",
    "Now we're going to separate our test and training data. By keeping some data out of our model will ensure that we have data the model hasn't seen to get a sense of how our model will work on new data. "
   ]
  },
  {
   "cell_type": "code",
   "execution_count": 41,
   "metadata": {},
   "outputs": [],
   "source": [
    "indexed <- createDataPartition(df$y, p=0.5, list=FALSE, times=1)\n",
    "df_train <- df[indexed,]\n",
    "df_test <- df[-indexed,]"
   ]
  },
  {
   "cell_type": "markdown",
   "metadata": {},
   "source": [
    "### Tokenize\n",
    "\n",
    "However, we will be conducting other stemming, requiring tokenization. Recall that  we are concerned only with the title for now:"
   ]
  },
  {
   "cell_type": "code",
   "execution_count": 42,
   "metadata": {},
   "outputs": [
    {
     "data": {
      "text/html": [
       "<table>\n",
       "<caption>A tibble: 6 × 3</caption>\n",
       "<thead>\n",
       "\t<tr><th scope=col>y</th><th scope=col>title</th><th scope=col>word</th></tr>\n",
       "\t<tr><th scope=col>&lt;chr&gt;</th><th scope=col>&lt;chr&gt;</th><th scope=col>&lt;chr&gt;</th></tr>\n",
       "</thead>\n",
       "<tbody>\n",
       "\t<tr><td>real</td><td>big bang theory' trumps tv audience for latest republican debate</td><td>big     </td></tr>\n",
       "\t<tr><td>real</td><td>big bang theory' trumps tv audience for latest republican debate</td><td>bang    </td></tr>\n",
       "\t<tr><td>real</td><td>big bang theory' trumps tv audience for latest republican debate</td><td>theory  </td></tr>\n",
       "\t<tr><td>real</td><td>big bang theory' trumps tv audience for latest republican debate</td><td>trumps  </td></tr>\n",
       "\t<tr><td>real</td><td>big bang theory' trumps tv audience for latest republican debate</td><td>tv      </td></tr>\n",
       "\t<tr><td>real</td><td>big bang theory' trumps tv audience for latest republican debate</td><td>audience</td></tr>\n",
       "</tbody>\n",
       "</table>\n"
      ],
      "text/latex": [
       "A tibble: 6 × 3\n",
       "\\begin{tabular}{lll}\n",
       " y & title & word\\\\\n",
       " <chr> & <chr> & <chr>\\\\\n",
       "\\hline\n",
       "\t real & big bang theory' trumps tv audience for latest republican debate & big     \\\\\n",
       "\t real & big bang theory' trumps tv audience for latest republican debate & bang    \\\\\n",
       "\t real & big bang theory' trumps tv audience for latest republican debate & theory  \\\\\n",
       "\t real & big bang theory' trumps tv audience for latest republican debate & trumps  \\\\\n",
       "\t real & big bang theory' trumps tv audience for latest republican debate & tv      \\\\\n",
       "\t real & big bang theory' trumps tv audience for latest republican debate & audience\\\\\n",
       "\\end{tabular}\n"
      ],
      "text/markdown": [
       "\n",
       "A tibble: 6 × 3\n",
       "\n",
       "| y &lt;chr&gt; | title &lt;chr&gt; | word &lt;chr&gt; |\n",
       "|---|---|---|\n",
       "| real | big bang theory' trumps tv audience for latest republican debate | big      |\n",
       "| real | big bang theory' trumps tv audience for latest republican debate | bang     |\n",
       "| real | big bang theory' trumps tv audience for latest republican debate | theory   |\n",
       "| real | big bang theory' trumps tv audience for latest republican debate | trumps   |\n",
       "| real | big bang theory' trumps tv audience for latest republican debate | tv       |\n",
       "| real | big bang theory' trumps tv audience for latest republican debate | audience |\n",
       "\n"
      ],
      "text/plain": [
       "  y    title                                                           \n",
       "1 real big bang theory' trumps tv audience for latest republican debate\n",
       "2 real big bang theory' trumps tv audience for latest republican debate\n",
       "3 real big bang theory' trumps tv audience for latest republican debate\n",
       "4 real big bang theory' trumps tv audience for latest republican debate\n",
       "5 real big bang theory' trumps tv audience for latest republican debate\n",
       "6 real big bang theory' trumps tv audience for latest republican debate\n",
       "  word    \n",
       "1 big     \n",
       "2 bang    \n",
       "3 theory  \n",
       "4 trumps  \n",
       "5 tv      \n",
       "6 audience"
      ]
     },
     "metadata": {},
     "output_type": "display_data"
    }
   ],
   "source": [
    "tokens <- df_train %>%\n",
    "  select(y, title) %>%\n",
    "  unique() %>% \n",
    "  unnest_tokens(word, title, drop=FALSE) \n",
    "\n",
    "\n",
    "tokens2 <- df_train %>%\n",
    "  select(y, title) %>%\n",
    "  unique() %>% \n",
    "  mutate(title2 = title) %>% \n",
    "  unnest_tokens(output = word, input = title2, token = \"ngrams\", n = 2) \n",
    "\n",
    "tokens3 <- df_train %>%\n",
    "  select(y, title) %>%\n",
    "  unique() %>% \n",
    "  mutate(title2 = title) %>% \n",
    "  unnest_tokens(output = word, input = title2, token = \"ngrams\", n = 3) \n",
    "\n",
    "tokens <- rbind(tokens, tokens2, tokens3)\n",
    "\n",
    "head(tokens)"
   ]
  },
  {
   "cell_type": "markdown",
   "metadata": {},
   "source": [
    "### Stemming\n",
    "\n",
    "We will, of course, conduct stemming on the title, using the `textstem` library, which uses a stemmer based on the `libstemmer` C library developed in the early 2000s."
   ]
  },
  {
   "cell_type": "code",
   "execution_count": 43,
   "metadata": {},
   "outputs": [
    {
     "data": {
      "text/html": [
       "<table>\n",
       "<caption>A tibble: 6 × 4</caption>\n",
       "<thead>\n",
       "\t<tr><th scope=col>y</th><th scope=col>title</th><th scope=col>word</th><th scope=col>stemmed</th></tr>\n",
       "\t<tr><th scope=col>&lt;chr&gt;</th><th scope=col>&lt;chr&gt;</th><th scope=col>&lt;chr&gt;</th><th scope=col>&lt;chr&gt;</th></tr>\n",
       "</thead>\n",
       "<tbody>\n",
       "\t<tr><td>real</td><td>big bang theory' trumps tv audience for latest republican debate</td><td>big     </td><td>big    </td></tr>\n",
       "\t<tr><td>real</td><td>big bang theory' trumps tv audience for latest republican debate</td><td>bang    </td><td>bang   </td></tr>\n",
       "\t<tr><td>real</td><td>big bang theory' trumps tv audience for latest republican debate</td><td>theory  </td><td>theori </td></tr>\n",
       "\t<tr><td>real</td><td>big bang theory' trumps tv audience for latest republican debate</td><td>trumps  </td><td>trump  </td></tr>\n",
       "\t<tr><td>real</td><td>big bang theory' trumps tv audience for latest republican debate</td><td>tv      </td><td>tv     </td></tr>\n",
       "\t<tr><td>real</td><td>big bang theory' trumps tv audience for latest republican debate</td><td>audience</td><td>audienc</td></tr>\n",
       "</tbody>\n",
       "</table>\n"
      ],
      "text/latex": [
       "A tibble: 6 × 4\n",
       "\\begin{tabular}{llll}\n",
       " y & title & word & stemmed\\\\\n",
       " <chr> & <chr> & <chr> & <chr>\\\\\n",
       "\\hline\n",
       "\t real & big bang theory' trumps tv audience for latest republican debate & big      & big    \\\\\n",
       "\t real & big bang theory' trumps tv audience for latest republican debate & bang     & bang   \\\\\n",
       "\t real & big bang theory' trumps tv audience for latest republican debate & theory   & theori \\\\\n",
       "\t real & big bang theory' trumps tv audience for latest republican debate & trumps   & trump  \\\\\n",
       "\t real & big bang theory' trumps tv audience for latest republican debate & tv       & tv     \\\\\n",
       "\t real & big bang theory' trumps tv audience for latest republican debate & audience & audienc\\\\\n",
       "\\end{tabular}\n"
      ],
      "text/markdown": [
       "\n",
       "A tibble: 6 × 4\n",
       "\n",
       "| y &lt;chr&gt; | title &lt;chr&gt; | word &lt;chr&gt; | stemmed &lt;chr&gt; |\n",
       "|---|---|---|---|\n",
       "| real | big bang theory' trumps tv audience for latest republican debate | big      | big     |\n",
       "| real | big bang theory' trumps tv audience for latest republican debate | bang     | bang    |\n",
       "| real | big bang theory' trumps tv audience for latest republican debate | theory   | theori  |\n",
       "| real | big bang theory' trumps tv audience for latest republican debate | trumps   | trump   |\n",
       "| real | big bang theory' trumps tv audience for latest republican debate | tv       | tv      |\n",
       "| real | big bang theory' trumps tv audience for latest republican debate | audience | audienc |\n",
       "\n"
      ],
      "text/plain": [
       "  y    title                                                           \n",
       "1 real big bang theory' trumps tv audience for latest republican debate\n",
       "2 real big bang theory' trumps tv audience for latest republican debate\n",
       "3 real big bang theory' trumps tv audience for latest republican debate\n",
       "4 real big bang theory' trumps tv audience for latest republican debate\n",
       "5 real big bang theory' trumps tv audience for latest republican debate\n",
       "6 real big bang theory' trumps tv audience for latest republican debate\n",
       "  word     stemmed\n",
       "1 big      big    \n",
       "2 bang     bang   \n",
       "3 theory   theori \n",
       "4 trumps   trump  \n",
       "5 tv       tv     \n",
       "6 audience audienc"
      ]
     },
     "metadata": {},
     "output_type": "display_data"
    }
   ],
   "source": [
    "stems <- tokens %>%\n",
    "  mutate(stemmed = stem_words(word))\n",
    "\n",
    "head(stems)"
   ]
  },
  {
   "cell_type": "markdown",
   "metadata": {},
   "source": [
    "###  Lemmatize\n",
    "\n",
    "Next, we clean up the tokens further by lemmatization, again using the `textstem` library:"
   ]
  },
  {
   "cell_type": "code",
   "execution_count": 44,
   "metadata": {},
   "outputs": [
    {
     "data": {
      "text/html": [
       "<table>\n",
       "<caption>A tibble: 6 × 5</caption>\n",
       "<thead>\n",
       "\t<tr><th scope=col>y</th><th scope=col>title</th><th scope=col>word</th><th scope=col>stemmed</th><th scope=col>lemma</th></tr>\n",
       "\t<tr><th scope=col>&lt;chr&gt;</th><th scope=col>&lt;chr&gt;</th><th scope=col>&lt;chr&gt;</th><th scope=col>&lt;chr&gt;</th><th scope=col>&lt;chr&gt;</th></tr>\n",
       "</thead>\n",
       "<tbody>\n",
       "\t<tr><td>real</td><td>big bang theory' trumps tv audience for latest republican debate</td><td>big     </td><td>big    </td><td>big    </td></tr>\n",
       "\t<tr><td>real</td><td>big bang theory' trumps tv audience for latest republican debate</td><td>bang    </td><td>bang   </td><td>bang   </td></tr>\n",
       "\t<tr><td>real</td><td>big bang theory' trumps tv audience for latest republican debate</td><td>theory  </td><td>theori </td><td>theori </td></tr>\n",
       "\t<tr><td>real</td><td>big bang theory' trumps tv audience for latest republican debate</td><td>trumps  </td><td>trump  </td><td>trump  </td></tr>\n",
       "\t<tr><td>real</td><td>big bang theory' trumps tv audience for latest republican debate</td><td>tv      </td><td>tv     </td><td>tv     </td></tr>\n",
       "\t<tr><td>real</td><td>big bang theory' trumps tv audience for latest republican debate</td><td>audience</td><td>audienc</td><td>audienc</td></tr>\n",
       "</tbody>\n",
       "</table>\n"
      ],
      "text/latex": [
       "A tibble: 6 × 5\n",
       "\\begin{tabular}{lllll}\n",
       " y & title & word & stemmed & lemma\\\\\n",
       " <chr> & <chr> & <chr> & <chr> & <chr>\\\\\n",
       "\\hline\n",
       "\t real & big bang theory' trumps tv audience for latest republican debate & big      & big     & big    \\\\\n",
       "\t real & big bang theory' trumps tv audience for latest republican debate & bang     & bang    & bang   \\\\\n",
       "\t real & big bang theory' trumps tv audience for latest republican debate & theory   & theori  & theori \\\\\n",
       "\t real & big bang theory' trumps tv audience for latest republican debate & trumps   & trump   & trump  \\\\\n",
       "\t real & big bang theory' trumps tv audience for latest republican debate & tv       & tv      & tv     \\\\\n",
       "\t real & big bang theory' trumps tv audience for latest republican debate & audience & audienc & audienc\\\\\n",
       "\\end{tabular}\n"
      ],
      "text/markdown": [
       "\n",
       "A tibble: 6 × 5\n",
       "\n",
       "| y &lt;chr&gt; | title &lt;chr&gt; | word &lt;chr&gt; | stemmed &lt;chr&gt; | lemma &lt;chr&gt; |\n",
       "|---|---|---|---|---|\n",
       "| real | big bang theory' trumps tv audience for latest republican debate | big      | big     | big     |\n",
       "| real | big bang theory' trumps tv audience for latest republican debate | bang     | bang    | bang    |\n",
       "| real | big bang theory' trumps tv audience for latest republican debate | theory   | theori  | theori  |\n",
       "| real | big bang theory' trumps tv audience for latest republican debate | trumps   | trump   | trump   |\n",
       "| real | big bang theory' trumps tv audience for latest republican debate | tv       | tv      | tv      |\n",
       "| real | big bang theory' trumps tv audience for latest republican debate | audience | audienc | audienc |\n",
       "\n"
      ],
      "text/plain": [
       "  y    title                                                           \n",
       "1 real big bang theory' trumps tv audience for latest republican debate\n",
       "2 real big bang theory' trumps tv audience for latest republican debate\n",
       "3 real big bang theory' trumps tv audience for latest republican debate\n",
       "4 real big bang theory' trumps tv audience for latest republican debate\n",
       "5 real big bang theory' trumps tv audience for latest republican debate\n",
       "6 real big bang theory' trumps tv audience for latest republican debate\n",
       "  word     stemmed lemma  \n",
       "1 big      big     big    \n",
       "2 bang     bang    bang   \n",
       "3 theory   theori  theori \n",
       "4 trumps   trump   trump  \n",
       "5 tv       tv      tv     \n",
       "6 audience audienc audienc"
      ]
     },
     "metadata": {},
     "output_type": "display_data"
    }
   ],
   "source": [
    "lemmas <- stems %>%\n",
    "  mutate(lemma = lemmatize_words(stemmed))\n",
    "\n",
    "head(lemmas)"
   ]
  },
  {
   "cell_type": "markdown",
   "metadata": {},
   "source": [
    "## Feature engineering\n",
    "\n",
    "**ADD ADDITIONAL FEATURES HERE, INCORPORATE FROM ABOVE?**\n",
    "\n",
    "Now we  calculate TF-IDF. Those scores and all other features are incorporated to a data frame called `X` for later machine learning."
   ]
  },
  {
   "cell_type": "code",
   "execution_count": 45,
   "metadata": {},
   "outputs": [
    {
     "data": {
      "text/html": [
       "<table>\n",
       "<caption>A tibble: 6 × 4</caption>\n",
       "<thead>\n",
       "\t<tr><th scope=col>title</th><th scope=col>y</th><th scope=col>lemma</th><th scope=col>n</th></tr>\n",
       "\t<tr><th scope=col>&lt;chr&gt;</th><th scope=col>&lt;chr&gt;</th><th scope=col>&lt;chr&gt;</th><th scope=col>&lt;int&gt;</th></tr>\n",
       "</thead>\n",
       "<tbody>\n",
       "\t<tr><td>a must watch judge napolitano: “for the first time in the modern era the man in the oval office is an adversary of the deep state and not a tool of it” [video]                                                     </td><td>fake</td><td>the  </td><td>5</td></tr>\n",
       "\t<tr><td>mother of son killed in afghanistan to antiamerican er’s qb colin kaepernick: “my heart is exploding, my lungs are without air, my blood is boiling, my body is shaking, and tears are running down my face” [video]</td><td>fake</td><td>my   </td><td>5</td></tr>\n",
       "\t<tr><td>trumps latest appointee is a climate denier, a racist, a birther, a homophobe, and an islamophobe                                                                                                                   </td><td>fake</td><td>a    </td><td>5</td></tr>\n",
       "\t<tr><td>whoa black woman fed up with black racists nails it: “many black people voted for barack obama simply because he was black…and now your black god has failed you!” [video]                                          </td><td>fake</td><td>black</td><td>5</td></tr>\n",
       "\t<tr><td>andrew breitbart “i don’t care who our candidate is…i will march behind whoever our candidate is, because if we don’t…we lose!”[video]                                                                              </td><td>fake</td><td>i    </td><td>4</td></tr>\n",
       "\t<tr><td>democrats chant warning to gop as trumpcare passes na na na na, hey hey hey, goodbye! (video)                                                                                                                       </td><td>fake</td><td>na   </td><td>4</td></tr>\n",
       "</tbody>\n",
       "</table>\n"
      ],
      "text/latex": [
       "A tibble: 6 × 4\n",
       "\\begin{tabular}{llll}\n",
       " title & y & lemma & n\\\\\n",
       " <chr> & <chr> & <chr> & <int>\\\\\n",
       "\\hline\n",
       "\t a must watch judge napolitano: “for the first time in the modern era the man in the oval office is an adversary of the deep state and not a tool of it” {[}video{]}                                                      & fake & the   & 5\\\\\n",
       "\t mother of son killed in afghanistan to antiamerican er’s qb colin kaepernick: “my heart is exploding, my lungs are without air, my blood is boiling, my body is shaking, and tears are running down my face” {[}video{]} & fake & my    & 5\\\\\n",
       "\t trumps latest appointee is a climate denier, a racist, a birther, a homophobe, and an islamophobe                                                                                                                    & fake & a     & 5\\\\\n",
       "\t whoa black woman fed up with black racists nails it: “many black people voted for barack obama simply because he was black…and now your black god has failed you!” {[}video{]}                                           & fake & black & 5\\\\\n",
       "\t andrew breitbart “i don’t care who our candidate is…i will march behind whoever our candidate is, because if we don’t…we lose!”{[}video{]}                                                                               & fake & i     & 4\\\\\n",
       "\t democrats chant warning to gop as trumpcare passes na na na na, hey hey hey, goodbye! (video)                                                                                                                        & fake & na    & 4\\\\\n",
       "\\end{tabular}\n"
      ],
      "text/markdown": [
       "\n",
       "A tibble: 6 × 4\n",
       "\n",
       "| title &lt;chr&gt; | y &lt;chr&gt; | lemma &lt;chr&gt; | n &lt;int&gt; |\n",
       "|---|---|---|---|\n",
       "| a must watch judge napolitano: “for the first time in the modern era the man in the oval office is an adversary of the deep state and not a tool of it” [video]                                                      | fake | the   | 5 |\n",
       "| mother of son killed in afghanistan to antiamerican er’s qb colin kaepernick: “my heart is exploding, my lungs are without air, my blood is boiling, my body is shaking, and tears are running down my face” [video] | fake | my    | 5 |\n",
       "| trumps latest appointee is a climate denier, a racist, a birther, a homophobe, and an islamophobe                                                                                                                    | fake | a     | 5 |\n",
       "| whoa black woman fed up with black racists nails it: “many black people voted for barack obama simply because he was black…and now your black god has failed you!” [video]                                           | fake | black | 5 |\n",
       "| andrew breitbart “i don’t care who our candidate is…i will march behind whoever our candidate is, because if we don’t…we lose!”[video]                                                                               | fake | i     | 4 |\n",
       "| democrats chant warning to gop as trumpcare passes na na na na, hey hey hey, goodbye! (video)                                                                                                                        | fake | na    | 4 |\n",
       "\n"
      ],
      "text/plain": [
       "  title                                                                                                                                                                                                               \n",
       "1 a must watch judge napolitano: “for the first time in the modern era the man in the oval office is an adversary of the deep state and not a tool of it” [video]                                                     \n",
       "2 mother of son killed in afghanistan to antiamerican er’s qb colin kaepernick: “my heart is exploding, my lungs are without air, my blood is boiling, my body is shaking, and tears are running down my face” [video]\n",
       "3 trumps latest appointee is a climate denier, a racist, a birther, a homophobe, and an islamophobe                                                                                                                   \n",
       "4 whoa black woman fed up with black racists nails it: “many black people voted for barack obama simply because he was black…and now your black god has failed you!” [video]                                          \n",
       "5 andrew breitbart “i don’t care who our candidate is…i will march behind whoever our candidate is, because if we don’t…we lose!”[video]                                                                              \n",
       "6 democrats chant warning to gop as trumpcare passes na na na na, hey hey hey, goodbye! (video)                                                                                                                       \n",
       "  y    lemma n\n",
       "1 fake the   5\n",
       "2 fake my    5\n",
       "3 fake a     5\n",
       "4 fake black 5\n",
       "5 fake i     4\n",
       "6 fake na    4"
      ]
     },
     "metadata": {},
     "output_type": "display_data"
    }
   ],
   "source": [
    "token_count <- lemmas %>%\n",
    "  count(title, y, lemma, sort=TRUE) %>%\n",
    "  ungroup()\n",
    "head(token_count)"
   ]
  },
  {
   "cell_type": "code",
   "execution_count": 46,
   "metadata": {},
   "outputs": [
    {
     "data": {
      "text/html": [
       "<table>\n",
       "<caption>A grouped_df: 6 × 4</caption>\n",
       "<thead>\n",
       "\t<tr><th scope=col>title</th><th scope=col>y</th><th scope=col>total</th><th scope=col>.groups</th></tr>\n",
       "\t<tr><th scope=col>&lt;chr&gt;</th><th scope=col>&lt;chr&gt;</th><th scope=col>&lt;int&gt;</th><th scope=col>&lt;chr&gt;</th></tr>\n",
       "</thead>\n",
       "<tbody>\n",
       "\t<tr><td>000 ma drug cases could be thrown out because of drug stealing lab scandal                      </td><td>fake</td><td>39</td><td>keep</td></tr>\n",
       "\t<tr><td>700 syrian refugees approved resettlement to u.s.: homeland security chief                      </td><td>real</td><td>27</td><td>keep</td></tr>\n",
       "\t<tr><td>a $000 free-for-all for minorities in the biggest obama scandal yet                             </td><td>fake</td><td>36</td><td>keep</td></tr>\n",
       "\t<tr><td>a bipartisan miracle: federal employee health plans add critical autism benefit                 </td><td>fake</td><td>30</td><td>keep</td></tr>\n",
       "\t<tr><td>a breakfast in harlem underscores key challenge for white house hopeful sanders                 </td><td>real</td><td>33</td><td>keep</td></tr>\n",
       "\t<tr><td>a bunch of dumb white racists will picket nfl offices because beyonce gave them butthurt images)</td><td>fake</td><td>45</td><td>keep</td></tr>\n",
       "</tbody>\n",
       "</table>\n"
      ],
      "text/latex": [
       "A grouped\\_df: 6 × 4\n",
       "\\begin{tabular}{llll}\n",
       " title & y & total & .groups\\\\\n",
       " <chr> & <chr> & <int> & <chr>\\\\\n",
       "\\hline\n",
       "\t 000 ma drug cases could be thrown out because of drug stealing lab scandal                       & fake & 39 & keep\\\\\n",
       "\t 700 syrian refugees approved resettlement to u.s.: homeland security chief                       & real & 27 & keep\\\\\n",
       "\t a \\$000 free-for-all for minorities in the biggest obama scandal yet                              & fake & 36 & keep\\\\\n",
       "\t a bipartisan miracle: federal employee health plans add critical autism benefit                  & fake & 30 & keep\\\\\n",
       "\t a breakfast in harlem underscores key challenge for white house hopeful sanders                  & real & 33 & keep\\\\\n",
       "\t a bunch of dumb white racists will picket nfl offices because beyonce gave them butthurt images) & fake & 45 & keep\\\\\n",
       "\\end{tabular}\n"
      ],
      "text/markdown": [
       "\n",
       "A grouped_df: 6 × 4\n",
       "\n",
       "| title &lt;chr&gt; | y &lt;chr&gt; | total &lt;int&gt; | .groups &lt;chr&gt; |\n",
       "|---|---|---|---|\n",
       "| 000 ma drug cases could be thrown out because of drug stealing lab scandal                       | fake | 39 | keep |\n",
       "| 700 syrian refugees approved resettlement to u.s.: homeland security chief                       | real | 27 | keep |\n",
       "| a $000 free-for-all for minorities in the biggest obama scandal yet                              | fake | 36 | keep |\n",
       "| a bipartisan miracle: federal employee health plans add critical autism benefit                  | fake | 30 | keep |\n",
       "| a breakfast in harlem underscores key challenge for white house hopeful sanders                  | real | 33 | keep |\n",
       "| a bunch of dumb white racists will picket nfl offices because beyonce gave them butthurt images) | fake | 45 | keep |\n",
       "\n"
      ],
      "text/plain": [
       "  title                                                                                           \n",
       "1 000 ma drug cases could be thrown out because of drug stealing lab scandal                      \n",
       "2 700 syrian refugees approved resettlement to u.s.: homeland security chief                      \n",
       "3 a $000 free-for-all for minorities in the biggest obama scandal yet                             \n",
       "4 a bipartisan miracle: federal employee health plans add critical autism benefit                 \n",
       "5 a breakfast in harlem underscores key challenge for white house hopeful sanders                 \n",
       "6 a bunch of dumb white racists will picket nfl offices because beyonce gave them butthurt images)\n",
       "  y    total .groups\n",
       "1 fake 39    keep   \n",
       "2 real 27    keep   \n",
       "3 fake 36    keep   \n",
       "4 fake 30    keep   \n",
       "5 real 33    keep   \n",
       "6 fake 45    keep   "
      ]
     },
     "metadata": {},
     "output_type": "display_data"
    }
   ],
   "source": [
    "total_words <- token_count %>%\n",
    "  group_by(title, y) %>%\n",
    "  summarise(total = sum(n), .groups='keep')\n",
    "head(total_words)"
   ]
  },
  {
   "cell_type": "code",
   "execution_count": 47,
   "metadata": {},
   "outputs": [
    {
     "data": {
      "text/html": [
       "<table>\n",
       "<caption>A tibble: 6 × 7</caption>\n",
       "<thead>\n",
       "\t<tr><th scope=col>title</th><th scope=col>y</th><th scope=col>lemma</th><th scope=col>n</th><th scope=col>tf</th><th scope=col>idf</th><th scope=col>tf_idf</th></tr>\n",
       "\t<tr><th scope=col>&lt;chr&gt;</th><th scope=col>&lt;chr&gt;</th><th scope=col>&lt;chr&gt;</th><th scope=col>&lt;int&gt;</th><th scope=col>&lt;dbl&gt;</th><th scope=col>&lt;dbl&gt;</th><th scope=col>&lt;dbl&gt;</th></tr>\n",
       "</thead>\n",
       "<tbody>\n",
       "\t<tr><td>a must watch judge napolitano: “for the first time in the modern era the man in the oval office is an adversary of the deep state and not a tool of it” [video]                                                     </td><td>fake</td><td>the  </td><td>5</td><td>0.05208333</td><td>1.856464</td><td>0.09669081</td></tr>\n",
       "\t<tr><td>mother of son killed in afghanistan to antiamerican er’s qb colin kaepernick: “my heart is exploding, my lungs are without air, my blood is boiling, my body is shaking, and tears are running down my face” [video]</td><td>fake</td><td>my   </td><td>5</td><td>0.04629630</td><td>5.250619</td><td>0.24308420</td></tr>\n",
       "\t<tr><td>trumps latest appointee is a climate denier, a racist, a birther, a homophobe, and an islamophobe                                                                                                                   </td><td>fake</td><td>a    </td><td>5</td><td>0.11111111</td><td>1.887567</td><td>0.20972962</td></tr>\n",
       "\t<tr><td>whoa black woman fed up with black racists nails it: “many black people voted for barack obama simply because he was black…and now your black god has failed you!” [video]                                          </td><td>fake</td><td>black</td><td>5</td><td>0.05555556</td><td>3.691551</td><td>0.20508618</td></tr>\n",
       "\t<tr><td>andrew breitbart “i don’t care who our candidate is…i will march behind whoever our candidate is, because if we don’t…we lose!”[video]                                                                              </td><td>fake</td><td>i    </td><td>4</td><td>0.05797101</td><td>2.472563</td><td>0.14333696</td></tr>\n",
       "\t<tr><td>melania thanks troops for sacrifices at easter egg rollflashback to : “peanut crew” had to remind michelle obama to mention troops, after using easter speech to brag about all of their accomplishments [video]    </td><td>fake</td><td>to   </td><td>4</td><td>0.04301075</td><td>1.092284</td><td>0.04697996</td></tr>\n",
       "</tbody>\n",
       "</table>\n"
      ],
      "text/latex": [
       "A tibble: 6 × 7\n",
       "\\begin{tabular}{lllllll}\n",
       " title & y & lemma & n & tf & idf & tf\\_idf\\\\\n",
       " <chr> & <chr> & <chr> & <int> & <dbl> & <dbl> & <dbl>\\\\\n",
       "\\hline\n",
       "\t a must watch judge napolitano: “for the first time in the modern era the man in the oval office is an adversary of the deep state and not a tool of it” {[}video{]}                                                      & fake & the   & 5 & 0.05208333 & 1.856464 & 0.09669081\\\\\n",
       "\t mother of son killed in afghanistan to antiamerican er’s qb colin kaepernick: “my heart is exploding, my lungs are without air, my blood is boiling, my body is shaking, and tears are running down my face” {[}video{]} & fake & my    & 5 & 0.04629630 & 5.250619 & 0.24308420\\\\\n",
       "\t trumps latest appointee is a climate denier, a racist, a birther, a homophobe, and an islamophobe                                                                                                                    & fake & a     & 5 & 0.11111111 & 1.887567 & 0.20972962\\\\\n",
       "\t whoa black woman fed up with black racists nails it: “many black people voted for barack obama simply because he was black…and now your black god has failed you!” {[}video{]}                                           & fake & black & 5 & 0.05555556 & 3.691551 & 0.20508618\\\\\n",
       "\t andrew breitbart “i don’t care who our candidate is…i will march behind whoever our candidate is, because if we don’t…we lose!”{[}video{]}                                                                               & fake & i     & 4 & 0.05797101 & 2.472563 & 0.14333696\\\\\n",
       "\t melania thanks troops for sacrifices at easter egg rollflashback to : “peanut crew” had to remind michelle obama to mention troops, after using easter speech to brag about all of their accomplishments {[}video{]}     & fake & to    & 4 & 0.04301075 & 1.092284 & 0.04697996\\\\\n",
       "\\end{tabular}\n"
      ],
      "text/markdown": [
       "\n",
       "A tibble: 6 × 7\n",
       "\n",
       "| title &lt;chr&gt; | y &lt;chr&gt; | lemma &lt;chr&gt; | n &lt;int&gt; | tf &lt;dbl&gt; | idf &lt;dbl&gt; | tf_idf &lt;dbl&gt; |\n",
       "|---|---|---|---|---|---|---|\n",
       "| a must watch judge napolitano: “for the first time in the modern era the man in the oval office is an adversary of the deep state and not a tool of it” [video]                                                      | fake | the   | 5 | 0.05208333 | 1.856464 | 0.09669081 |\n",
       "| mother of son killed in afghanistan to antiamerican er’s qb colin kaepernick: “my heart is exploding, my lungs are without air, my blood is boiling, my body is shaking, and tears are running down my face” [video] | fake | my    | 5 | 0.04629630 | 5.250619 | 0.24308420 |\n",
       "| trumps latest appointee is a climate denier, a racist, a birther, a homophobe, and an islamophobe                                                                                                                    | fake | a     | 5 | 0.11111111 | 1.887567 | 0.20972962 |\n",
       "| whoa black woman fed up with black racists nails it: “many black people voted for barack obama simply because he was black…and now your black god has failed you!” [video]                                           | fake | black | 5 | 0.05555556 | 3.691551 | 0.20508618 |\n",
       "| andrew breitbart “i don’t care who our candidate is…i will march behind whoever our candidate is, because if we don’t…we lose!”[video]                                                                               | fake | i     | 4 | 0.05797101 | 2.472563 | 0.14333696 |\n",
       "| melania thanks troops for sacrifices at easter egg rollflashback to : “peanut crew” had to remind michelle obama to mention troops, after using easter speech to brag about all of their accomplishments [video]     | fake | to    | 4 | 0.04301075 | 1.092284 | 0.04697996 |\n",
       "\n"
      ],
      "text/plain": [
       "  title                                                                                                                                                                                                               \n",
       "1 a must watch judge napolitano: “for the first time in the modern era the man in the oval office is an adversary of the deep state and not a tool of it” [video]                                                     \n",
       "2 mother of son killed in afghanistan to antiamerican er’s qb colin kaepernick: “my heart is exploding, my lungs are without air, my blood is boiling, my body is shaking, and tears are running down my face” [video]\n",
       "3 trumps latest appointee is a climate denier, a racist, a birther, a homophobe, and an islamophobe                                                                                                                   \n",
       "4 whoa black woman fed up with black racists nails it: “many black people voted for barack obama simply because he was black…and now your black god has failed you!” [video]                                          \n",
       "5 andrew breitbart “i don’t care who our candidate is…i will march behind whoever our candidate is, because if we don’t…we lose!”[video]                                                                              \n",
       "6 melania thanks troops for sacrifices at easter egg rollflashback to : “peanut crew” had to remind michelle obama to mention troops, after using easter speech to brag about all of their accomplishments [video]    \n",
       "  y    lemma n tf         idf      tf_idf    \n",
       "1 fake the   5 0.05208333 1.856464 0.09669081\n",
       "2 fake my    5 0.04629630 5.250619 0.24308420\n",
       "3 fake a     5 0.11111111 1.887567 0.20972962\n",
       "4 fake black 5 0.05555556 3.691551 0.20508618\n",
       "5 fake i     4 0.05797101 2.472563 0.14333696\n",
       "6 fake to    4 0.04301075 1.092284 0.04697996"
      ]
     },
     "metadata": {},
     "output_type": "display_data"
    }
   ],
   "source": [
    "token_count <- token_count %>%\n",
    "  bind_tf_idf(lemma, title, n)\n",
    "\n",
    "# Remove tokens with less than 10 instances\n",
    "tc <- token_count %>%\n",
    "  group_by(lemma) %>%\n",
    "  summarise(n=sum(n), .groups='keep') %>%\n",
    "  filter(n > 10)\n",
    "\n",
    "token_count <- token_count %>%\n",
    "  filter(lemma %in% tc$lemma)\n",
    "\n",
    "head(token_count)"
   ]
  },
  {
   "cell_type": "code",
   "execution_count": 48,
   "metadata": {},
   "outputs": [],
   "source": [
    "# Make into a wide, tidy data frame for machine learning\n",
    "X <- token_count %>%\n",
    "  select(title, y, lemma, tf_idf) %>% \n",
    "  filter(lemma != 'title',\n",
    "         lemma != 'y') %>%  # remove because I'm already using 'title' and 'y'\n",
    "  unique() %>%  \n",
    "  tidyr::spread(lemma, tf_idf) %>%\n",
    "  janitor::clean_names() %>%  # VERY HANDY FUNCTION!\n",
    "  replace(is.na(.), 0) %>%\n",
    "  select(-contains('_2'))"
   ]
  },
  {
   "cell_type": "code",
   "execution_count": 49,
   "metadata": {},
   "outputs": [
    {
     "data": {
      "text/html": [
       "<style>\n",
       ".list-inline {list-style: none; margin:0; padding: 0}\n",
       ".list-inline>li {display: inline-block}\n",
       ".list-inline>li:not(:last-child)::after {content: \"\\00b7\"; padding: 0 .5ex}\n",
       "</style>\n",
       "<ol class=list-inline><li>10868</li><li>2607</li></ol>\n"
      ],
      "text/latex": [
       "\\begin{enumerate*}\n",
       "\\item 10868\n",
       "\\item 2607\n",
       "\\end{enumerate*}\n"
      ],
      "text/markdown": [
       "1. 10868\n",
       "2. 2607\n",
       "\n",
       "\n"
      ],
      "text/plain": [
       "[1] 10868  2607"
      ]
     },
     "metadata": {},
     "output_type": "display_data"
    },
    {
     "data": {
      "text/html": [
       "<table>\n",
       "<caption>A tibble: 6 × 6</caption>\n",
       "<thead>\n",
       "\t<tr><th scope=col>title</th><th scope=col>y</th><th scope=col>doe</th><th scope=col>face</th><th scope=col>forward</th><th scope=col>here</th></tr>\n",
       "\t<tr><th scope=col>&lt;chr&gt;</th><th scope=col>&lt;chr&gt;</th><th scope=col>&lt;dbl&gt;</th><th scope=col>&lt;dbl&gt;</th><th scope=col>&lt;dbl&gt;</th><th scope=col>&lt;dbl&gt;</th></tr>\n",
       "</thead>\n",
       "<tbody>\n",
       "\t<tr><td>000 ma drug cases could be thrown out because of drug stealing lab scandal                      </td><td>fake</td><td>0</td><td>0</td><td>0</td><td>0</td></tr>\n",
       "\t<tr><td>700 syrian refugees approved resettlement to u.s.: homeland security chief                      </td><td>real</td><td>0</td><td>0</td><td>0</td><td>0</td></tr>\n",
       "\t<tr><td>a $000 free-for-all for minorities in the biggest obama scandal yet                             </td><td>fake</td><td>0</td><td>0</td><td>0</td><td>0</td></tr>\n",
       "\t<tr><td>a bipartisan miracle: federal employee health plans add critical autism benefit                 </td><td>fake</td><td>0</td><td>0</td><td>0</td><td>0</td></tr>\n",
       "\t<tr><td>a breakfast in harlem underscores key challenge for white house hopeful sanders                 </td><td>real</td><td>0</td><td>0</td><td>0</td><td>0</td></tr>\n",
       "\t<tr><td>a bunch of dumb white racists will picket nfl offices because beyonce gave them butthurt images)</td><td>fake</td><td>0</td><td>0</td><td>0</td><td>0</td></tr>\n",
       "</tbody>\n",
       "</table>\n"
      ],
      "text/latex": [
       "A tibble: 6 × 6\n",
       "\\begin{tabular}{llllll}\n",
       " title & y & doe & face & forward & here\\\\\n",
       " <chr> & <chr> & <dbl> & <dbl> & <dbl> & <dbl>\\\\\n",
       "\\hline\n",
       "\t 000 ma drug cases could be thrown out because of drug stealing lab scandal                       & fake & 0 & 0 & 0 & 0\\\\\n",
       "\t 700 syrian refugees approved resettlement to u.s.: homeland security chief                       & real & 0 & 0 & 0 & 0\\\\\n",
       "\t a \\$000 free-for-all for minorities in the biggest obama scandal yet                              & fake & 0 & 0 & 0 & 0\\\\\n",
       "\t a bipartisan miracle: federal employee health plans add critical autism benefit                  & fake & 0 & 0 & 0 & 0\\\\\n",
       "\t a breakfast in harlem underscores key challenge for white house hopeful sanders                  & real & 0 & 0 & 0 & 0\\\\\n",
       "\t a bunch of dumb white racists will picket nfl offices because beyonce gave them butthurt images) & fake & 0 & 0 & 0 & 0\\\\\n",
       "\\end{tabular}\n"
      ],
      "text/markdown": [
       "\n",
       "A tibble: 6 × 6\n",
       "\n",
       "| title &lt;chr&gt; | y &lt;chr&gt; | doe &lt;dbl&gt; | face &lt;dbl&gt; | forward &lt;dbl&gt; | here &lt;dbl&gt; |\n",
       "|---|---|---|---|---|---|\n",
       "| 000 ma drug cases could be thrown out because of drug stealing lab scandal                       | fake | 0 | 0 | 0 | 0 |\n",
       "| 700 syrian refugees approved resettlement to u.s.: homeland security chief                       | real | 0 | 0 | 0 | 0 |\n",
       "| a $000 free-for-all for minorities in the biggest obama scandal yet                              | fake | 0 | 0 | 0 | 0 |\n",
       "| a bipartisan miracle: federal employee health plans add critical autism benefit                  | fake | 0 | 0 | 0 | 0 |\n",
       "| a breakfast in harlem underscores key challenge for white house hopeful sanders                  | real | 0 | 0 | 0 | 0 |\n",
       "| a bunch of dumb white racists will picket nfl offices because beyonce gave them butthurt images) | fake | 0 | 0 | 0 | 0 |\n",
       "\n"
      ],
      "text/plain": [
       "  title                                                                                           \n",
       "1 000 ma drug cases could be thrown out because of drug stealing lab scandal                      \n",
       "2 700 syrian refugees approved resettlement to u.s.: homeland security chief                      \n",
       "3 a $000 free-for-all for minorities in the biggest obama scandal yet                             \n",
       "4 a bipartisan miracle: federal employee health plans add critical autism benefit                 \n",
       "5 a breakfast in harlem underscores key challenge for white house hopeful sanders                 \n",
       "6 a bunch of dumb white racists will picket nfl offices because beyonce gave them butthurt images)\n",
       "  y    doe face forward here\n",
       "1 fake 0   0    0       0   \n",
       "2 real 0   0    0       0   \n",
       "3 fake 0   0    0       0   \n",
       "4 fake 0   0    0       0   \n",
       "5 real 0   0    0       0   \n",
       "6 fake 0   0    0       0   "
      ]
     },
     "metadata": {},
     "output_type": "display_data"
    },
    {
     "data": {
      "text/plain": [
       "\n",
       "     fake      real \n",
       "0.6224696 0.3775304 "
      ]
     },
     "metadata": {},
     "output_type": "display_data"
    }
   ],
   "source": [
    "dim(X)\n",
    "head(X[, c(1,2,601, 709, 804, 945)])\n",
    "prop.table(table(X$y))"
   ]
  },
  {
   "cell_type": "markdown",
   "metadata": {},
   "source": [
    "Our final TF-IDF matrix has almost 39,000 articles (rows), 4156 token TF-IDF scores (columns), and a reasonably balanced distribution of fake and real news.\n",
    "\n",
    "**ADD ADDITIONAL FEATURES HERE!**"
   ]
  },
  {
   "cell_type": "markdown",
   "metadata": {},
   "source": [
    "## Modeling\n",
    "\n",
    "With almost 14,000 potential variable, we would like to drop those to a more reasonable set. First, remove low variance using the ratio of a variable's unique values to its sample size. By default, `nearZeroVar` suggests all the variables have sparse variancel; this is fixed by modifying the default value for `uniqueCut`:"
   ]
  },
  {
   "cell_type": "code",
   "execution_count": null,
   "metadata": {},
   "outputs": [],
   "source": []
  },
  {
   "cell_type": "code",
   "execution_count": 50,
   "metadata": {},
   "outputs": [
    {
     "name": "stdout",
     "output_type": "stream",
     "text": [
      "   [1]    3    8    9   10   12   13   14   15   16   17   18   19   20   21\n",
      "  [15]   22   23   24   25   28   29   30   31   32   33   35   37   39   40\n",
      "  [29]   41   42   43   46   48   49   51   53   54   55   58   59   60   61\n",
      "  [43]   63   64   65   66   68   69   70   71   72   74   78   81   83   84\n",
      "  [57]   85   87   88   90   91   93   94   95   98   99  100  102  104  105\n",
      "  [71]  106  107  110  111  113  114  115  116  118  119  120  121  122  124\n",
      "  [85]  125  126  127  131  134  136  138  139  140  141  142  143  145  148\n",
      "  [99]  150  151  153  155  156  159  160  161  162  163  165  166  167  168\n",
      " [113]  171  172  173  175  177  179  185  186  188  189  191  192  194  195\n",
      " [127]  197  198  199  201  202  203  204  206  208  210  211  213  214  215\n",
      " [141]  216  218  220  221  222  224  226  227  229  231  232  233  234  235\n",
      " [155]  238  239  240  241  242  243  246  249  250  251  252  255  256  257\n",
      " [169]  261  262  263  266  268  269  271  272  274  275  276  279  282  284\n",
      " [183]  285  286  287  288  289  291  292  293  294  295  296  297  298  300\n",
      " [197]  301  302  304  305  306  308  309  310  317  318  319  320  321  322\n",
      " [211]  323  325  326  328  330  331  332  334  335  337  339  340  341  342\n",
      " [225]  344  345  346  347  350  352  353  354  355  359  360  362  363  365\n",
      " [239]  368  369  370  371  373  374  376  377  378  379  382  384  386  388\n",
      " [253]  389  390  391  393  394  395  397  398  400  401  402  403  405  408\n",
      " [267]  409  411  413  414  416  418  419  420  421  422  423  425  427  428\n",
      " [281]  429  430  431  432  433  435  436  440  442  443  445  448  449  450\n",
      " [295]  451  452  453  454  455  456  458  459  460  461  462  464  465  466\n",
      " [309]  467  468  469  470  472  474  476  478  479  481  483  484  485  487\n",
      " [323]  488  490  491  492  493  495  496  498  499  500  501  503  506  508\n",
      " [337]  510  511  512  513  514  515  516  518  521  522  523  524  525  526\n",
      " [351]  528  529  531  536  538  539  540  542  543  544  545  546  548  549\n",
      " [365]  550  551  553  557  558  559  560  564  565  566  567  569  570  572\n",
      " [379]  573  575  576  578  580  581  583  584  585  586  589  590  591  592\n",
      " [393]  593  594  595  596  599  600  602  604  605  606  607  611  612  613\n",
      " [407]  616  617  618  620  621  622  623  624  625  626  629  630  631  632\n",
      " [421]  634  635  636  637  638  639  640  641  643  645  647  649  650  651\n",
      " [435]  654  655  659  660  661  662  663  664  665  666  667  669  671  672\n",
      " [449]  673  674  675  677  682  683  684  685  686  687  688  689  690  691\n",
      " [463]  692  694  695  696  697  698  699  701  703  704  708  712  713  714\n",
      " [477]  715  722  723  724  726  727  730  731  734  735  738  740  742  744\n",
      " [491]  746  747  749  750  751  753  755  756  757  758  759  760  761  762\n",
      " [505]  765  766  767  768  770  771  772  773  774  775  777  778  779  780\n",
      " [519]  781  782  784  785  786  787  788  789  791  793  794  795  796  800\n",
      " [533]  801  802  804  805  806  807  809  811  812  814  816  817  818  821\n",
      " [547]  822  823  824  825  826  828  829  831  833  834  835  837  838  839\n",
      " [561]  840  843  844  846  848  849  851  852  854  857  859  860  862  864\n",
      " [575]  865  866  867  868  869  873  874  875  876  878  879  880  882  883\n",
      " [589]  884  885  886  887  890  891  894  895  896  897  898  899  900  902\n",
      " [603]  904  905  906  907  909  910  912  913  914  915  916  919  920  921\n",
      " [617]  923  924  926  927  928  929  932  935  937  938  939  940  946  947\n",
      " [631]  948  949  950  952  953  954  955  956  957  959  961  963  965  968\n",
      " [645]  969  970  971  972  975  976  977  978  979  980  981  983  987  988\n",
      " [659]  989  991  993  995  997  998  999 1000 1001 1002 1003 1004 1006 1007\n",
      " [673] 1008 1009 1012 1013 1014 1015 1016 1019 1020 1021 1024 1025 1026 1028\n",
      " [687] 1029 1030 1031 1033 1036 1037 1039 1041 1042 1043 1048 1049 1050 1051\n",
      " [701] 1053 1054 1055 1056 1057 1058 1059 1060 1061 1063 1064 1065 1066 1068\n",
      " [715] 1069 1070 1072 1074 1075 1076 1077 1078 1079 1080 1081 1082 1083 1084\n",
      " [729] 1086 1087 1089 1090 1091 1092 1093 1094 1095 1098 1099 1100 1103 1105\n",
      " [743] 1106 1107 1109 1110 1112 1113 1114 1115 1117 1120 1121 1122 1123 1124\n",
      " [757] 1125 1127 1128 1131 1134 1136 1137 1139 1140 1142 1143 1144 1145 1146\n",
      " [771] 1147 1148 1149 1150 1151 1153 1154 1156 1157 1158 1160 1161 1163 1166\n",
      " [785] 1167 1169 1170 1171 1172 1173 1174 1175 1177 1179 1180 1181 1182 1184\n",
      " [799] 1187 1188 1189 1193 1194 1195 1196 1197 1198 1200 1202 1203 1204 1205\n",
      " [813] 1206 1207 1208 1209 1210 1211 1214 1215 1216 1218 1223 1224 1228 1230\n",
      " [827] 1232 1233 1236 1237 1238 1239 1241 1244 1245 1247 1248 1251 1252 1254\n",
      " [841] 1257 1258 1260 1263 1264 1266 1269 1270 1272 1273 1274 1278 1279 1280\n",
      " [855] 1281 1282 1284 1285 1286 1290 1291 1293 1295 1296 1298 1299 1300 1301\n",
      " [869] 1302 1304 1305 1306 1307 1309 1311 1312 1313 1314 1315 1316 1319 1321\n",
      " [883] 1322 1323 1324 1327 1328 1329 1330 1331 1332 1334 1335 1337 1338 1340\n",
      " [897] 1346 1347 1348 1353 1354 1357 1358 1359 1361 1362 1364 1365 1366 1367\n",
      " [911] 1368 1369 1370 1371 1372 1373 1374 1375 1378 1382 1385 1386 1387 1388\n",
      " [925] 1391 1392 1394 1398 1400 1402 1403 1404 1406 1407 1408 1410 1411 1412\n",
      " [939] 1414 1415 1416 1417 1418 1420 1422 1423 1424 1425 1428 1429 1430 1431\n",
      " [953] 1433 1434 1435 1436 1437 1438 1439 1441 1442 1443 1447 1448 1450 1451\n",
      " [967] 1452 1455 1456 1457 1459 1460 1463 1464 1467 1468 1470 1471 1472 1473\n",
      " [981] 1474 1475 1476 1477 1479 1481 1482 1483 1485 1486 1487 1488 1489 1490\n",
      " [995] 1491 1492 1493 1494 1497 1500 1501 1503 1504 1505 1506 1509 1510 1511\n",
      "[1009] 1512 1514 1516 1517 1518 1519 1520 1521 1522 1523 1524 1525 1526 1527\n",
      "[1023] 1528 1529 1530 1533 1536 1537 1538 1539 1540 1544 1545 1546 1547 1550\n",
      "[1037] 1551 1553 1554 1555 1558 1560 1562 1564 1565 1567 1568 1570 1571 1574\n",
      "[1051] 1575 1576 1578 1579 1580 1581 1583 1584 1585 1586 1588 1590 1592 1593\n",
      "[1065] 1594 1595 1600 1601 1602 1605 1606 1608 1609 1610 1611 1612 1613 1615\n",
      "[1079] 1616 1617 1619 1621 1623 1624 1625 1626 1630 1631 1632 1634 1635 1636\n",
      "[1093] 1637 1639 1641 1645 1647 1648 1649 1650 1651 1652 1655 1658 1659 1660\n",
      "[1107] 1662 1663 1666 1668 1669 1670 1672 1673 1674 1675 1676 1677 1678 1679\n",
      "[1121] 1680 1681 1682 1684 1685 1688 1690 1691 1692 1694 1695 1696 1697 1699\n",
      "[1135] 1700 1702 1703 1708 1709 1710 1712 1714 1718 1720 1721 1723 1724 1725\n",
      "[1149] 1729 1732 1735 1737 1738 1739 1740 1742 1743 1745 1746 1749 1750 1753\n",
      "[1163] 1754 1755 1758 1759 1760 1761 1762 1763 1764 1765 1766 1767 1768 1770\n",
      "[1177] 1771 1772 1773 1774 1776 1777 1778 1779 1781 1783 1784 1785 1786 1787\n",
      "[1191] 1788 1789 1790 1791 1792 1793 1794 1795 1796 1797 1798 1800 1802 1804\n",
      "[1205] 1805 1806 1808 1809 1810 1811 1812 1813 1814 1815 1816 1817 1818 1820\n",
      "[1219] 1821 1822 1825 1826 1827 1828 1829 1830 1831 1832 1833 1834 1836 1837\n",
      "[1233] 1839 1842 1843 1845 1846 1847 1849 1851 1854 1855 1856 1857 1858 1859\n",
      "[1247] 1861 1862 1863 1865 1868 1869 1870 1871 1872 1873 1874 1875 1877 1878\n",
      "[1261] 1880 1881 1882 1883 1884 1885 1886 1887 1888 1889 1890 1891 1892 1895\n",
      "[1275] 1897 1898 1899 1901 1903 1904 1907 1908 1909 1910 1911 1913 1914 1915\n",
      "[1289] 1916 1917 1918 1919 1922 1923 1926 1928 1929 1930 1931 1932 1933 1936\n",
      "[1303] 1937 1940 1941 1944 1946 1947 1949 1950 1952 1954 1955 1956 1957 1958\n",
      "[1317] 1959 1960 1961 1963 1964 1965 1966 1967 1968 1969 1974 1976 1977 1979\n",
      "[1331] 1980 1981 1982 1984 1985 1986 1988 1989 1990 1992 1993 1996 1997 1998\n",
      "[1345] 2000 2001 2002 2005 2006 2012 2014 2016 2017 2018 2019 2020 2021 2023\n",
      "[1359] 2024 2026 2029 2030 2032 2033 2034 2036 2038 2039 2040 2042 2043 2044\n",
      "[1373] 2046 2048 2049 2051 2053 2054 2055 2056 2058 2059 2060 2061 2062 2063\n",
      "[1387] 2065 2066 2068 2069 2072 2073 2074 2075 2078 2079 2080 2081 2082 2083\n",
      "[1401] 2084 2085 2086 2087 2089 2090 2092 2093 2094 2095 2096 2097 2099 2101\n",
      "[1415] 2102 2103 2104 2105 2109 2110 2111 2113 2114 2115 2116 2117 2118 2119\n",
      "[1429] 2120 2121 2122 2123 2125 2126 2127 2128 2129 2130 2131 2132 2133 2134\n",
      "[1443] 2135 2136 2137 2138 2139 2140 2144 2145 2147 2149 2156 2157 2158 2159\n",
      "[1457] 2160 2162 2164 2165 2166 2169 2171 2172 2174 2175 2177 2179 2180 2181\n",
      "[1471] 2183 2184 2185 2186 2187 2188 2189 2190 2191 2192 2193 2195 2196 2197\n",
      "[1485] 2199 2201 2202 2203 2205 2206 2207 2208 2209 2211 2212 2213 2215 2216\n",
      "[1499] 2217 2218 2219 2220 2221 2222 2223 2224 2225 2226 2228 2229 2230 2231\n",
      "[1513] 2233 2234 2236 2239 2240 2241 2242 2244 2245 2246 2248 2249 2252 2253\n",
      "[1527] 2254 2255 2256 2258 2259 2261 2262 2263 2264 2265 2266 2268 2269 2271\n",
      "[1541] 2272 2273 2274 2275 2276 2278 2279 2282 2283 2284 2285 2286 2287 2288\n",
      "[1555] 2291 2292 2294 2296 2297 2298 2299 2300 2301 2302 2303 2304 2305 2306\n",
      "[1569] 2307 2309 2310 2311 2315 2316 2317 2318 2319 2320 2321 2323 2324 2325\n",
      "[1583] 2326 2327 2330 2331 2332 2334 2335 2336 2338 2339 2340 2341 2342 2343\n",
      "[1597] 2344 2345 2346 2348 2349 2350 2351 2354 2355 2357 2358 2359 2361 2362\n",
      "[1611] 2364 2367 2368 2375 2376 2377 2378 2379 2381 2382 2383 2384 2385 2387\n",
      "[1625] 2388 2389 2390 2391 2392 2393 2394 2396 2398 2399 2400 2401 2403 2404\n",
      "[1639] 2405 2406 2407 2408 2409 2410 2411 2412 2413 2414 2415 2416 2417 2418\n",
      "[1653] 2419 2421 2422 2426 2427 2428 2432 2433 2434 2435 2437 2438 2441 2442\n",
      "[1667] 2444 2446 2447 2450 2451 2452 2453 2456 2457 2459 2460 2461 2462 2463\n",
      "[1681] 2465 2468 2469 2471 2474 2475 2476 2478 2479 2481 2483 2485 2486 2487\n",
      "[1695] 2489 2490 2491 2492 2493 2494 2495 2496 2497 2498 2499 2500 2501 2502\n",
      "[1709] 2504 2506 2510 2512 2513 2514 2515 2516 2518 2519 2520 2521 2523 2525\n",
      "[1723] 2526 2528 2529 2532 2533 2534 2536 2538 2540 2541 2542 2547 2548 2550\n",
      "[1737] 2551 2552 2553 2554 2555 2556 2558 2559 2560 2561 2562 2563 2565 2567\n",
      "[1751] 2568 2569 2571 2573 2579 2580 2581 2583 2586 2587 2588 2589 2592 2593\n",
      "[1765] 2595 2596 2599 2600 2601 2607\n"
     ]
    }
   ],
   "source": [
    "# Remove low variance variables\n",
    "low_variance <- nearZeroVar(X, uniqueCut=.12)\n",
    "print(low_variance)"
   ]
  },
  {
   "cell_type": "code",
   "execution_count": 51,
   "metadata": {},
   "outputs": [
    {
     "data": {
      "text/html": [
       "1770"
      ],
      "text/latex": [
       "1770"
      ],
      "text/markdown": [
       "1770"
      ],
      "text/plain": [
       "[1] 1770"
      ]
     },
     "metadata": {},
     "output_type": "display_data"
    }
   ],
   "source": [
    "length(low_variance)"
   ]
  },
  {
   "cell_type": "code",
   "execution_count": 52,
   "metadata": {},
   "outputs": [
    {
     "data": {
      "text/html": [
       "837"
      ],
      "text/latex": [
       "837"
      ],
      "text/markdown": [
       "837"
      ],
      "text/plain": [
       "[1] 837"
      ]
     },
     "metadata": {},
     "output_type": "display_data"
    }
   ],
   "source": [
    "X <- X[,-low_variance]\n",
    "ncol(X)"
   ]
  },
  {
   "cell_type": "code",
   "execution_count": null,
   "metadata": {},
   "outputs": [],
   "source": []
  },
  {
   "cell_type": "markdown",
   "metadata": {},
   "source": [
    "### Random Forest\n",
    "\n",
    "**TEMPLATE FOR MODELING**\n",
    "\n",
    "Using the `ranger`  package, a faster and more modern implementation of random forests\n",
    "\n",
    "Maximize for ROC:"
   ]
  },
  {
   "cell_type": "code",
   "execution_count": 53,
   "metadata": {},
   "outputs": [
    {
     "name": "stdout",
     "output_type": "stream",
     "text": [
      "Growing trees.. Progress: 75%. Estimated remaining time: 10 seconds.\n",
      "Growing trees.. Progress: 77%. Estimated remaining time: 9 seconds.\n",
      "Growing trees.. Progress: 75%. Estimated remaining time: 10 seconds.\n",
      "Growing trees.. Progress: 80%. Estimated remaining time: 7 seconds.\n",
      "Growing trees.. Progress: 20%. Estimated remaining time: 2 minutes, 2 seconds.\n",
      "Growing trees.. Progress: 39%. Estimated remaining time: 1 minute, 39 seconds.\n",
      "Growing trees.. Progress: 59%. Estimated remaining time: 1 minute, 5 seconds.\n",
      "Growing trees.. Progress: 78%. Estimated remaining time: 34 seconds.\n",
      "Growing trees.. Progress: 98%. Estimated remaining time: 2 seconds.\n",
      "Random Forest \n",
      "\n",
      "10868 samples\n",
      "  836 predictor\n",
      "    2 classes: 'fake', 'real' \n",
      "\n",
      "No pre-processing\n",
      "Resampling: Cross-Validated (2 fold, repeated 1 times) \n",
      "Summary of sample sizes: 5434, 5434 \n",
      "Resampling results across tuning parameters:\n",
      "\n",
      "  mtry  min.node.size  ROC        Sens       Spec        \n",
      "   9    1              0.9687565  1.0000000  0.0004875670\n",
      "   9    5              0.9683196  1.0000000  0.0002436647\n",
      "  20    1              0.9723203  0.9642274  0.7957597825\n",
      "  20    5              0.9719737  0.9649666  0.7962474683\n",
      "\n",
      "Tuning parameter 'splitrule' was held constant at a value of gini\n",
      "ROC was used to select the optimal model using the largest value.\n",
      "The final values used for the model were mtry = 20, splitrule = gini\n",
      " and min.node.size = 1.\n"
     ]
    }
   ],
   "source": [
    "ctrl <- trainControl(method='repeatedcv',\n",
    "                     number=2,  # number of folds for each run: change this for final run\n",
    "                     repeats=1,  # number of times to repeat CV: change this for final run\n",
    "                     classProbs=TRUE,\n",
    "                     savePredictions=TRUE,\n",
    "                     summaryFunction = twoClassSummary)\n",
    "\n",
    "# good guesses for mtry are sqrt(p) and log2(p)\n",
    "tunegrid <- expand.grid(mtry=c(9, 20),\n",
    "                        splitrule=c('gini'),\n",
    "                        min.node.size=c(1, 5))\n",
    " \n",
    "set.seed(1804)\n",
    "m0 <- train(y ~ .,\n",
    "            data=X, \n",
    "            tuneGrid=tunegrid,\n",
    "            method='ranger',\n",
    "            num.trees=1000,\n",
    "            importance='impurity',\n",
    "            trControl=ctrl,\n",
    "            metric='ROC')\n",
    "\n",
    "print(m0)\n",
    "\n"
   ]
  },
  {
   "cell_type": "code",
   "execution_count": 54,
   "metadata": {},
   "outputs": [
    {
     "name": "stdout",
     "output_type": "stream",
     "text": [
      "Random Forest \n",
      "\n",
      "10868 samples\n",
      "  836 predictor\n",
      "    2 classes: 'fake', 'real' \n",
      "\n",
      "No pre-processing\n",
      "Resampling: Cross-Validated (2 fold, repeated 1 times) \n",
      "Summary of sample sizes: 5434, 5434 \n",
      "Resampling results across tuning parameters:\n",
      "\n",
      "  mtry  min.node.size  ROC        Sens       Spec        \n",
      "   9    1              0.9687565  1.0000000  0.0004875670\n",
      "   9    5              0.9683196  1.0000000  0.0002436647\n",
      "  20    1              0.9723203  0.9642274  0.7957597825\n",
      "  20    5              0.9719737  0.9649666  0.7962474683\n",
      "\n",
      "Tuning parameter 'splitrule' was held constant at a value of gini\n",
      "ROC was used to select the optimal model using the largest value.\n",
      "The final values used for the model were mtry = 20, splitrule = gini\n",
      " and min.node.size = 1.\n"
     ]
    }
   ],
   "source": [
    "print(m0)"
   ]
  },
  {
   "cell_type": "code",
   "execution_count": 55,
   "metadata": {},
   "outputs": [
    {
     "data": {
      "text/html": [
       "<table>\n",
       "<caption>A data.frame: 2 × 4</caption>\n",
       "<thead>\n",
       "\t<tr><th></th><th scope=col>ROC</th><th scope=col>Sens</th><th scope=col>Spec</th><th scope=col>Resample</th></tr>\n",
       "\t<tr><th></th><th scope=col>&lt;dbl&gt;</th><th scope=col>&lt;dbl&gt;</th><th scope=col>&lt;dbl&gt;</th><th scope=col>&lt;chr&gt;</th></tr>\n",
       "</thead>\n",
       "<tbody>\n",
       "\t<tr><th scope=row>1</th><td>0.9739077</td><td>0.9660065</td><td>0.7981472</td><td>Fold1.Rep1</td></tr>\n",
       "\t<tr><th scope=row>2</th><td>0.9707329</td><td>0.9624483</td><td>0.7933723</td><td>Fold2.Rep1</td></tr>\n",
       "</tbody>\n",
       "</table>\n"
      ],
      "text/latex": [
       "A data.frame: 2 × 4\n",
       "\\begin{tabular}{r|llll}\n",
       "  & ROC & Sens & Spec & Resample\\\\\n",
       "  & <dbl> & <dbl> & <dbl> & <chr>\\\\\n",
       "\\hline\n",
       "\t1 & 0.9739077 & 0.9660065 & 0.7981472 & Fold1.Rep1\\\\\n",
       "\t2 & 0.9707329 & 0.9624483 & 0.7933723 & Fold2.Rep1\\\\\n",
       "\\end{tabular}\n"
      ],
      "text/markdown": [
       "\n",
       "A data.frame: 2 × 4\n",
       "\n",
       "| <!--/--> | ROC &lt;dbl&gt; | Sens &lt;dbl&gt; | Spec &lt;dbl&gt; | Resample &lt;chr&gt; |\n",
       "|---|---|---|---|---|\n",
       "| 1 | 0.9739077 | 0.9660065 | 0.7981472 | Fold1.Rep1 |\n",
       "| 2 | 0.9707329 | 0.9624483 | 0.7933723 | Fold2.Rep1 |\n",
       "\n"
      ],
      "text/plain": [
       "  ROC       Sens      Spec      Resample  \n",
       "1 0.9739077 0.9660065 0.7981472 Fold1.Rep1\n",
       "2 0.9707329 0.9624483 0.7933723 Fold2.Rep1"
      ]
     },
     "metadata": {},
     "output_type": "display_data"
    },
    {
     "data": {
      "text/html": [
       "0.972320298438362"
      ],
      "text/latex": [
       "0.972320298438362"
      ],
      "text/markdown": [
       "0.972320298438362"
      ],
      "text/plain": [
       "[1] 0.9723203"
      ]
     },
     "metadata": {},
     "output_type": "display_data"
    },
    {
     "data": {
      "text/html": [
       "0.964227379286945"
      ],
      "text/latex": [
       "0.964227379286945"
      ],
      "text/markdown": [
       "0.964227379286945"
      ],
      "text/plain": [
       "[1] 0.9642274"
      ]
     },
     "metadata": {},
     "output_type": "display_data"
    },
    {
     "data": {
      "text/html": [
       "0.795759782467165"
      ],
      "text/latex": [
       "0.795759782467165"
      ],
      "text/markdown": [
       "0.795759782467165"
      ],
      "text/plain": [
       "[1] 0.7957598"
      ]
     },
     "metadata": {},
     "output_type": "display_data"
    }
   ],
   "source": [
    "# shows the performance on each repetition of the modeling proess\n",
    "# can get mean performance, std dev of each performance, or plot\n",
    "# a histogram, giving complete overview of performance on multiple\n",
    "# slices and dices of the training dataset\n",
    "head(m0$resample)\n",
    "\n",
    "# Averaged cross-validation scores, most representative of performance\n",
    "mean(m0$resample$ROC); mean(m0$resample$Sens); mean(m0$resample$Spec)"
   ]
  },
  {
   "cell_type": "code",
   "execution_count": 56,
   "metadata": {},
   "outputs": [
    {
     "data": {
      "text/plain": [
       "ranger variable importance\n",
       "\n",
       "  only 20 most important variables shown (out of 11702)\n",
       "\n",
       "           Overall\n",
       "video       100.00\n",
       "u            57.75\n",
       "trump        44.42\n",
       "to           38.35\n",
       "the          38.09\n",
       "sai          33.79\n",
       "hous         31.62\n",
       "on           20.44\n",
       "senat        20.30\n",
       "watch        19.03\n",
       "`in`         17.95\n",
       "and          16.61\n",
       "republican   14.85\n",
       "`for`        14.57\n",
       "just         14.56\n",
       "white_hous   14.33\n",
       "hillari      14.05\n",
       "i            13.91\n",
       "hello        12.18\n",
       "white        11.90"
      ]
     },
     "metadata": {},
     "output_type": "display_data"
    }
   ],
   "source": [
    "varImp(m0)"
   ]
  },
  {
   "cell_type": "code",
   "execution_count": 57,
   "metadata": {},
   "outputs": [
    {
     "name": "stderr",
     "output_type": "stream",
     "text": [
      "Warning message:\n",
      "\"package 'Hmisc' was built under R version 3.6.3\"\n",
      "Loading required package: survival\n",
      "\n",
      "Warning message:\n",
      "\"package 'survival' was built under R version 3.6.3\"\n",
      "\n",
      "Attaching package: 'survival'\n",
      "\n",
      "\n",
      "The following object is masked from 'package:caret':\n",
      "\n",
      "    cluster\n",
      "\n",
      "\n",
      "Loading required package: Formula\n",
      "\n",
      "\n",
      "Attaching package: 'Hmisc'\n",
      "\n",
      "\n",
      "The following object is masked from 'package:koRpus':\n",
      "\n",
      "    describe\n",
      "\n",
      "\n",
      "The following object is masked from 'package:sylly':\n",
      "\n",
      "    describe\n",
      "\n",
      "\n",
      "The following objects are masked from 'package:dplyr':\n",
      "\n",
      "    src, summarize\n",
      "\n",
      "\n",
      "The following objects are masked from 'package:base':\n",
      "\n",
      "    format.pval, units\n",
      "\n",
      "\n"
     ]
    },
    {
     "data": {
      "image/png": "[encoded data removed]",
      "text/plain": [
       "plot without title"
      ]
     },
     "metadata": {
      "image/png": {
       "height": 420,
       "width": 420
      }
     },
     "output_type": "display_data"
    }
   ],
   "source": [
    "# This is a conveniant way to visualize 'direct probabilities' from the raw data,\n",
    "# (NOT the model)\n",
    "\n",
    "Y <- X %>%\n",
    "  mutate(yy = if_else(y == 'fake', TRUE, FALSE))  # has to be a factor for Hmisc\n",
    "\n",
    "library(Hmisc)\n",
    "ggplot(Y, aes(x=and, y=yy )) +\n",
    "histSpikeg(yy ~ and, lowess=TRUE, data=Y)"
   ]
  },
  {
   "cell_type": "code",
   "execution_count": 61,
   "metadata": {},
   "outputs": [],
   "source": [
    "tokens <- df_train %>%\n",
    "  select(y, title) %>%\n",
    "  unique() %>% \n",
    "  unnest_tokens(word, title, drop=FALSE) %>% \n",
    "  filter(!word %in% stop_words$word)\n",
    "\n",
    "\n",
    "tokens2 <- df_train %>%\n",
    "  select(y, title) %>%\n",
    "  unique() %>% \n",
    "  mutate(title2 = title) %>% \n",
    "  unnest_tokens(output = bigram, input = title2, token = \"ngrams\", n = 2) %>% \n",
    "  separate(bigram, c(\"word1\", \"word2\"), sep = \" \") %>% \n",
    "  filter(!word1 %in% stop_words$word) %>%\n",
    "  filter(!word2 %in% stop_words$word) %>% \n",
    "  unite(word, word1, word2, sep = \" \") %>% \n",
    "  filter(!word == \"NA NA\")\n",
    "\n",
    "tokens3 <- df_train %>%\n",
    "  select(y, title) %>%\n",
    "  unique() %>% \n",
    "  mutate(title2 = title) %>% \n",
    "  unnest_tokens(output = trigram, input = title2, token = \"ngrams\", n = 3) %>% \n",
    "  separate(trigram, c(\"word1\", \"word2\", \"word3\"), sep = \" \") %>% \n",
    "  filter(!word1 %in% stop_words$word) %>%\n",
    "  filter(!word2 %in% stop_words$word) %>% \n",
    "  filter(!word3 %in% stop_words$word) %>%\n",
    "  unite(word, word1, word2, word3, sep = \" \") %>% \n",
    "  filter(!word == \"NA NA NA\")\n",
    "\n",
    "words <- rbind(tokens, tokens2, tokens3)\n",
    "\n"
   ]
  },
  {
   "cell_type": "code",
   "execution_count": 62,
   "metadata": {},
   "outputs": [
    {
     "ename": "ERROR",
     "evalue": "Error in parse(text = x, srcfile = src): <text>:35:0: unexpected end of input\n33:   RMSE = caret::RMSE(pred_m0, df_test$y),\n34:   Rsquare = caret::R2(pred_m0, df_test$y))\n   ^\n",
     "output_type": "error",
     "traceback": [
      "Error in parse(text = x, srcfile = src): <text>:35:0: unexpected end of input\n33:   RMSE = caret::RMSE(pred_m0, df_test$y),\n34:   Rsquare = caret::R2(pred_m0, df_test$y))\n   ^\nTraceback:\n"
     ]
    }
   ],
   "source": [
    "token_count <- words %>%\n",
    "  mutate(stemmed = stem_words(word))%>%\n",
    "  mutate(lemma = lemmatize_words(stemmed)) %>% \n",
    "  count(title, y, lemma, sort=TRUE) %>%\n",
    "  ungroup() %>% \n",
    "  group_by(title, y) %>%\n",
    "  summarise(total = sum(n), .groups='keep') %>% \n",
    "  bind_tf_idf(lemma, title, n)\n",
    "\n",
    "tc <- token_count %>%\n",
    "  group_by(lemma) %>%\n",
    "  summarise(n=sum(n), .groups='keep') %>%\n",
    "  filter(n > 10)\n",
    "\n",
    "token_count <- token_count %>%\n",
    "  filter(lemma %in% tc$lemma)\n",
    "\n"
   ]
  },
  {
   "cell_type": "code",
   "execution_count": 63,
   "metadata": {},
   "outputs": [],
   "source": [
    "df_test_X <- token_count %>%\n",
    "  select(title, y, lemma, tf_idf) %>% \n",
    "  filter(lemma != 'title',\n",
    "         lemma != 'y') %>%  # remove because I'm already using 'title' and 'y'\n",
    "  unique() %>%  \n",
    "  tidyr::spread(lemma, tf_idf) %>%\n",
    "  janitor::clean_names() %>%  # VERY HANDY FUNCTION!\n",
    "  replace(is.na(.), 0) %>%\n",
    "  select(!contains('_2'))\n",
    "\n"
   ]
  },
  {
   "cell_type": "code",
   "execution_count": 67,
   "metadata": {},
   "outputs": [
    {
     "ename": "ERROR",
     "evalue": "Error in parse(text = x, srcfile = src): <text>:8:0: unexpected end of input\n6:   RMSE = caret::RMSE(pred_m0, df_test_X$y),\n7:   Rsquare = caret::R2(pred_m0, df_test_X$y))\n  ^\n",
     "output_type": "error",
     "traceback": [
      "Error in parse(text = x, srcfile = src): <text>:8:0: unexpected end of input\n6:   RMSE = caret::RMSE(pred_m0, df_test_X$y),\n7:   Rsquare = caret::R2(pred_m0, df_test_X$y))\n  ^\nTraceback:\n"
     ]
    }
   ],
   "source": [
    "pred_m0 <- predict(m0, df_test_X)\n"
   ]
  },
  {
   "cell_type": "code",
   "execution_count": 108,
   "metadata": {},
   "outputs": [
    {
     "name": "stdout",
     "output_type": "stream",
     "text": [
      " Factor w/ 2 levels \"fake\",\"real\": 1 2 1 2 2 1 1 1 1 2 ...\n"
     ]
    }
   ],
   "source": [
    "df_test_X$y <- as.factor(df_test_X$y)\n",
    "pred_m0 <- as.factor(pred_m0)\n"
   ]
  },
  {
   "cell_type": "code",
   "execution_count": 109,
   "metadata": {},
   "outputs": [
    {
     "data": {
      "text/plain": [
       "Confusion Matrix and Statistics\n",
       "\n",
       "          Reference\n",
       "Prediction fake real\n",
       "      fake 6496  411\n",
       "      real  269 3692\n",
       "                                          \n",
       "               Accuracy : 0.9374          \n",
       "                 95% CI : (0.9327, 0.9419)\n",
       "    No Information Rate : 0.6225          \n",
       "    P-Value [Acc > NIR] : < 2.2e-16       \n",
       "                                          \n",
       "                  Kappa : 0.866           \n",
       "                                          \n",
       " Mcnemar's Test P-Value : 6.405e-08       \n",
       "                                          \n",
       "            Sensitivity : 0.9602          \n",
       "            Specificity : 0.8998          \n",
       "         Pos Pred Value : 0.9405          \n",
       "         Neg Pred Value : 0.9321          \n",
       "             Prevalence : 0.6225          \n",
       "         Detection Rate : 0.5977          \n",
       "   Detection Prevalence : 0.6355          \n",
       "      Balanced Accuracy : 0.9300          \n",
       "                                          \n",
       "       'Positive' Class : fake            \n",
       "                                          "
      ]
     },
     "metadata": {},
     "output_type": "display_data"
    }
   ],
   "source": [
    "#df_test_X$y <- as.character(df_test_X$y)\n",
    "confusionMatrix(pred_m0, df_test_X$y)"
   ]
  },
  {
   "cell_type": "code",
   "execution_count": 104,
   "metadata": {},
   "outputs": [
    {
     "data": {
      "text/html": [
       "<table>\n",
       "<caption>A matrix: 10868 × 2 of type chr</caption>\n",
       "<thead>\n",
       "\t<tr><th scope=col></th><th scope=col>pred_m0</th></tr>\n",
       "</thead>\n",
       "<tbody>\n",
       "\t<tr><td>fake</td><td>fake</td></tr>\n",
       "\t<tr><td>real</td><td>real</td></tr>\n",
       "\t<tr><td>fake</td><td>fake</td></tr>\n",
       "\t<tr><td>fake</td><td>real</td></tr>\n",
       "\t<tr><td>real</td><td>real</td></tr>\n",
       "\t<tr><td>fake</td><td>fake</td></tr>\n",
       "\t<tr><td>fake</td><td>fake</td></tr>\n",
       "\t<tr><td>fake</td><td>fake</td></tr>\n",
       "\t<tr><td>fake</td><td>fake</td></tr>\n",
       "\t<tr><td>real</td><td>real</td></tr>\n",
       "\t<tr><td>real</td><td>real</td></tr>\n",
       "\t<tr><td>fake</td><td>fake</td></tr>\n",
       "\t<tr><td>fake</td><td>fake</td></tr>\n",
       "\t<tr><td>fake</td><td>fake</td></tr>\n",
       "\t<tr><td>fake</td><td>fake</td></tr>\n",
       "\t<tr><td>fake</td><td>fake</td></tr>\n",
       "\t<tr><td>real</td><td>fake</td></tr>\n",
       "\t<tr><td>fake</td><td>fake</td></tr>\n",
       "\t<tr><td>real</td><td>real</td></tr>\n",
       "\t<tr><td>fake</td><td>fake</td></tr>\n",
       "\t<tr><td>real</td><td>real</td></tr>\n",
       "\t<tr><td>fake</td><td>fake</td></tr>\n",
       "\t<tr><td>fake</td><td>fake</td></tr>\n",
       "\t<tr><td>fake</td><td>fake</td></tr>\n",
       "\t<tr><td>fake</td><td>fake</td></tr>\n",
       "\t<tr><td>fake</td><td>fake</td></tr>\n",
       "\t<tr><td>fake</td><td>fake</td></tr>\n",
       "\t<tr><td>fake</td><td>fake</td></tr>\n",
       "\t<tr><td>fake</td><td>fake</td></tr>\n",
       "\t<tr><td>real</td><td>real</td></tr>\n",
       "\t<tr><td>...</td><td>...</td></tr>\n",
       "\t<tr><td>fake</td><td>fake</td></tr>\n",
       "\t<tr><td>fake</td><td>fake</td></tr>\n",
       "\t<tr><td>fake</td><td>fake</td></tr>\n",
       "\t<tr><td>fake</td><td>fake</td></tr>\n",
       "\t<tr><td>fake</td><td>fake</td></tr>\n",
       "\t<tr><td>fake</td><td>fake</td></tr>\n",
       "\t<tr><td>fake</td><td>fake</td></tr>\n",
       "\t<tr><td>fake</td><td>fake</td></tr>\n",
       "\t<tr><td>fake</td><td>fake</td></tr>\n",
       "\t<tr><td>real</td><td>real</td></tr>\n",
       "\t<tr><td>fake</td><td>fake</td></tr>\n",
       "\t<tr><td>fake</td><td>fake</td></tr>\n",
       "\t<tr><td>fake</td><td>fake</td></tr>\n",
       "\t<tr><td>fake</td><td>fake</td></tr>\n",
       "\t<tr><td>fake</td><td>fake</td></tr>\n",
       "\t<tr><td>fake</td><td>fake</td></tr>\n",
       "\t<tr><td>fake</td><td>fake</td></tr>\n",
       "\t<tr><td>fake</td><td>fake</td></tr>\n",
       "\t<tr><td>fake</td><td>fake</td></tr>\n",
       "\t<tr><td>fake</td><td>fake</td></tr>\n",
       "\t<tr><td>fake</td><td>fake</td></tr>\n",
       "\t<tr><td>fake</td><td>fake</td></tr>\n",
       "\t<tr><td>fake</td><td>fake</td></tr>\n",
       "\t<tr><td>fake</td><td>fake</td></tr>\n",
       "\t<tr><td>fake</td><td>fake</td></tr>\n",
       "\t<tr><td>fake</td><td>fake</td></tr>\n",
       "\t<tr><td>fake</td><td>fake</td></tr>\n",
       "\t<tr><td>real</td><td>real</td></tr>\n",
       "\t<tr><td>real</td><td>real</td></tr>\n",
       "\t<tr><td>fake</td><td>real</td></tr>\n",
       "</tbody>\n",
       "</table>\n"
      ],
      "text/latex": [
       "A matrix: 10868 × 2 of type chr\n",
       "\\begin{tabular}{ll}\n",
       "  & pred\\_m0\\\\\n",
       "\\hline\n",
       "\t fake & fake\\\\\n",
       "\t real & real\\\\\n",
       "\t fake & fake\\\\\n",
       "\t fake & real\\\\\n",
       "\t real & real\\\\\n",
       "\t fake & fake\\\\\n",
       "\t fake & fake\\\\\n",
       "\t fake & fake\\\\\n",
       "\t fake & fake\\\\\n",
       "\t real & real\\\\\n",
       "\t real & real\\\\\n",
       "\t fake & fake\\\\\n",
       "\t fake & fake\\\\\n",
       "\t fake & fake\\\\\n",
       "\t fake & fake\\\\\n",
       "\t fake & fake\\\\\n",
       "\t real & fake\\\\\n",
       "\t fake & fake\\\\\n",
       "\t real & real\\\\\n",
       "\t fake & fake\\\\\n",
       "\t real & real\\\\\n",
       "\t fake & fake\\\\\n",
       "\t fake & fake\\\\\n",
       "\t fake & fake\\\\\n",
       "\t fake & fake\\\\\n",
       "\t fake & fake\\\\\n",
       "\t fake & fake\\\\\n",
       "\t fake & fake\\\\\n",
       "\t fake & fake\\\\\n",
       "\t real & real\\\\\n",
       "\t ... & ...\\\\\n",
       "\t fake & fake\\\\\n",
       "\t fake & fake\\\\\n",
       "\t fake & fake\\\\\n",
       "\t fake & fake\\\\\n",
       "\t fake & fake\\\\\n",
       "\t fake & fake\\\\\n",
       "\t fake & fake\\\\\n",
       "\t fake & fake\\\\\n",
       "\t fake & fake\\\\\n",
       "\t real & real\\\\\n",
       "\t fake & fake\\\\\n",
       "\t fake & fake\\\\\n",
       "\t fake & fake\\\\\n",
       "\t fake & fake\\\\\n",
       "\t fake & fake\\\\\n",
       "\t fake & fake\\\\\n",
       "\t fake & fake\\\\\n",
       "\t fake & fake\\\\\n",
       "\t fake & fake\\\\\n",
       "\t fake & fake\\\\\n",
       "\t fake & fake\\\\\n",
       "\t fake & fake\\\\\n",
       "\t fake & fake\\\\\n",
       "\t fake & fake\\\\\n",
       "\t fake & fake\\\\\n",
       "\t fake & fake\\\\\n",
       "\t fake & fake\\\\\n",
       "\t real & real\\\\\n",
       "\t real & real\\\\\n",
       "\t fake & real\\\\\n",
       "\\end{tabular}\n"
      ],
      "text/markdown": [
       "\n",
       "A matrix: 10868 × 2 of type chr\n",
       "\n",
       "| <!----> | pred_m0 |\n",
       "|---|---|\n",
       "| fake | fake |\n",
       "| real | real |\n",
       "| fake | fake |\n",
       "| fake | real |\n",
       "| real | real |\n",
       "| fake | fake |\n",
       "| fake | fake |\n",
       "| fake | fake |\n",
       "| fake | fake |\n",
       "| real | real |\n",
       "| real | real |\n",
       "| fake | fake |\n",
       "| fake | fake |\n",
       "| fake | fake |\n",
       "| fake | fake |\n",
       "| fake | fake |\n",
       "| real | fake |\n",
       "| fake | fake |\n",
       "| real | real |\n",
       "| fake | fake |\n",
       "| real | real |\n",
       "| fake | fake |\n",
       "| fake | fake |\n",
       "| fake | fake |\n",
       "| fake | fake |\n",
       "| fake | fake |\n",
       "| fake | fake |\n",
       "| fake | fake |\n",
       "| fake | fake |\n",
       "| real | real |\n",
       "| ... | ... |\n",
       "| fake | fake |\n",
       "| fake | fake |\n",
       "| fake | fake |\n",
       "| fake | fake |\n",
       "| fake | fake |\n",
       "| fake | fake |\n",
       "| fake | fake |\n",
       "| fake | fake |\n",
       "| fake | fake |\n",
       "| real | real |\n",
       "| fake | fake |\n",
       "| fake | fake |\n",
       "| fake | fake |\n",
       "| fake | fake |\n",
       "| fake | fake |\n",
       "| fake | fake |\n",
       "| fake | fake |\n",
       "| fake | fake |\n",
       "| fake | fake |\n",
       "| fake | fake |\n",
       "| fake | fake |\n",
       "| fake | fake |\n",
       "| fake | fake |\n",
       "| fake | fake |\n",
       "| fake | fake |\n",
       "| fake | fake |\n",
       "| fake | fake |\n",
       "| real | real |\n",
       "| real | real |\n",
       "| fake | real |\n",
       "\n"
      ],
      "text/plain": [
       "           pred_m0\n",
       " [1,] fake fake   \n",
       " [2,] real real   \n",
       " [3,] fake fake   \n",
       " [4,] fake real   \n",
       " [5,] real real   \n",
       " [6,] fake fake   \n",
       " [7,] fake fake   \n",
       " [8,] fake fake   \n",
       " [9,] fake fake   \n",
       "[10,] real real   \n",
       "[11,] real real   \n",
       "[12,] fake fake   \n",
       "[13,] fake fake   \n",
       "[14,] fake fake   \n",
       "[15,] fake fake   \n",
       "[16,] fake fake   \n",
       "[17,] real fake   \n",
       "[18,] fake fake   \n",
       "[19,] real real   \n",
       "[20,] fake fake   \n",
       "[21,] real real   \n",
       "[22,] fake fake   \n",
       "[23,] fake fake   \n",
       "[24,] fake fake   \n",
       "[25,] fake fake   \n",
       "[26,] fake fake   \n",
       "[27,] fake fake   \n",
       "[28,] fake fake   \n",
       "[29,] fake fake   \n",
       "[30,] real real   \n",
       "[31,] ...  ...    \n",
       "[32,] fake fake   \n",
       "[33,] fake fake   \n",
       "[34,] fake fake   \n",
       "[35,] fake fake   \n",
       "[36,] fake fake   \n",
       "[37,] fake fake   \n",
       "[38,] fake fake   \n",
       "[39,] fake fake   \n",
       "[40,] fake fake   \n",
       "[41,] real real   \n",
       "[42,] fake fake   \n",
       "[43,] fake fake   \n",
       "[44,] fake fake   \n",
       "[45,] fake fake   \n",
       "[46,] fake fake   \n",
       "[47,] fake fake   \n",
       "[48,] fake fake   \n",
       "[49,] fake fake   \n",
       "[50,] fake fake   \n",
       "[51,] fake fake   \n",
       "[52,] fake fake   \n",
       "[53,] fake fake   \n",
       "[54,] fake fake   \n",
       "[55,] fake fake   \n",
       "[56,] fake fake   \n",
       "[57,] fake fake   \n",
       "[58,] fake fake   \n",
       "[59,] real real   \n",
       "[60,] real real   \n",
       "[61,] fake real   "
      ]
     },
     "metadata": {},
     "output_type": "display_data"
    }
   ],
   "source": []
  }
 ],
 "metadata": {
  "kernelspec": {
   "display_name": "R",
   "language": "R",
   "name": "ir"
  },
  "language_info": {
   "codemirror_mode": "r",
   "file_extension": ".r",
   "mimetype": "text/x-r-source",
   "name": "R",
   "pygments_lexer": "r",
   "version": "3.6.1"
  }
 },
 "nbformat": 4,
 "nbformat_minor": 2
}
