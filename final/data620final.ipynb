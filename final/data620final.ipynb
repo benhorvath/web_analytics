{
 "cells": [
  {
   "cell_type": "markdown",
   "metadata": {},
   "source": [
    "#  Final: Classifying news stories as true or fake\n",
    "\n",
    "#### Randy Thompson, Ben Horvath\n",
    "\n",
    "With the rise of social media, everyone has an equal opportunity to create, share and distribute articles of their choosing. Some of these articles are written without sources or evidence for the claims they make. These \"fake news\" articles may have patterns of text that can make them identifiable as real or fake.\n",
    "\n",
    "Our goal is to classify whether a piece is fake or not _based on its substantive text content only_. The dataset is carefully prepared to remove any 'hints' to the model that detract from this goal (e.g., removing datelines).\n",
    "\n",
    "The data can be downloaded from Kaggle at https://www.kaggle.com/clmentbisaillon/fake-and-real-news-dataset. It is not present in the Github repo because of its size.\n",
    "\n",
    "We make heavy use of tidyverse R functionality. Especially useful here is the `tidytext` package, which drastically simplifies the calculation of TF-IDF matrices; and the `caret` library for cross-validated modeling. Load necessary libraries:"
   ]
  },
  {
   "cell_type": "code",
   "execution_count": 3,
   "metadata": {},
   "outputs": [],
   "source": [
    "library(caret)\n",
    "library(dplyr)\n",
    "library(ggplot2)\n",
    "library(lubridate)  # easy dates\n",
    "library(stringr)    # easy regex\n",
    "library(textstem)   # stemming, lemmatization\n",
    "library(tidytext)   # easy TF-IDF\n",
    "library(tidyverse)\n",
    "library(janitor)\n",
    "library(topicmodels)\n",
    "library(tm)"
   ]
  },
  {
   "cell_type": "markdown",
   "metadata": {},
   "source": [
    "## Load the data\n",
    "\n",
    "The data comes seperated in two CSVs of about equal size, one for true news stories, and other for fake. We load them, assign our dependent variable $y = \\{fake, true\\}$, and combine them."
   ]
  },
  {
   "cell_type": "code",
   "execution_count": 4,
   "metadata": {},
   "outputs": [
    {
     "name": "stderr",
     "output_type": "stream",
     "text": [
      "Parsed with column specification:\n",
      "cols(\n",
      "  title = \u001b[31mcol_character()\u001b[39m,\n",
      "  text = \u001b[31mcol_character()\u001b[39m,\n",
      "  subject = \u001b[31mcol_character()\u001b[39m,\n",
      "  date = \u001b[31mcol_character()\u001b[39m\n",
      ")\n",
      "\n",
      "Parsed with column specification:\n",
      "cols(\n",
      "  title = \u001b[31mcol_character()\u001b[39m,\n",
      "  text = \u001b[31mcol_character()\u001b[39m,\n",
      "  subject = \u001b[31mcol_character()\u001b[39m,\n",
      "  date = \u001b[31mcol_character()\u001b[39m\n",
      ")\n",
      "\n",
      "Warning message:\n",
      "\" 45 failed to parse.\"\n"
     ]
    },
    {
     "data": {
      "text/html": [
       "<table>\n",
       "<caption>A tibble: 1 × 5</caption>\n",
       "<thead>\n",
       "\t<tr><th scope=col>title</th><th scope=col>text</th><th scope=col>subject</th><th scope=col>dt</th><th scope=col>y</th></tr>\n",
       "\t<tr><th scope=col>&lt;chr&gt;</th><th scope=col>&lt;chr&gt;</th><th scope=col>&lt;chr&gt;</th><th scope=col>&lt;dttm&gt;</th><th scope=col>&lt;chr&gt;</th></tr>\n",
       "</thead>\n",
       "<tbody>\n",
       "\t<tr><td>Donald Trump Sends Out Embarrassing New Year’s Eve Message; This is Disturbing</td><td>Donald Trump just couldn t wish all Americans a Happy New Year and leave it at that. Instead, he had to give a shout out to his enemies, haters and  the very dishonest fake news media.  The former reality show star had just one job to do and he couldn t do it. As our Country rapidly grows stronger and smarter, I want to wish all of my friends, supporters, enemies, haters, and even the very dishonest Fake News Media, a Happy and Healthy New Year,  President Angry Pants tweeted.  2018 will be a great year for America! As our Country rapidly grows stronger and smarter, I want to wish all of my friends, supporters, enemies, haters, and even the very dishonest Fake News Media, a Happy and Healthy New Year. 2018 will be a great year for America!  Donald J. Trump (@realDonaldTrump) December 31, 2017Trump s tweet went down about as welll as you d expect.What kind of president sends a New Year s greeting like this despicable, petty, infantile gibberish? Only Trump! His lack of decency won t even allow him to rise above the gutter long enough to wish the American citizens a happy new year!  Bishop Talbert Swan (@TalbertSwan) December 31, 2017no one likes you  Calvin (@calvinstowell) December 31, 2017Your impeachment would make 2018 a great year for America, but I ll also accept regaining control of Congress.  Miranda Yaver (@mirandayaver) December 31, 2017Do you hear yourself talk? When you have to include that many people that hate you you have to wonder? Why do the they all hate me?  Alan Sandoval (@AlanSandoval13) December 31, 2017Who uses the word Haters in a New Years wish??  Marlene (@marlene399) December 31, 2017You can t just say happy new year?  Koren pollitt (@Korencarpenter) December 31, 2017Here s Trump s New Year s Eve tweet from 2016.Happy New Year to all, including to my many enemies and those who have fought me and lost so badly they just don t know what to do. Love!  Donald J. Trump (@realDonaldTrump) December 31, 2016This is nothing new for Trump. He s been doing this for years.Trump has directed messages to his  enemies  and  haters  for New Year s, Easter, Thanksgiving, and the anniversary of 9/11. pic.twitter.com/4FPAe2KypA  Daniel Dale (@ddale8) December 31, 2017Trump s holiday tweets are clearly not presidential.How long did he work at Hallmark before becoming President?  Steven Goodine (@SGoodine) December 31, 2017He s always been like this . . . the only difference is that in the last few years, his filter has been breaking down.  Roy Schulze (@thbthttt) December 31, 2017Who, apart from a teenager uses the term haters?  Wendy (@WendyWhistles) December 31, 2017he s a fucking 5 year old  Who Knows (@rainyday80) December 31, 2017So, to all the people who voted for this a hole thinking he would change once he got into power, you were wrong! 70-year-old men don t change and now he s a year older.Photo by Andrew Burton/Getty Images.</td><td>News</td><td>2017-12-31</td><td>fake</td></tr>\n",
       "</tbody>\n",
       "</table>\n"
      ],
      "text/latex": [
       "A tibble: 1 × 5\n",
       "\\begin{tabular}{lllll}\n",
       " title & text & subject & dt & y\\\\\n",
       " <chr> & <chr> & <chr> & <dttm> & <chr>\\\\\n",
       "\\hline\n",
       "\t Donald Trump Sends Out Embarrassing New Year’s Eve Message; This is Disturbing & Donald Trump just couldn t wish all Americans a Happy New Year and leave it at that. Instead, he had to give a shout out to his enemies, haters and  the very dishonest fake news media.  The former reality show star had just one job to do and he couldn t do it. As our Country rapidly grows stronger and smarter, I want to wish all of my friends, supporters, enemies, haters, and even the very dishonest Fake News Media, a Happy and Healthy New Year,  President Angry Pants tweeted.  2018 will be a great year for America! As our Country rapidly grows stronger and smarter, I want to wish all of my friends, supporters, enemies, haters, and even the very dishonest Fake News Media, a Happy and Healthy New Year. 2018 will be a great year for America!  Donald J. Trump (@realDonaldTrump) December 31, 2017Trump s tweet went down about as welll as you d expect.What kind of president sends a New Year s greeting like this despicable, petty, infantile gibberish? Only Trump! His lack of decency won t even allow him to rise above the gutter long enough to wish the American citizens a happy new year!  Bishop Talbert Swan (@TalbertSwan) December 31, 2017no one likes you  Calvin (@calvinstowell) December 31, 2017Your impeachment would make 2018 a great year for America, but I ll also accept regaining control of Congress.  Miranda Yaver (@mirandayaver) December 31, 2017Do you hear yourself talk? When you have to include that many people that hate you you have to wonder? Why do the they all hate me?  Alan Sandoval (@AlanSandoval13) December 31, 2017Who uses the word Haters in a New Years wish??  Marlene (@marlene399) December 31, 2017You can t just say happy new year?  Koren pollitt (@Korencarpenter) December 31, 2017Here s Trump s New Year s Eve tweet from 2016.Happy New Year to all, including to my many enemies and those who have fought me and lost so badly they just don t know what to do. Love!  Donald J. Trump (@realDonaldTrump) December 31, 2016This is nothing new for Trump. He s been doing this for years.Trump has directed messages to his  enemies  and  haters  for New Year s, Easter, Thanksgiving, and the anniversary of 9/11. pic.twitter.com/4FPAe2KypA  Daniel Dale (@ddale8) December 31, 2017Trump s holiday tweets are clearly not presidential.How long did he work at Hallmark before becoming President?  Steven Goodine (@SGoodine) December 31, 2017He s always been like this . . . the only difference is that in the last few years, his filter has been breaking down.  Roy Schulze (@thbthttt) December 31, 2017Who, apart from a teenager uses the term haters?  Wendy (@WendyWhistles) December 31, 2017he s a fucking 5 year old  Who Knows (@rainyday80) December 31, 2017So, to all the people who voted for this a hole thinking he would change once he got into power, you were wrong! 70-year-old men don t change and now he s a year older.Photo by Andrew Burton/Getty Images. & News & 2017-12-31 & fake\\\\\n",
       "\\end{tabular}\n"
      ],
      "text/markdown": [
       "\n",
       "A tibble: 1 × 5\n",
       "\n",
       "| title &lt;chr&gt; | text &lt;chr&gt; | subject &lt;chr&gt; | dt &lt;dttm&gt; | y &lt;chr&gt; |\n",
       "|---|---|---|---|---|\n",
       "| Donald Trump Sends Out Embarrassing New Year’s Eve Message; This is Disturbing | Donald Trump just couldn t wish all Americans a Happy New Year and leave it at that. Instead, he had to give a shout out to his enemies, haters and  the very dishonest fake news media.  The former reality show star had just one job to do and he couldn t do it. As our Country rapidly grows stronger and smarter, I want to wish all of my friends, supporters, enemies, haters, and even the very dishonest Fake News Media, a Happy and Healthy New Year,  President Angry Pants tweeted.  2018 will be a great year for America! As our Country rapidly grows stronger and smarter, I want to wish all of my friends, supporters, enemies, haters, and even the very dishonest Fake News Media, a Happy and Healthy New Year. 2018 will be a great year for America!  Donald J. Trump (@realDonaldTrump) December 31, 2017Trump s tweet went down about as welll as you d expect.What kind of president sends a New Year s greeting like this despicable, petty, infantile gibberish? Only Trump! His lack of decency won t even allow him to rise above the gutter long enough to wish the American citizens a happy new year!  Bishop Talbert Swan (@TalbertSwan) December 31, 2017no one likes you  Calvin (@calvinstowell) December 31, 2017Your impeachment would make 2018 a great year for America, but I ll also accept regaining control of Congress.  Miranda Yaver (@mirandayaver) December 31, 2017Do you hear yourself talk? When you have to include that many people that hate you you have to wonder? Why do the they all hate me?  Alan Sandoval (@AlanSandoval13) December 31, 2017Who uses the word Haters in a New Years wish??  Marlene (@marlene399) December 31, 2017You can t just say happy new year?  Koren pollitt (@Korencarpenter) December 31, 2017Here s Trump s New Year s Eve tweet from 2016.Happy New Year to all, including to my many enemies and those who have fought me and lost so badly they just don t know what to do. Love!  Donald J. Trump (@realDonaldTrump) December 31, 2016This is nothing new for Trump. He s been doing this for years.Trump has directed messages to his  enemies  and  haters  for New Year s, Easter, Thanksgiving, and the anniversary of 9/11. pic.twitter.com/4FPAe2KypA  Daniel Dale (@ddale8) December 31, 2017Trump s holiday tweets are clearly not presidential.How long did he work at Hallmark before becoming President?  Steven Goodine (@SGoodine) December 31, 2017He s always been like this . . . the only difference is that in the last few years, his filter has been breaking down.  Roy Schulze (@thbthttt) December 31, 2017Who, apart from a teenager uses the term haters?  Wendy (@WendyWhistles) December 31, 2017he s a fucking 5 year old  Who Knows (@rainyday80) December 31, 2017So, to all the people who voted for this a hole thinking he would change once he got into power, you were wrong! 70-year-old men don t change and now he s a year older.Photo by Andrew Burton/Getty Images. | News | 2017-12-31 | fake |\n",
       "\n"
      ],
      "text/plain": [
       "  title                                                                         \n",
       "1 Donald Trump Sends Out Embarrassing New Year’s Eve Message; This is Disturbing\n",
       "  text                                                                                                                                                                                                                                                                                                                                                                                                                                                                                                                                                                                                                                                                                                                                                                                                                                                                                                                                                                                                                                                                                                                                                                                                                                                                                                                                                                                                                                                                                                                                                                                                                                                                                                                                                                                                                                                                                                                                                                                                                                                                                                                                                                                                                                                                                                                                                                                                                                                                                                                                                                                                                                                                                                                                                                                                                                                                                                                                                                                                         \n",
       "1 Donald Trump just couldn t wish all Americans a Happy New Year and leave it at that. Instead, he had to give a shout out to his enemies, haters and  the very dishonest fake news media.  The former reality show star had just one job to do and he couldn t do it. As our Country rapidly grows stronger and smarter, I want to wish all of my friends, supporters, enemies, haters, and even the very dishonest Fake News Media, a Happy and Healthy New Year,  President Angry Pants tweeted.  2018 will be a great year for America! As our Country rapidly grows stronger and smarter, I want to wish all of my friends, supporters, enemies, haters, and even the very dishonest Fake News Media, a Happy and Healthy New Year. 2018 will be a great year for America!  Donald J. Trump (@realDonaldTrump) December 31, 2017Trump s tweet went down about as welll as you d expect.What kind of president sends a New Year s greeting like this despicable, petty, infantile gibberish? Only Trump! His lack of decency won t even allow him to rise above the gutter long enough to wish the American citizens a happy new year!  Bishop Talbert Swan (@TalbertSwan) December 31, 2017no one likes you  Calvin (@calvinstowell) December 31, 2017Your impeachment would make 2018 a great year for America, but I ll also accept regaining control of Congress.  Miranda Yaver (@mirandayaver) December 31, 2017Do you hear yourself talk? When you have to include that many people that hate you you have to wonder? Why do the they all hate me?  Alan Sandoval (@AlanSandoval13) December 31, 2017Who uses the word Haters in a New Years wish??  Marlene (@marlene399) December 31, 2017You can t just say happy new year?  Koren pollitt (@Korencarpenter) December 31, 2017Here s Trump s New Year s Eve tweet from 2016.Happy New Year to all, including to my many enemies and those who have fought me and lost so badly they just don t know what to do. Love!  Donald J. Trump (@realDonaldTrump) December 31, 2016This is nothing new for Trump. He s been doing this for years.Trump has directed messages to his  enemies  and  haters  for New Year s, Easter, Thanksgiving, and the anniversary of 9/11. pic.twitter.com/4FPAe2KypA  Daniel Dale (@ddale8) December 31, 2017Trump s holiday tweets are clearly not presidential.How long did he work at Hallmark before becoming President?  Steven Goodine (@SGoodine) December 31, 2017He s always been like this . . . the only difference is that in the last few years, his filter has been breaking down.  Roy Schulze (@thbthttt) December 31, 2017Who, apart from a teenager uses the term haters?  Wendy (@WendyWhistles) December 31, 2017he s a fucking 5 year old  Who Knows (@rainyday80) December 31, 2017So, to all the people who voted for this a hole thinking he would change once he got into power, you were wrong! 70-year-old men don t change and now he s a year older.Photo by Andrew Burton/Getty Images.\n",
       "  subject dt         y   \n",
       "1 News    2017-12-31 fake"
      ]
     },
     "metadata": {},
     "output_type": "display_data"
    }
   ],
   "source": [
    "fake <- read_csv('~/CUNY/DATA 620/final/Fake.csv') %>%\n",
    "  mutate(y='fake')\n",
    "\n",
    "real <- read_csv('~/CUNY/DATA 620/final/True.csv') %>%\n",
    "  mutate(y='real')\n",
    "\n",
    "# rename date to dt to keep R happy\n",
    "df <- rbind(fake, real) %>%\n",
    "  rename(dt = 'date') %>%\n",
    "  mutate(dt = parse_date_time(dt, '%B %d, $Y'))\n",
    "\n",
    "head(df, 1)"
   ]
  },
  {
   "cell_type": "markdown",
   "metadata": {},
   "source": [
    "The dataset gives  us the title of the text, the text  itself, a classification of the news story, and the date of publishing.\n",
    "\n",
    "## Exploratory analysis\n",
    "\n",
    "Before modeling, we get to know our dataset more thoroughly. First, inspect the distribution of the dependent variable, which shows a balanced dataset."
   ]
  },
  {
   "cell_type": "code",
   "execution_count": 5,
   "metadata": {},
   "outputs": [
    {
     "data": {
      "text/plain": [
       "\n",
       " fake  real \n",
       "23481 21417 "
      ]
     },
     "metadata": {},
     "output_type": "display_data"
    }
   ],
   "source": [
    "table(df$y)"
   ]
  },
  {
   "cell_type": "code",
   "execution_count": 6,
   "metadata": {},
   "outputs": [
    {
     "data": {
      "text/plain": [
       "\n",
       "Government News       left-news     Middle-east            News        politics \n",
       "           1570            4459             778            9050            6841 \n",
       "   politicsNews         US_News       worldnews \n",
       "          11272             783           10145 "
      ]
     },
     "metadata": {},
     "output_type": "display_data"
    }
   ],
   "source": [
    "table(df$subject)"
   ]
  },
  {
   "cell_type": "markdown",
   "metadata": {},
   "source": [
    "The table below shows the distribution of subject these categories between fake and real news. We see that the fake news is labeled as either `politicsNews` or as `worldnews`, while the real news is labeled as everything else but those two. This suggests _subject should not be used as a model feature_."
   ]
  },
  {
   "cell_type": "code",
   "execution_count": 7,
   "metadata": {},
   "outputs": [
    {
     "data": {
      "text/plain": [
       "      \n",
       "       Government News  left-news Middle-east       News   politics\n",
       "  fake      0.06686257 0.18989822  0.03313317 0.38541800 0.29134194\n",
       "  real      0.00000000 0.00000000  0.00000000 0.00000000 0.00000000\n",
       "      \n",
       "       politicsNews    US_News  worldnews\n",
       "  fake   0.00000000 0.03334611 0.00000000\n",
       "  real   0.52631087 0.00000000 0.47368913"
      ]
     },
     "metadata": {},
     "output_type": "display_data"
    }
   ],
   "source": [
    "prop.table(table(df$y, df$subject), 1)"
   ]
  },
  {
   "cell_type": "markdown",
   "metadata": {},
   "source": []
  },
  {
   "cell_type": "markdown",
   "metadata": {},
   "source": [
    "The `text` column will be ommitted in the NLP analysis because it is simply too much data for be easily computer on the present machines. However, we can still try to create simple features using regular expressions from the text. We examine a few of these below:"
   ]
  },
  {
   "cell_type": "code",
   "execution_count": 8,
   "metadata": {},
   "outputs": [
    {
     "data": {
      "text/plain": [
       "      \n",
       "            FALSE       TRUE\n",
       "  fake 0.73419106 0.26580894\n",
       "  real 0.98706575 0.01293425"
      ]
     },
     "metadata": {},
     "output_type": "display_data"
    }
   ],
   "source": [
    "# Presence of Twitter handle\n",
    "df$twitter_handle <- str_detect(df$text, '(?<!\\\\w)@[\\\\w+]{1,15}\\\\b')\n",
    "prop.table(table(df$y, df$twitter_handle), 1)"
   ]
  },
  {
   "cell_type": "markdown",
   "metadata": {},
   "source": [
    "The above shows that their is an association between the presence of a twitter handle and the reality of a news story.\n",
    "\n",
    "Below shows a slighly weaker association with profanity (using a very crude and very incomplete regex):"
   ]
  },
  {
   "cell_type": "code",
   "execution_count": 9,
   "metadata": {},
   "outputs": [
    {
     "data": {
      "text/plain": [
       "      \n",
       "             FALSE        TRUE\n",
       "  fake 0.942978425 0.057021575\n",
       "  real 0.996964886 0.003035114"
      ]
     },
     "metadata": {},
     "output_type": "display_data"
    }
   ],
   "source": [
    "PROFANITY <- 'fuck|shit|bastard|bitch|whore|goddamn'\n",
    "\n",
    "df$profanity <- str_detect( tolower(df$text), PROFANITY)\n",
    "prop.table(table(df$y, df$profanity), 1)"
   ]
  },
  {
   "cell_type": "markdown",
   "metadata": {},
   "source": [
    "Finally, we can count the number of all-caps words in the text. Interestingly, there's no real difference in the distributions. Below we will see that this is due to the presence of acronyms in real news stories, as well as dateline in all-caps, e.g., WASHINGTON (Reuters). A better solution would be to count the length (in words) of all-caps phrases which do not appear often in real news stories."
   ]
  },
  {
   "cell_type": "code",
   "execution_count": 10,
   "metadata": {},
   "outputs": [
    {
     "data": {
      "image/png": "[encoded data removed]",
      "text/plain": [
       "plot without title"
      ]
     },
     "metadata": {
      "image/png": {
       "height": 420,
       "width": 420
      }
     },
     "output_type": "display_data"
    }
   ],
   "source": [
    "ALL_CAPS <- '(\\\\b[A-Z][A-Z]+|\\\\b[A-Z]\\\\b)'\n",
    "df$all_caps <- str_count(df$text, ALL_CAPS)\n",
    "\n",
    "ggplot(df %>% filter(all_caps > 5), aes(x=y, y=all_caps)) + geom_boxplot()"
   ]
  },
  {
   "cell_type": "markdown",
   "metadata": {},
   "source": [
    "Finally, examine the distribution of fake and real news stories over time. There are no fake stories recorded until just after 2016, and following the spring of 2017 the real stories shoot up in quantity relative to the fake stories.\n",
    "\n",
    "This could suggest the optimal sample should be  restricted to Jan. 2016 through June 2017, which would be about 26 thousand samples. "
   ]
  },
  {
   "cell_type": "code",
   "execution_count": 11,
   "metadata": {},
   "outputs": [
    {
     "name": "stderr",
     "output_type": "stream",
     "text": [
      "Warning message:\n",
      "\"Removed 1 rows containing missing values (geom_path).\"\n"
     ]
    },
    {
     "data": {
      "image/png": "[encoded data removed]",
      "text/plain": [
       "plot without title"
      ]
     },
     "metadata": {
      "image/png": {
       "height": 420,
       "width": 420
      }
     },
     "output_type": "display_data"
    }
   ],
   "source": [
    "df %>%\n",
    "  group_by(dt, y) %>%\n",
    "  summarise(n=n_distinct(title)) %>%\n",
    "  ggplot(aes(x=dt, y=n, colour=y)) + geom_line()"
   ]
  },
  {
   "cell_type": "markdown",
   "metadata": {},
   "source": [
    "We will perform the same operations as above on the title:"
   ]
  },
  {
   "cell_type": "code",
   "execution_count": 12,
   "metadata": {},
   "outputs": [],
   "source": [
    "df$title_twitter_handle <- str_detect(df$title, '(?<!\\\\w)@[\\\\w+]{1,15}\\\\b')\n",
    "df$title_all_caps <- str_count(df$title, ALL_CAPS)\n",
    "df$title_profanity <- str_detect( tolower(df$title), PROFANITY)"
   ]
  },
  {
   "cell_type": "markdown",
   "metadata": {},
   "source": [
    "## Data cleaning\n",
    "\n",
    "Using the story titles as IDs, there are duplicated stories. These are removed by keeping only the latest version:"
   ]
  },
  {
   "cell_type": "code",
   "execution_count": 13,
   "metadata": {},
   "outputs": [
    {
     "data": {
      "text/html": [
       "44898"
      ],
      "text/latex": [
       "44898"
      ],
      "text/markdown": [
       "44898"
      ],
      "text/plain": [
       "[1] 44898"
      ]
     },
     "metadata": {},
     "output_type": "display_data"
    },
    {
     "data": {
      "text/html": [
       "38728"
      ],
      "text/latex": [
       "38728"
      ],
      "text/markdown": [
       "38728"
      ],
      "text/plain": [
       "[1] 38728"
      ]
     },
     "metadata": {},
     "output_type": "display_data"
    }
   ],
   "source": [
    "length(df$title); length(unique(df$title))"
   ]
  },
  {
   "cell_type": "code",
   "execution_count": 14,
   "metadata": {},
   "outputs": [
    {
     "data": {
      "text/html": [
       "21770"
      ],
      "text/latex": [
       "21770"
      ],
      "text/markdown": [
       "21770"
      ],
      "text/plain": [
       "[1] 21770"
      ]
     },
     "metadata": {},
     "output_type": "display_data"
    },
    {
     "data": {
      "text/html": [
       "21770"
      ],
      "text/latex": [
       "21770"
      ],
      "text/markdown": [
       "21770"
      ],
      "text/plain": [
       "[1] 21770"
      ]
     },
     "metadata": {},
     "output_type": "display_data"
    }
   ],
   "source": [
    "df <- df %>%\n",
    "  select(y, title, dt) %>% \n",
    "  arrange(title, desc(dt)) %>%\n",
    "  group_by(title) %>%\n",
    "  slice(which.max(dt)) %>% \n",
    "  filter(dt > date(\"2016-01-01\") && dt < date(\"2017-07-01\"))  %>% \n",
    "  ungroup()\n",
    "\n",
    "length(df$title); length(unique(df$title))"
   ]
  },
  {
   "cell_type": "markdown",
   "metadata": {},
   "source": [
    "All of the real news stories are from Reuters, and all Reuters news stories begin with a dateline, e.g., WASHINGTON (Rueters). These are removed by a very simple Regex that matches the beginning of the story up to the first hyphen. It appears to be effective enough. Additionally, we remove any other mentions of 'Reuters' just to be sure, and numbers:"
   ]
  },
  {
   "cell_type": "code",
   "execution_count": 15,
   "metadata": {},
   "outputs": [],
   "source": [
    "df <- df %>%\n",
    "  mutate(title = str_remove(title, '^[^\\\\-]*\\\\-\\\\s+'),\n",
    "         title = str_remove(tolower(title), 'reuters'),\n",
    "         title = str_remove(title, '[0-9]+'),\n",
    "         title = str_remove(title, '[:punct:]+'),\n",
    "         title = str_trim(title, side = \"both\"), \n",
    "         title = str_squish(title))"
   ]
  },
  {
   "cell_type": "markdown",
   "metadata": {},
   "source": [
    "Often, at this point in NLP process, we normally remove punctuation and a list of stop words. However, it may be that there are differences in punctuations and stop words between fake and real news. We thus retain them.\n",
    "\n",
    "### Test/Training Split\n",
    "\n",
    "Now we're going to separate our test and training data. By keeping some data out of our model will ensure that we have data the model hasn't seen to get a sense of how our model will work on new data. "
   ]
  },
  {
   "cell_type": "code",
   "execution_count": 16,
   "metadata": {},
   "outputs": [
    {
     "name": "stderr",
     "output_type": "stream",
     "text": [
      "Warning message:\n",
      "\"The `i` argument of ``[`()` can't be a matrix as of tibble 3.0.0.\n",
      "Convert to a vector.\n",
      "\u001b[90mThis warning is displayed once every 8 hours.\u001b[39m\n",
      "\u001b[90mCall `lifecycle::last_warnings()` to see where this warning was generated.\u001b[39m\"\n"
     ]
    }
   ],
   "source": [
    "indexed <- createDataPartition(df$y, p=0.7, list=FALSE, times=1)\n",
    "df_train <- df[indexed,]\n",
    "df_test <- df[-indexed,]"
   ]
  },
  {
   "cell_type": "markdown",
   "metadata": {},
   "source": [
    "### Tokenize\n",
    "\n",
    "However, we will be conducting other stemming, requiring tokenization. Recall that  we are concerned only with the title for now:"
   ]
  },
  {
   "cell_type": "code",
   "execution_count": 17,
   "metadata": {},
   "outputs": [
    {
     "data": {
      "text/html": [
       "<table>\n",
       "<caption>A tibble: 6 × 3</caption>\n",
       "<thead>\n",
       "\t<tr><th scope=col>y</th><th scope=col>title</th><th scope=col>word</th></tr>\n",
       "\t<tr><th scope=col>&lt;chr&gt;</th><th scope=col>&lt;chr&gt;</th><th scope=col>&lt;chr&gt;</th></tr>\n",
       "</thead>\n",
       "<tbody>\n",
       "\t<tr><td>real</td><td>absolutely false,' trump says defiantly after women's groping allegations</td><td>absolutely</td></tr>\n",
       "\t<tr><td>real</td><td>absolutely false,' trump says defiantly after women's groping allegations</td><td>false     </td></tr>\n",
       "\t<tr><td>real</td><td>absolutely false,' trump says defiantly after women's groping allegations</td><td>trump     </td></tr>\n",
       "\t<tr><td>real</td><td>absolutely false,' trump says defiantly after women's groping allegations</td><td>says      </td></tr>\n",
       "\t<tr><td>real</td><td>absolutely false,' trump says defiantly after women's groping allegations</td><td>defiantly </td></tr>\n",
       "\t<tr><td>real</td><td>absolutely false,' trump says defiantly after women's groping allegations</td><td>after     </td></tr>\n",
       "</tbody>\n",
       "</table>\n"
      ],
      "text/latex": [
       "A tibble: 6 × 3\n",
       "\\begin{tabular}{lll}\n",
       " y & title & word\\\\\n",
       " <chr> & <chr> & <chr>\\\\\n",
       "\\hline\n",
       "\t real & absolutely false,' trump says defiantly after women's groping allegations & absolutely\\\\\n",
       "\t real & absolutely false,' trump says defiantly after women's groping allegations & false     \\\\\n",
       "\t real & absolutely false,' trump says defiantly after women's groping allegations & trump     \\\\\n",
       "\t real & absolutely false,' trump says defiantly after women's groping allegations & says      \\\\\n",
       "\t real & absolutely false,' trump says defiantly after women's groping allegations & defiantly \\\\\n",
       "\t real & absolutely false,' trump says defiantly after women's groping allegations & after     \\\\\n",
       "\\end{tabular}\n"
      ],
      "text/markdown": [
       "\n",
       "A tibble: 6 × 3\n",
       "\n",
       "| y &lt;chr&gt; | title &lt;chr&gt; | word &lt;chr&gt; |\n",
       "|---|---|---|\n",
       "| real | absolutely false,' trump says defiantly after women's groping allegations | absolutely |\n",
       "| real | absolutely false,' trump says defiantly after women's groping allegations | false      |\n",
       "| real | absolutely false,' trump says defiantly after women's groping allegations | trump      |\n",
       "| real | absolutely false,' trump says defiantly after women's groping allegations | says       |\n",
       "| real | absolutely false,' trump says defiantly after women's groping allegations | defiantly  |\n",
       "| real | absolutely false,' trump says defiantly after women's groping allegations | after      |\n",
       "\n"
      ],
      "text/plain": [
       "  y   \n",
       "1 real\n",
       "2 real\n",
       "3 real\n",
       "4 real\n",
       "5 real\n",
       "6 real\n",
       "  title                                                                    \n",
       "1 absolutely false,' trump says defiantly after women's groping allegations\n",
       "2 absolutely false,' trump says defiantly after women's groping allegations\n",
       "3 absolutely false,' trump says defiantly after women's groping allegations\n",
       "4 absolutely false,' trump says defiantly after women's groping allegations\n",
       "5 absolutely false,' trump says defiantly after women's groping allegations\n",
       "6 absolutely false,' trump says defiantly after women's groping allegations\n",
       "  word      \n",
       "1 absolutely\n",
       "2 false     \n",
       "3 trump     \n",
       "4 says      \n",
       "5 defiantly \n",
       "6 after     "
      ]
     },
     "metadata": {},
     "output_type": "display_data"
    }
   ],
   "source": [
    "tokens <- df_train %>%\n",
    "  select(y, title) %>%\n",
    "  unique() %>% \n",
    "  unnest_tokens(word, title, drop=FALSE) \n",
    "\n",
    "\n",
    "tokens2 <- df_train %>%\n",
    "  select(y, title) %>%\n",
    "  unique() %>% \n",
    "  mutate(title2 = title) %>% \n",
    "  unnest_tokens(output = word, input = title2, token = \"ngrams\", n = 2) \n",
    "\n",
    "tokens3 <- df_train %>%\n",
    "  select(y, title) %>%\n",
    "  unique() %>% \n",
    "  mutate(title2 = title) %>% \n",
    "  unnest_tokens(output = word, input = title2, token = \"ngrams\", n = 3) \n",
    "\n",
    "tokens <- rbind(tokens, tokens2, tokens3)\n",
    "\n",
    "head(tokens)"
   ]
  },
  {
   "cell_type": "markdown",
   "metadata": {},
   "source": [
    "### Stemming\n",
    "\n",
    "We will, of course, conduct stemming on the title, using the `textstem` library, which uses a stemmer based on the `libstemmer` C library developed in the early 2000s."
   ]
  },
  {
   "cell_type": "code",
   "execution_count": 18,
   "metadata": {},
   "outputs": [
    {
     "data": {
      "text/html": [
       "<table>\n",
       "<caption>A tibble: 6 × 4</caption>\n",
       "<thead>\n",
       "\t<tr><th scope=col>y</th><th scope=col>title</th><th scope=col>word</th><th scope=col>stemmed</th></tr>\n",
       "\t<tr><th scope=col>&lt;chr&gt;</th><th scope=col>&lt;chr&gt;</th><th scope=col>&lt;chr&gt;</th><th scope=col>&lt;chr&gt;</th></tr>\n",
       "</thead>\n",
       "<tbody>\n",
       "\t<tr><td>real</td><td>absolutely false,' trump says defiantly after women's groping allegations</td><td>absolutely</td><td>absolut  </td></tr>\n",
       "\t<tr><td>real</td><td>absolutely false,' trump says defiantly after women's groping allegations</td><td>false     </td><td>fals     </td></tr>\n",
       "\t<tr><td>real</td><td>absolutely false,' trump says defiantly after women's groping allegations</td><td>trump     </td><td>trump    </td></tr>\n",
       "\t<tr><td>real</td><td>absolutely false,' trump says defiantly after women's groping allegations</td><td>says      </td><td>sai      </td></tr>\n",
       "\t<tr><td>real</td><td>absolutely false,' trump says defiantly after women's groping allegations</td><td>defiantly </td><td>defiantli</td></tr>\n",
       "\t<tr><td>real</td><td>absolutely false,' trump says defiantly after women's groping allegations</td><td>after     </td><td>after    </td></tr>\n",
       "</tbody>\n",
       "</table>\n"
      ],
      "text/latex": [
       "A tibble: 6 × 4\n",
       "\\begin{tabular}{llll}\n",
       " y & title & word & stemmed\\\\\n",
       " <chr> & <chr> & <chr> & <chr>\\\\\n",
       "\\hline\n",
       "\t real & absolutely false,' trump says defiantly after women's groping allegations & absolutely & absolut  \\\\\n",
       "\t real & absolutely false,' trump says defiantly after women's groping allegations & false      & fals     \\\\\n",
       "\t real & absolutely false,' trump says defiantly after women's groping allegations & trump      & trump    \\\\\n",
       "\t real & absolutely false,' trump says defiantly after women's groping allegations & says       & sai      \\\\\n",
       "\t real & absolutely false,' trump says defiantly after women's groping allegations & defiantly  & defiantli\\\\\n",
       "\t real & absolutely false,' trump says defiantly after women's groping allegations & after      & after    \\\\\n",
       "\\end{tabular}\n"
      ],
      "text/markdown": [
       "\n",
       "A tibble: 6 × 4\n",
       "\n",
       "| y &lt;chr&gt; | title &lt;chr&gt; | word &lt;chr&gt; | stemmed &lt;chr&gt; |\n",
       "|---|---|---|---|\n",
       "| real | absolutely false,' trump says defiantly after women's groping allegations | absolutely | absolut   |\n",
       "| real | absolutely false,' trump says defiantly after women's groping allegations | false      | fals      |\n",
       "| real | absolutely false,' trump says defiantly after women's groping allegations | trump      | trump     |\n",
       "| real | absolutely false,' trump says defiantly after women's groping allegations | says       | sai       |\n",
       "| real | absolutely false,' trump says defiantly after women's groping allegations | defiantly  | defiantli |\n",
       "| real | absolutely false,' trump says defiantly after women's groping allegations | after      | after     |\n",
       "\n"
      ],
      "text/plain": [
       "  y   \n",
       "1 real\n",
       "2 real\n",
       "3 real\n",
       "4 real\n",
       "5 real\n",
       "6 real\n",
       "  title                                                                    \n",
       "1 absolutely false,' trump says defiantly after women's groping allegations\n",
       "2 absolutely false,' trump says defiantly after women's groping allegations\n",
       "3 absolutely false,' trump says defiantly after women's groping allegations\n",
       "4 absolutely false,' trump says defiantly after women's groping allegations\n",
       "5 absolutely false,' trump says defiantly after women's groping allegations\n",
       "6 absolutely false,' trump says defiantly after women's groping allegations\n",
       "  word       stemmed  \n",
       "1 absolutely absolut  \n",
       "2 false      fals     \n",
       "3 trump      trump    \n",
       "4 says       sai      \n",
       "5 defiantly  defiantli\n",
       "6 after      after    "
      ]
     },
     "metadata": {},
     "output_type": "display_data"
    }
   ],
   "source": [
    "stems <- tokens %>%\n",
    "  mutate(stemmed = stem_words(word))\n",
    "\n",
    "head(stems)"
   ]
  },
  {
   "cell_type": "markdown",
   "metadata": {},
   "source": [
    "###  Lemmatize\n",
    "\n",
    "Next, we clean up the tokens further by lemmatization, again using the `textstem` library:"
   ]
  },
  {
   "cell_type": "code",
   "execution_count": 19,
   "metadata": {},
   "outputs": [
    {
     "data": {
      "text/html": [
       "<table>\n",
       "<caption>A tibble: 6 × 5</caption>\n",
       "<thead>\n",
       "\t<tr><th scope=col>y</th><th scope=col>title</th><th scope=col>word</th><th scope=col>stemmed</th><th scope=col>lemma</th></tr>\n",
       "\t<tr><th scope=col>&lt;chr&gt;</th><th scope=col>&lt;chr&gt;</th><th scope=col>&lt;chr&gt;</th><th scope=col>&lt;chr&gt;</th><th scope=col>&lt;chr&gt;</th></tr>\n",
       "</thead>\n",
       "<tbody>\n",
       "\t<tr><td>real</td><td>absolutely false,' trump says defiantly after women's groping allegations</td><td>absolutely</td><td>absolut  </td><td>absolut  </td></tr>\n",
       "\t<tr><td>real</td><td>absolutely false,' trump says defiantly after women's groping allegations</td><td>false     </td><td>fals     </td><td>fals     </td></tr>\n",
       "\t<tr><td>real</td><td>absolutely false,' trump says defiantly after women's groping allegations</td><td>trump     </td><td>trump    </td><td>trump    </td></tr>\n",
       "\t<tr><td>real</td><td>absolutely false,' trump says defiantly after women's groping allegations</td><td>says      </td><td>sai      </td><td>sai      </td></tr>\n",
       "\t<tr><td>real</td><td>absolutely false,' trump says defiantly after women's groping allegations</td><td>defiantly </td><td>defiantli</td><td>defiantli</td></tr>\n",
       "\t<tr><td>real</td><td>absolutely false,' trump says defiantly after women's groping allegations</td><td>after     </td><td>after    </td><td>after    </td></tr>\n",
       "</tbody>\n",
       "</table>\n"
      ],
      "text/latex": [
       "A tibble: 6 × 5\n",
       "\\begin{tabular}{lllll}\n",
       " y & title & word & stemmed & lemma\\\\\n",
       " <chr> & <chr> & <chr> & <chr> & <chr>\\\\\n",
       "\\hline\n",
       "\t real & absolutely false,' trump says defiantly after women's groping allegations & absolutely & absolut   & absolut  \\\\\n",
       "\t real & absolutely false,' trump says defiantly after women's groping allegations & false      & fals      & fals     \\\\\n",
       "\t real & absolutely false,' trump says defiantly after women's groping allegations & trump      & trump     & trump    \\\\\n",
       "\t real & absolutely false,' trump says defiantly after women's groping allegations & says       & sai       & sai      \\\\\n",
       "\t real & absolutely false,' trump says defiantly after women's groping allegations & defiantly  & defiantli & defiantli\\\\\n",
       "\t real & absolutely false,' trump says defiantly after women's groping allegations & after      & after     & after    \\\\\n",
       "\\end{tabular}\n"
      ],
      "text/markdown": [
       "\n",
       "A tibble: 6 × 5\n",
       "\n",
       "| y &lt;chr&gt; | title &lt;chr&gt; | word &lt;chr&gt; | stemmed &lt;chr&gt; | lemma &lt;chr&gt; |\n",
       "|---|---|---|---|---|\n",
       "| real | absolutely false,' trump says defiantly after women's groping allegations | absolutely | absolut   | absolut   |\n",
       "| real | absolutely false,' trump says defiantly after women's groping allegations | false      | fals      | fals      |\n",
       "| real | absolutely false,' trump says defiantly after women's groping allegations | trump      | trump     | trump     |\n",
       "| real | absolutely false,' trump says defiantly after women's groping allegations | says       | sai       | sai       |\n",
       "| real | absolutely false,' trump says defiantly after women's groping allegations | defiantly  | defiantli | defiantli |\n",
       "| real | absolutely false,' trump says defiantly after women's groping allegations | after      | after     | after     |\n",
       "\n"
      ],
      "text/plain": [
       "  y   \n",
       "1 real\n",
       "2 real\n",
       "3 real\n",
       "4 real\n",
       "5 real\n",
       "6 real\n",
       "  title                                                                    \n",
       "1 absolutely false,' trump says defiantly after women's groping allegations\n",
       "2 absolutely false,' trump says defiantly after women's groping allegations\n",
       "3 absolutely false,' trump says defiantly after women's groping allegations\n",
       "4 absolutely false,' trump says defiantly after women's groping allegations\n",
       "5 absolutely false,' trump says defiantly after women's groping allegations\n",
       "6 absolutely false,' trump says defiantly after women's groping allegations\n",
       "  word       stemmed   lemma    \n",
       "1 absolutely absolut   absolut  \n",
       "2 false      fals      fals     \n",
       "3 trump      trump     trump    \n",
       "4 says       sai       sai      \n",
       "5 defiantly  defiantli defiantli\n",
       "6 after      after     after    "
      ]
     },
     "metadata": {},
     "output_type": "display_data"
    }
   ],
   "source": [
    "lemmas <- stems %>%\n",
    "  mutate(lemma = lemmatize_words(stemmed))\n",
    "\n",
    "head(lemmas)"
   ]
  },
  {
   "cell_type": "markdown",
   "metadata": {},
   "source": [
    "## Feature engineering\n",
    "\n",
    "**ADD ADDITIONAL FEATURES HERE, INCORPORATE FROM ABOVE?**\n",
    "\n",
    "Now we  calculate TF-IDF. Those scores and all other features are incorporated to a data frame called `X` for later machine learning."
   ]
  },
  {
   "cell_type": "code",
   "execution_count": 20,
   "metadata": {},
   "outputs": [
    {
     "data": {
      "text/html": [
       "<table>\n",
       "<caption>A tibble: 6 × 4</caption>\n",
       "<thead>\n",
       "\t<tr><th scope=col>title</th><th scope=col>y</th><th scope=col>lemma</th><th scope=col>n</th></tr>\n",
       "\t<tr><th scope=col>&lt;chr&gt;</th><th scope=col>&lt;chr&gt;</th><th scope=col>&lt;chr&gt;</th><th scope=col>&lt;int&gt;</th></tr>\n",
       "</thead>\n",
       "<tbody>\n",
       "\t<tr><td>mother of son killed in afghanistan to antiamerican er’s qb colin kaepernick: “my heart is exploding, my lungs are without air, my blood is boiling, my body is shaking, and tears are running down my face” [video]</td><td>fake</td><td>my   </td><td>5</td></tr>\n",
       "\t<tr><td>whoa black woman fed up with black racists nails it: “many black people voted for barack obama simply because he was black…and now your black god has failed you!” [video]                                          </td><td>fake</td><td>black</td><td>5</td></tr>\n",
       "\t<tr><td>andrew breitbart “i don’t care who our candidate is…i will march behind whoever our candidate is, because if we don’t…we lose!”[video]                                                                              </td><td>fake</td><td>i    </td><td>4</td></tr>\n",
       "\t<tr><td>boom mother of black son murdered by blacks: “i don’t preach black lives matter, because black lives only matters when law enforcement is involved” [video]                                                         </td><td>fake</td><td>black</td><td>4</td></tr>\n",
       "\t<tr><td>democrats chant warning to gop as trumpcare passes na na na na, hey hey hey, goodbye! (video)                                                                                                                       </td><td>fake</td><td>na   </td><td>4</td></tr>\n",
       "\t<tr><td>hillary panders to black radio hosts in attempt to tie herself to racist beyonce songhost asks if she needs mouth to mouth or cpr? [watch]                                                                          </td><td>fake</td><td>to   </td><td>4</td></tr>\n",
       "</tbody>\n",
       "</table>\n"
      ],
      "text/latex": [
       "A tibble: 6 × 4\n",
       "\\begin{tabular}{llll}\n",
       " title & y & lemma & n\\\\\n",
       " <chr> & <chr> & <chr> & <int>\\\\\n",
       "\\hline\n",
       "\t mother of son killed in afghanistan to antiamerican er’s qb colin kaepernick: “my heart is exploding, my lungs are without air, my blood is boiling, my body is shaking, and tears are running down my face” {[}video{]} & fake & my    & 5\\\\\n",
       "\t whoa black woman fed up with black racists nails it: “many black people voted for barack obama simply because he was black…and now your black god has failed you!” {[}video{]}                                           & fake & black & 5\\\\\n",
       "\t andrew breitbart “i don’t care who our candidate is…i will march behind whoever our candidate is, because if we don’t…we lose!”{[}video{]}                                                                               & fake & i     & 4\\\\\n",
       "\t boom mother of black son murdered by blacks: “i don’t preach black lives matter, because black lives only matters when law enforcement is involved” {[}video{]}                                                          & fake & black & 4\\\\\n",
       "\t democrats chant warning to gop as trumpcare passes na na na na, hey hey hey, goodbye! (video)                                                                                                                        & fake & na    & 4\\\\\n",
       "\t hillary panders to black radio hosts in attempt to tie herself to racist beyonce songhost asks if she needs mouth to mouth or cpr? {[}watch{]}                                                                           & fake & to    & 4\\\\\n",
       "\\end{tabular}\n"
      ],
      "text/markdown": [
       "\n",
       "A tibble: 6 × 4\n",
       "\n",
       "| title &lt;chr&gt; | y &lt;chr&gt; | lemma &lt;chr&gt; | n &lt;int&gt; |\n",
       "|---|---|---|---|\n",
       "| mother of son killed in afghanistan to antiamerican er’s qb colin kaepernick: “my heart is exploding, my lungs are without air, my blood is boiling, my body is shaking, and tears are running down my face” [video] | fake | my    | 5 |\n",
       "| whoa black woman fed up with black racists nails it: “many black people voted for barack obama simply because he was black…and now your black god has failed you!” [video]                                           | fake | black | 5 |\n",
       "| andrew breitbart “i don’t care who our candidate is…i will march behind whoever our candidate is, because if we don’t…we lose!”[video]                                                                               | fake | i     | 4 |\n",
       "| boom mother of black son murdered by blacks: “i don’t preach black lives matter, because black lives only matters when law enforcement is involved” [video]                                                          | fake | black | 4 |\n",
       "| democrats chant warning to gop as trumpcare passes na na na na, hey hey hey, goodbye! (video)                                                                                                                        | fake | na    | 4 |\n",
       "| hillary panders to black radio hosts in attempt to tie herself to racist beyonce songhost asks if she needs mouth to mouth or cpr? [watch]                                                                           | fake | to    | 4 |\n",
       "\n"
      ],
      "text/plain": [
       "  title                                                                                                                                                                                                               \n",
       "1 mother of son killed in afghanistan to antiamerican er’s qb colin kaepernick: “my heart is exploding, my lungs are without air, my blood is boiling, my body is shaking, and tears are running down my face” [video]\n",
       "2 whoa black woman fed up with black racists nails it: “many black people voted for barack obama simply because he was black…and now your black god has failed you!” [video]                                          \n",
       "3 andrew breitbart “i don’t care who our candidate is…i will march behind whoever our candidate is, because if we don’t…we lose!”[video]                                                                              \n",
       "4 boom mother of black son murdered by blacks: “i don’t preach black lives matter, because black lives only matters when law enforcement is involved” [video]                                                         \n",
       "5 democrats chant warning to gop as trumpcare passes na na na na, hey hey hey, goodbye! (video)                                                                                                                       \n",
       "6 hillary panders to black radio hosts in attempt to tie herself to racist beyonce songhost asks if she needs mouth to mouth or cpr? [watch]                                                                          \n",
       "  y    lemma n\n",
       "1 fake my    5\n",
       "2 fake black 5\n",
       "3 fake i     4\n",
       "4 fake black 4\n",
       "5 fake na    4\n",
       "6 fake to    4"
      ]
     },
     "metadata": {},
     "output_type": "display_data"
    }
   ],
   "source": [
    "token_count <- lemmas %>%\n",
    "  count(title, y, lemma, sort=TRUE) %>%\n",
    "  ungroup()\n",
    "head(token_count)"
   ]
  },
  {
   "cell_type": "code",
   "execution_count": 21,
   "metadata": {},
   "outputs": [
    {
     "data": {
      "text/html": [
       "<table>\n",
       "<caption>A grouped_df: 6 × 4</caption>\n",
       "<thead>\n",
       "\t<tr><th scope=col>title</th><th scope=col>y</th><th scope=col>total</th><th scope=col>.groups</th></tr>\n",
       "\t<tr><th scope=col>&lt;chr&gt;</th><th scope=col>&lt;chr&gt;</th><th scope=col>&lt;int&gt;</th><th scope=col>&lt;chr&gt;</th></tr>\n",
       "</thead>\n",
       "<tbody>\n",
       "\t<tr><td>$5 million down the drain….day 5 wi recount: trump +25                         </td><td>fake</td><td>30</td><td>keep</td></tr>\n",
       "\t<tr><td>000 ma drug cases could be thrown out because of drug stealing lab scandal     </td><td>fake</td><td>39</td><td>keep</td></tr>\n",
       "\t<tr><td>57 degrees: kevin bacon’s cultural mantle shattered by zuckerberg              </td><td>fake</td><td>24</td><td>keep</td></tr>\n",
       "\t<tr><td>700 syrian refugees approved resettlement to u.s.: homeland security chief     </td><td>real</td><td>27</td><td>keep</td></tr>\n",
       "\t<tr><td>a barb at germany puts trump administration on collision course with eu        </td><td>real</td><td>33</td><td>keep</td></tr>\n",
       "\t<tr><td>a bipartisan miracle: federal employee health plans add critical autism benefit</td><td>fake</td><td>30</td><td>keep</td></tr>\n",
       "</tbody>\n",
       "</table>\n"
      ],
      "text/latex": [
       "A grouped\\_df: 6 × 4\n",
       "\\begin{tabular}{llll}\n",
       " title & y & total & .groups\\\\\n",
       " <chr> & <chr> & <int> & <chr>\\\\\n",
       "\\hline\n",
       "\t \\$5 million down the drain….day 5 wi recount: trump +25                          & fake & 30 & keep\\\\\n",
       "\t 000 ma drug cases could be thrown out because of drug stealing lab scandal      & fake & 39 & keep\\\\\n",
       "\t 57 degrees: kevin bacon’s cultural mantle shattered by zuckerberg               & fake & 24 & keep\\\\\n",
       "\t 700 syrian refugees approved resettlement to u.s.: homeland security chief      & real & 27 & keep\\\\\n",
       "\t a barb at germany puts trump administration on collision course with eu         & real & 33 & keep\\\\\n",
       "\t a bipartisan miracle: federal employee health plans add critical autism benefit & fake & 30 & keep\\\\\n",
       "\\end{tabular}\n"
      ],
      "text/markdown": [
       "\n",
       "A grouped_df: 6 × 4\n",
       "\n",
       "| title &lt;chr&gt; | y &lt;chr&gt; | total &lt;int&gt; | .groups &lt;chr&gt; |\n",
       "|---|---|---|---|\n",
       "| $5 million down the drain….day 5 wi recount: trump +25                          | fake | 30 | keep |\n",
       "| 000 ma drug cases could be thrown out because of drug stealing lab scandal      | fake | 39 | keep |\n",
       "| 57 degrees: kevin bacon’s cultural mantle shattered by zuckerberg               | fake | 24 | keep |\n",
       "| 700 syrian refugees approved resettlement to u.s.: homeland security chief      | real | 27 | keep |\n",
       "| a barb at germany puts trump administration on collision course with eu         | real | 33 | keep |\n",
       "| a bipartisan miracle: federal employee health plans add critical autism benefit | fake | 30 | keep |\n",
       "\n"
      ],
      "text/plain": [
       "  title                                                                          \n",
       "1 $5 million down the drain….day 5 wi recount: trump +25                         \n",
       "2 000 ma drug cases could be thrown out because of drug stealing lab scandal     \n",
       "3 57 degrees: kevin bacon’s cultural mantle shattered by zuckerberg              \n",
       "4 700 syrian refugees approved resettlement to u.s.: homeland security chief     \n",
       "5 a barb at germany puts trump administration on collision course with eu        \n",
       "6 a bipartisan miracle: federal employee health plans add critical autism benefit\n",
       "  y    total .groups\n",
       "1 fake 30    keep   \n",
       "2 fake 39    keep   \n",
       "3 fake 24    keep   \n",
       "4 real 27    keep   \n",
       "5 real 33    keep   \n",
       "6 fake 30    keep   "
      ]
     },
     "metadata": {},
     "output_type": "display_data"
    }
   ],
   "source": [
    "total_words <- token_count %>%\n",
    "  group_by(title, y) %>%\n",
    "  summarise(total = sum(n), .groups='keep')\n",
    "head(total_words)"
   ]
  },
  {
   "cell_type": "code",
   "execution_count": 22,
   "metadata": {},
   "outputs": [
    {
     "data": {
      "text/html": [
       "<table>\n",
       "<caption>A tibble: 6 × 7</caption>\n",
       "<thead>\n",
       "\t<tr><th scope=col>title</th><th scope=col>y</th><th scope=col>lemma</th><th scope=col>n</th><th scope=col>tf</th><th scope=col>idf</th><th scope=col>tf_idf</th></tr>\n",
       "\t<tr><th scope=col>&lt;chr&gt;</th><th scope=col>&lt;chr&gt;</th><th scope=col>&lt;chr&gt;</th><th scope=col>&lt;int&gt;</th><th scope=col>&lt;dbl&gt;</th><th scope=col>&lt;dbl&gt;</th><th scope=col>&lt;dbl&gt;</th></tr>\n",
       "</thead>\n",
       "<tbody>\n",
       "\t<tr><td>mother of son killed in afghanistan to antiamerican er’s qb colin kaepernick: “my heart is exploding, my lungs are without air, my blood is boiling, my body is shaking, and tears are running down my face” [video]</td><td>fake</td><td>my   </td><td>5</td><td>0.04629630</td><td>5.382133</td><td>0.24917283</td></tr>\n",
       "\t<tr><td>whoa black woman fed up with black racists nails it: “many black people voted for barack obama simply because he was black…and now your black god has failed you!” [video]                                          </td><td>fake</td><td>black</td><td>5</td><td>0.05555556</td><td>3.784190</td><td>0.21023276</td></tr>\n",
       "\t<tr><td>andrew breitbart “i don’t care who our candidate is…i will march behind whoever our candidate is, because if we don’t…we lose!”[video]                                                                              </td><td>fake</td><td>i    </td><td>4</td><td>0.05797101</td><td>2.414653</td><td>0.13997991</td></tr>\n",
       "\t<tr><td>boom mother of black son murdered by blacks: “i don’t preach black lives matter, because black lives only matters when law enforcement is involved” [video]                                                         </td><td>fake</td><td>black</td><td>4</td><td>0.05555556</td><td>3.784190</td><td>0.21023276</td></tr>\n",
       "\t<tr><td>hillary panders to black radio hosts in attempt to tie herself to racist beyonce songhost asks if she needs mouth to mouth or cpr? [watch]                                                                          </td><td>fake</td><td>to   </td><td>4</td><td>0.05555556</td><td>1.098153</td><td>0.06100848</td></tr>\n",
       "\t<tr><td>how hillary clinton has secured her husbands legacy as “a rapist” and hers as an “enabler” [video]                                                                                                                  </td><td>fake</td><td>a    </td><td>4</td><td>0.08333333</td><td>1.906182</td><td>0.15884848</td></tr>\n",
       "</tbody>\n",
       "</table>\n"
      ],
      "text/latex": [
       "A tibble: 6 × 7\n",
       "\\begin{tabular}{lllllll}\n",
       " title & y & lemma & n & tf & idf & tf\\_idf\\\\\n",
       " <chr> & <chr> & <chr> & <int> & <dbl> & <dbl> & <dbl>\\\\\n",
       "\\hline\n",
       "\t mother of son killed in afghanistan to antiamerican er’s qb colin kaepernick: “my heart is exploding, my lungs are without air, my blood is boiling, my body is shaking, and tears are running down my face” {[}video{]} & fake & my    & 5 & 0.04629630 & 5.382133 & 0.24917283\\\\\n",
       "\t whoa black woman fed up with black racists nails it: “many black people voted for barack obama simply because he was black…and now your black god has failed you!” {[}video{]}                                           & fake & black & 5 & 0.05555556 & 3.784190 & 0.21023276\\\\\n",
       "\t andrew breitbart “i don’t care who our candidate is…i will march behind whoever our candidate is, because if we don’t…we lose!”{[}video{]}                                                                               & fake & i     & 4 & 0.05797101 & 2.414653 & 0.13997991\\\\\n",
       "\t boom mother of black son murdered by blacks: “i don’t preach black lives matter, because black lives only matters when law enforcement is involved” {[}video{]}                                                          & fake & black & 4 & 0.05555556 & 3.784190 & 0.21023276\\\\\n",
       "\t hillary panders to black radio hosts in attempt to tie herself to racist beyonce songhost asks if she needs mouth to mouth or cpr? {[}watch{]}                                                                           & fake & to    & 4 & 0.05555556 & 1.098153 & 0.06100848\\\\\n",
       "\t how hillary clinton has secured her husbands legacy as “a rapist” and hers as an “enabler” {[}video{]}                                                                                                                   & fake & a     & 4 & 0.08333333 & 1.906182 & 0.15884848\\\\\n",
       "\\end{tabular}\n"
      ],
      "text/markdown": [
       "\n",
       "A tibble: 6 × 7\n",
       "\n",
       "| title &lt;chr&gt; | y &lt;chr&gt; | lemma &lt;chr&gt; | n &lt;int&gt; | tf &lt;dbl&gt; | idf &lt;dbl&gt; | tf_idf &lt;dbl&gt; |\n",
       "|---|---|---|---|---|---|---|\n",
       "| mother of son killed in afghanistan to antiamerican er’s qb colin kaepernick: “my heart is exploding, my lungs are without air, my blood is boiling, my body is shaking, and tears are running down my face” [video] | fake | my    | 5 | 0.04629630 | 5.382133 | 0.24917283 |\n",
       "| whoa black woman fed up with black racists nails it: “many black people voted for barack obama simply because he was black…and now your black god has failed you!” [video]                                           | fake | black | 5 | 0.05555556 | 3.784190 | 0.21023276 |\n",
       "| andrew breitbart “i don’t care who our candidate is…i will march behind whoever our candidate is, because if we don’t…we lose!”[video]                                                                               | fake | i     | 4 | 0.05797101 | 2.414653 | 0.13997991 |\n",
       "| boom mother of black son murdered by blacks: “i don’t preach black lives matter, because black lives only matters when law enforcement is involved” [video]                                                          | fake | black | 4 | 0.05555556 | 3.784190 | 0.21023276 |\n",
       "| hillary panders to black radio hosts in attempt to tie herself to racist beyonce songhost asks if she needs mouth to mouth or cpr? [watch]                                                                           | fake | to    | 4 | 0.05555556 | 1.098153 | 0.06100848 |\n",
       "| how hillary clinton has secured her husbands legacy as “a rapist” and hers as an “enabler” [video]                                                                                                                   | fake | a     | 4 | 0.08333333 | 1.906182 | 0.15884848 |\n",
       "\n"
      ],
      "text/plain": [
       "  title                                                                                                                                                                                                               \n",
       "1 mother of son killed in afghanistan to antiamerican er’s qb colin kaepernick: “my heart is exploding, my lungs are without air, my blood is boiling, my body is shaking, and tears are running down my face” [video]\n",
       "2 whoa black woman fed up with black racists nails it: “many black people voted for barack obama simply because he was black…and now your black god has failed you!” [video]                                          \n",
       "3 andrew breitbart “i don’t care who our candidate is…i will march behind whoever our candidate is, because if we don’t…we lose!”[video]                                                                              \n",
       "4 boom mother of black son murdered by blacks: “i don’t preach black lives matter, because black lives only matters when law enforcement is involved” [video]                                                         \n",
       "5 hillary panders to black radio hosts in attempt to tie herself to racist beyonce songhost asks if she needs mouth to mouth or cpr? [watch]                                                                          \n",
       "6 how hillary clinton has secured her husbands legacy as “a rapist” and hers as an “enabler” [video]                                                                                                                  \n",
       "  y    lemma n tf         idf      tf_idf    \n",
       "1 fake my    5 0.04629630 5.382133 0.24917283\n",
       "2 fake black 5 0.05555556 3.784190 0.21023276\n",
       "3 fake i     4 0.05797101 2.414653 0.13997991\n",
       "4 fake black 4 0.05555556 3.784190 0.21023276\n",
       "5 fake to    4 0.05555556 1.098153 0.06100848\n",
       "6 fake a     4 0.08333333 1.906182 0.15884848"
      ]
     },
     "metadata": {},
     "output_type": "display_data"
    }
   ],
   "source": [
    "token_count <- token_count %>%\n",
    "  bind_tf_idf(lemma, title, n)\n",
    "\n",
    "# Remove tokens with less than 10 instances\n",
    "tc <- token_count %>%\n",
    "  group_by(lemma) %>%\n",
    "  summarise(n=sum(n), .groups='keep') %>%\n",
    "  filter(n > 10)\n",
    "\n",
    "token_count <- token_count %>%\n",
    "  filter(lemma %in% tc$lemma)\n",
    "\n",
    "head(token_count)"
   ]
  },
  {
   "cell_type": "code",
   "execution_count": 23,
   "metadata": {},
   "outputs": [
    {
     "name": "stderr",
     "output_type": "stream",
     "text": [
      "Warning message:\n",
      "\"The `x` argument of `as_tibble.matrix()` must have column names if `.name_repair` is omitted as of tibble 2.0.0.\n",
      "Using compatibility `.name_repair`.\n",
      "\u001b[90mThis warning is displayed once every 8 hours.\u001b[39m\n",
      "\u001b[90mCall `lifecycle::last_warnings()` to see where this warning was generated.\u001b[39m\"\n"
     ]
    }
   ],
   "source": [
    "# Make into a wide, tidy data frame for machine learning\n",
    "X <- token_count %>%\n",
    "  select(title, y, lemma, tf_idf) %>% \n",
    "  filter(lemma != 'title',\n",
    "         lemma != 'y') %>%  # remove because I'm already using 'title' and 'y'\n",
    "  unique() %>%  \n",
    "  tidyr::spread(lemma, tf_idf) %>%\n",
    "  janitor::clean_names() %>%  # VERY HANDY FUNCTION!\n",
    "  replace(is.na(.), 0) %>%\n",
    "  select(-contains('_2'))"
   ]
  },
  {
   "cell_type": "code",
   "execution_count": 24,
   "metadata": {},
   "outputs": [
    {
     "data": {
      "text/html": [
       "<style>\n",
       ".list-inline {list-style: none; margin:0; padding: 0}\n",
       ".list-inline>li {display: inline-block}\n",
       ".list-inline>li:not(:last-child)::after {content: \"\\00b7\"; padding: 0 .5ex}\n",
       "</style>\n",
       "<ol class=list-inline><li>15223</li><li>3611</li></ol>\n"
      ],
      "text/latex": [
       "\\begin{enumerate*}\n",
       "\\item 15223\n",
       "\\item 3611\n",
       "\\end{enumerate*}\n"
      ],
      "text/markdown": [
       "1. 15223\n",
       "2. 3611\n",
       "\n",
       "\n"
      ],
      "text/plain": [
       "[1] 15223  3611"
      ]
     },
     "metadata": {},
     "output_type": "display_data"
    },
    {
     "data": {
      "text/html": [
       "<table>\n",
       "<caption>A tibble: 6 × 6</caption>\n",
       "<thead>\n",
       "\t<tr><th scope=col>title</th><th scope=col>y</th><th scope=col>confid</th><th scope=col>death_of</th><th scope=col>doe</th><th scope=col>f_cking</th></tr>\n",
       "\t<tr><th scope=col>&lt;chr&gt;</th><th scope=col>&lt;chr&gt;</th><th scope=col>&lt;dbl&gt;</th><th scope=col>&lt;dbl&gt;</th><th scope=col>&lt;dbl&gt;</th><th scope=col>&lt;dbl&gt;</th></tr>\n",
       "</thead>\n",
       "<tbody>\n",
       "\t<tr><td>$5 million down the drain….day 5 wi recount: trump +25                         </td><td>fake</td><td>0</td><td>0</td><td>0</td><td>0</td></tr>\n",
       "\t<tr><td>000 ma drug cases could be thrown out because of drug stealing lab scandal     </td><td>fake</td><td>0</td><td>0</td><td>0</td><td>0</td></tr>\n",
       "\t<tr><td>57 degrees: kevin bacon’s cultural mantle shattered by zuckerberg              </td><td>fake</td><td>0</td><td>0</td><td>0</td><td>0</td></tr>\n",
       "\t<tr><td>700 syrian refugees approved resettlement to u.s.: homeland security chief     </td><td>real</td><td>0</td><td>0</td><td>0</td><td>0</td></tr>\n",
       "\t<tr><td>a barb at germany puts trump administration on collision course with eu        </td><td>real</td><td>0</td><td>0</td><td>0</td><td>0</td></tr>\n",
       "\t<tr><td>a bipartisan miracle: federal employee health plans add critical autism benefit</td><td>fake</td><td>0</td><td>0</td><td>0</td><td>0</td></tr>\n",
       "</tbody>\n",
       "</table>\n"
      ],
      "text/latex": [
       "A tibble: 6 × 6\n",
       "\\begin{tabular}{llllll}\n",
       " title & y & confid & death\\_of & doe & f\\_cking\\\\\n",
       " <chr> & <chr> & <dbl> & <dbl> & <dbl> & <dbl>\\\\\n",
       "\\hline\n",
       "\t \\$5 million down the drain….day 5 wi recount: trump +25                          & fake & 0 & 0 & 0 & 0\\\\\n",
       "\t 000 ma drug cases could be thrown out because of drug stealing lab scandal      & fake & 0 & 0 & 0 & 0\\\\\n",
       "\t 57 degrees: kevin bacon’s cultural mantle shattered by zuckerberg               & fake & 0 & 0 & 0 & 0\\\\\n",
       "\t 700 syrian refugees approved resettlement to u.s.: homeland security chief      & real & 0 & 0 & 0 & 0\\\\\n",
       "\t a barb at germany puts trump administration on collision course with eu         & real & 0 & 0 & 0 & 0\\\\\n",
       "\t a bipartisan miracle: federal employee health plans add critical autism benefit & fake & 0 & 0 & 0 & 0\\\\\n",
       "\\end{tabular}\n"
      ],
      "text/markdown": [
       "\n",
       "A tibble: 6 × 6\n",
       "\n",
       "| title &lt;chr&gt; | y &lt;chr&gt; | confid &lt;dbl&gt; | death_of &lt;dbl&gt; | doe &lt;dbl&gt; | f_cking &lt;dbl&gt; |\n",
       "|---|---|---|---|---|---|\n",
       "| $5 million down the drain….day 5 wi recount: trump +25                          | fake | 0 | 0 | 0 | 0 |\n",
       "| 000 ma drug cases could be thrown out because of drug stealing lab scandal      | fake | 0 | 0 | 0 | 0 |\n",
       "| 57 degrees: kevin bacon’s cultural mantle shattered by zuckerberg               | fake | 0 | 0 | 0 | 0 |\n",
       "| 700 syrian refugees approved resettlement to u.s.: homeland security chief      | real | 0 | 0 | 0 | 0 |\n",
       "| a barb at germany puts trump administration on collision course with eu         | real | 0 | 0 | 0 | 0 |\n",
       "| a bipartisan miracle: federal employee health plans add critical autism benefit | fake | 0 | 0 | 0 | 0 |\n",
       "\n"
      ],
      "text/plain": [
       "  title                                                                          \n",
       "1 $5 million down the drain….day 5 wi recount: trump +25                         \n",
       "2 000 ma drug cases could be thrown out because of drug stealing lab scandal     \n",
       "3 57 degrees: kevin bacon’s cultural mantle shattered by zuckerberg              \n",
       "4 700 syrian refugees approved resettlement to u.s.: homeland security chief     \n",
       "5 a barb at germany puts trump administration on collision course with eu        \n",
       "6 a bipartisan miracle: federal employee health plans add critical autism benefit\n",
       "  y    confid death_of doe f_cking\n",
       "1 fake 0      0        0   0      \n",
       "2 fake 0      0        0   0      \n",
       "3 fake 0      0        0   0      \n",
       "4 real 0      0        0   0      \n",
       "5 real 0      0        0   0      \n",
       "6 fake 0      0        0   0      "
      ]
     },
     "metadata": {},
     "output_type": "display_data"
    },
    {
     "data": {
      "text/plain": [
       "\n",
       "     fake      real \n",
       "0.6222821 0.3777179 "
      ]
     },
     "metadata": {},
     "output_type": "display_data"
    }
   ],
   "source": [
    "dim(X)\n",
    "head(X[, c(1,2,601, 709, 804, 945)])\n",
    "prop.table(table(X$y))"
   ]
  },
  {
   "cell_type": "markdown",
   "metadata": {},
   "source": [
    "Our final TF-IDF matrix has almost 39,000 articles (rows), 4156 token TF-IDF scores (columns), and a reasonably balanced distribution of fake and real news.\n",
    "\n",
    "**ADD ADDITIONAL FEATURES HERE!**"
   ]
  },
  {
   "cell_type": "markdown",
   "metadata": {},
   "source": [
    "## Modeling\n",
    "\n",
    "With almost 14,000 potential variable, we would like to drop those to a more reasonable set. First, remove low variance using the ratio of a variable's unique values to its sample size. By default, `nearZeroVar` suggests all the variables have sparse variancel; this is fixed by modifying the default value for `uniqueCut`:"
   ]
  },
  {
   "cell_type": "code",
   "execution_count": null,
   "metadata": {},
   "outputs": [],
   "source": []
  },
  {
   "cell_type": "code",
   "execution_count": 29,
   "metadata": {},
   "outputs": [
    {
     "name": "stdout",
     "output_type": "stream",
     "text": [
      "  [1]    4    7   10   11   12   18   19   20   21   23   25   27   30   33   36\n",
      " [16]   37   38   41   42   45   47   48   49   53   54   55   57   58   59   61\n",
      " [31]   62   64   66   67   76   77   78   79   80   81   82   84   86   87   89\n",
      " [46]   90   91   93   96   99  103  106  108  109  110  112  115  116  117  118\n",
      " [61]  119  121  123  126  129  130  133  134  136  140  149  150  155  156  160\n",
      " [76]  163  164  166  167  168  171  174  176  184  186  187  189  190  191  192\n",
      " [91]  196  202  203  205  208  209  210  211  213  216  217  219  221  222  228\n",
      "[106]  229  230  233  237  239  240  243  246  247  253  257  258  259  261  262\n",
      "[121]  264  265  267  270  271  272  275  276  277  278  280  281  283  289  290\n",
      "[136]  295  297  302  304  305  307  308  309  313  315  316  318  319  321  322\n",
      "[151]  324  329  330  331  333  334  335  340  341  344  345  348  350  353  355\n",
      "[166]  356  363  364  366  367  368  369  373  375  377  378  379  380  381  383\n",
      "[181]  385  388  391  392  396  399  401  408  410  412  413  414  416  420  421\n",
      "[196]  425  431  432  440  441  443  446  448  450  452  454  455  456  459  460\n",
      "[211]  462  463  466  467  470  478  479  482  483  486  489  490  492  493  500\n",
      "[226]  502  503  505  506  509  516  518  526  533  536  538  542  543  544  545\n",
      "[241]  546  548  550  552  554  555  556  557  559  563  565  566  572  573  575\n",
      "[256]  576  577  578  580  582  583  584  587  588  589  590  591  595  597  599\n",
      "[271]  601  602  603  604  607  608  609  611  614  616  619  621  622  623  628\n",
      "[286]  629  632  638  639  641  645  646  648  658  660  661  662  664  669  670\n",
      "[301]  672  673  674  680  684  685  688  689  691  692  693  697  699  700  702\n",
      "[316]  703  704  705  708  709  710  712  717  718  720  721  725  726  729  733\n",
      "[331]  734  736  738  739  740  741  743  745  747  755  758  760  761  763  765\n",
      "[346]  766  770  771  775  776  777  778  781  782  784  785  786  787  789  790\n",
      "[361]  792  793  794  797  803  804  805  809  811  815  819  820  825  826  827\n",
      "[376]  836  843  845  849  850  853  856  860  861  865  869  870  873  874  881\n",
      "[391]  883  884  885  886  891  895  897  899  900  901  902  903  908  910  912\n",
      "[406]  914  915  920  922  927  929  937  938  939  940  941  942  943  945  951\n",
      "[421]  952  953  956  961  963  965  966  968  970  971  972  974  975  976  978\n",
      "[436]  980  983  984  987  990  991  994  996  998  999 1000 1001 1004 1007 1009\n",
      "[451] 1010 1014 1015 1016 1017 1018 1019 1021 1025 1026 1030 1031 1032 1033 1034\n",
      "[466] 1037 1038 1041 1042 1043 1044 1050 1051 1053 1054 1057 1058 1060 1062 1063\n",
      "[481] 1064 1065 1066 1068 1069 1070 1076 1078 1079 1080 1084 1085 1087 1089 1090\n",
      "[496] 1098 1099 1102 1103 1105 1107 1109 1111 1113 1115 1116 1117 1118 1119 1120\n",
      "[511] 1124 1126 1128 1129 1130 1135 1138 1139 1140 1141 1146 1149 1151 1155 1157\n",
      "[526] 1158 1159 1160 1161 1162 1164 1165 1166 1167 1168 1173 1174 1182 1185 1187\n",
      "[541] 1188 1193 1196 1198 1199 1200 1202 1203 1204 1205 1206 1207 1209 1212 1213\n",
      "[556] 1214 1216 1220 1221 1222 1223 1226 1228 1230 1231 1236 1237 1238 1239 1241\n",
      "[571] 1242 1243 1244 1245 1246 1247 1249 1254 1256 1257 1258 1261 1263 1265 1267\n",
      "[586] 1271 1276 1283 1284 1285 1287 1288 1290 1291 1293 1294 1299 1301 1302 1304\n",
      "[601] 1307 1308 1309 1311 1316 1317 1318 1319 1321 1326 1332 1334 1336 1338 1341\n",
      "[616] 1343 1345 1346 1348 1357 1364 1365 1366 1368 1369 1372 1374 1383 1387 1389\n"
     ]
    }
   ],
   "source": [
    "# Remove low variance variables\n",
    "low_variance <- nearZeroVar(X, uniqueCut=.1)\n",
    "print(low_variance)"
   ]
  },
  {
   "cell_type": "code",
   "execution_count": 31,
   "metadata": {},
   "outputs": [
    {
     "data": {
      "text/html": [
       "630"
      ],
      "text/latex": [
       "630"
      ],
      "text/markdown": [
       "630"
      ],
      "text/plain": [
       "[1] 630"
      ]
     },
     "metadata": {},
     "output_type": "display_data"
    }
   ],
   "source": [
    "length(low_variance)"
   ]
  },
  {
   "cell_type": "code",
   "execution_count": 32,
   "metadata": {},
   "outputs": [
    {
     "data": {
      "text/html": [
       "764"
      ],
      "text/latex": [
       "764"
      ],
      "text/markdown": [
       "764"
      ],
      "text/plain": [
       "[1] 764"
      ]
     },
     "metadata": {},
     "output_type": "display_data"
    }
   ],
   "source": [
    "X <- X[,-low_variance]\n",
    "ncol(X)"
   ]
  },
  {
   "cell_type": "code",
   "execution_count": null,
   "metadata": {},
   "outputs": [],
   "source": []
  },
  {
   "cell_type": "markdown",
   "metadata": {},
   "source": [
    "### Random Forest\n",
    "\n",
    "**TEMPLATE FOR MODELING**\n",
    "\n",
    "Using the `ranger`  package, a faster and more modern implementation of random forests\n",
    "\n",
    "Maximize for ROC:"
   ]
  },
  {
   "cell_type": "code",
   "execution_count": null,
   "metadata": {},
   "outputs": [
    {
     "name": "stderr",
     "output_type": "stream",
     "text": [
      "Warning message:\n",
      "\"predictions failed for Fold1.Rep1: mtry= 9, splitrule=gini, min.node.size=1 Error : cannot allocate vector of size 59 Kb\n",
      "\"\n"
     ]
    },
    {
     "name": "stdout",
     "output_type": "stream",
     "text": [
      "Growing trees.. Progress: 43%. Estimated remaining time: 41 seconds.\n",
      "Growing trees.. Progress: 79%. Estimated remaining time: 16 seconds.\n"
     ]
    },
    {
     "name": "stderr",
     "output_type": "stream",
     "text": [
      "Warning message:\n",
      "\"predictions failed for Fold1.Rep1: mtry=20, splitrule=gini, min.node.size=1 Error : cannot allocate vector of size 464.1 Mb\n",
      "\"\n"
     ]
    }
   ],
   "source": [
    "ctrl <- trainControl(method='repeatedcv',\n",
    "                     number=2,  # number of folds for each run: change this for final run\n",
    "                     repeats=1,  # number of times to repeat CV: change this for final run\n",
    "                     classProbs=TRUE,\n",
    "                     savePredictions=TRUE,\n",
    "                     summaryFunction = twoClassSummary)\n",
    "\n",
    "# good guesses for mtry are sqrt(p) and log2(p)\n",
    "tunegrid <- expand.grid(mtry=c(9, 20),\n",
    "                        splitrule=c('gini'),\n",
    "                        min.node.size=c(1, 5))\n",
    " \n",
    "set.seed(1804)\n",
    "m0 <- train(y ~ .,\n",
    "            data=X, \n",
    "            tuneGrid=tunegrid,\n",
    "            method='ranger',\n",
    "            num.trees=1000,\n",
    "            importance='impurity',\n",
    "            trControl=ctrl,\n",
    "            metric='ROC')\n",
    "\n",
    "print(m0)\n",
    "\n"
   ]
  },
  {
   "cell_type": "code",
   "execution_count": null,
   "metadata": {},
   "outputs": [],
   "source": [
    "print(m0)"
   ]
  },
  {
   "cell_type": "code",
   "execution_count": null,
   "metadata": {},
   "outputs": [],
   "source": [
    "# shows the performance on each repetition of the modeling proess\n",
    "# can get mean performance, std dev of each performance, or plot\n",
    "# a histogram, giving complete overview of performance on multiple\n",
    "# slices and dices of the training dataset\n",
    "head(m0$resample)\n",
    "\n",
    "# Averaged cross-validation scores, most representative of performance\n",
    "mean(m0$resample$ROC); mean(m0$resample$Sens); mean(m0$resample$Spec)"
   ]
  },
  {
   "cell_type": "code",
   "execution_count": null,
   "metadata": {},
   "outputs": [],
   "source": [
    "varImp(m0)"
   ]
  },
  {
   "cell_type": "code",
   "execution_count": null,
   "metadata": {},
   "outputs": [],
   "source": [
    "# This is a conveniant way to visualize 'direct probabilities' from the raw data,\n",
    "# (NOT the model)\n",
    "\n",
    "Y <- X %>%\n",
    "  mutate(yy = if_else(y == 'fake', TRUE, FALSE))  # has to be a factor for Hmisc\n",
    "\n",
    "library(Hmisc)\n",
    "ggplot(Y, aes(x=and, y=yy )) +\n",
    "histSpikeg(yy ~ and, lowess=TRUE, data=Y)"
   ]
  },
  {
   "cell_type": "code",
   "execution_count": null,
   "metadata": {},
   "outputs": [],
   "source": [
    "tokens <- df_train %>%\n",
    "  select(y, title) %>%\n",
    "  unique() %>% \n",
    "  unnest_tokens(word, title, drop=FALSE) %>% \n",
    "  filter(!word %in% stop_words$word)\n",
    "\n",
    "\n",
    "tokens2 <- df_train %>%\n",
    "  select(y, title) %>%\n",
    "  unique() %>% \n",
    "  mutate(title2 = title) %>% \n",
    "  unnest_tokens(output = bigram, input = title2, token = \"ngrams\", n = 2) %>% \n",
    "  separate(bigram, c(\"word1\", \"word2\"), sep = \" \") %>% \n",
    "  filter(!word1 %in% stop_words$word) %>%\n",
    "  filter(!word2 %in% stop_words$word) %>% \n",
    "  unite(word, word1, word2, sep = \" \") %>% \n",
    "  filter(!word == \"NA NA\")\n",
    "\n",
    "tokens3 <- df_train %>%\n",
    "  select(y, title) %>%\n",
    "  unique() %>% \n",
    "  mutate(title2 = title) %>% \n",
    "  unnest_tokens(output = trigram, input = title2, token = \"ngrams\", n = 3) %>% \n",
    "  separate(trigram, c(\"word1\", \"word2\", \"word3\"), sep = \" \") %>% \n",
    "  filter(!word1 %in% stop_words$word) %>%\n",
    "  filter(!word2 %in% stop_words$word) %>% \n",
    "  filter(!word3 %in% stop_words$word) %>%\n",
    "  unite(word, word1, word2, word3, sep = \" \") %>% \n",
    "  filter(!word == \"NA NA NA\")\n",
    "\n",
    "words <- rbind(tokens, tokens2, tokens3)\n",
    "\n",
    "token_count <- words %>%\n",
    "  mutate(stemmed = stem_words(word))%>%\n",
    "  mutate(lemma = lemmatize_words(stemmed)) %>% \n",
    "  count(title, y, lemma, sort=TRUE) %>%\n",
    "  ungroup() %>% \n",
    "  group_by(title, y) %>%\n",
    "  summarise(total = sum(n), .groups='keep') %>% \n",
    "  bind_tf_idf(lemma, title, n)\n",
    "\n",
    "tc <- token_count %>%\n",
    "  group_by(lemma) %>%\n",
    "  summarise(n=sum(n), .groups='keep') %>%\n",
    "  filter(n > 10)\n",
    "\n",
    "token_count <- token_count %>%\n",
    "  filter(lemma %in% tc$lemma)\n",
    "\n",
    "df_test_X <- token_count %>%\n",
    "  select(title, y, lemma, tf_idf) %>% \n",
    "  filter(lemma != 'title',\n",
    "         lemma != 'y') %>%  # remove because I'm already using 'title' and 'y'\n",
    "  unique() %>%  \n",
    "  tidyr::spread(lemma, tf_idf) %>%\n",
    "  janitor::clean_names() %>%  # VERY HANDY FUNCTION!\n",
    "  replace(is.na(.), 0) %>%\n",
    "  select(!contains('_2'))\n",
    "\n",
    "pred_m0 <- m0  %>% predict(df_test_X)\n",
    "\n",
    "#df_test$pred <- pred_m0\n",
    "\n",
    "print(data.frame(\n",
    "  RMSE = caret::RMSE(pred_m0, df_test$y),\n",
    "  Rsquare = caret::R2(pred_m0, df_test$y))"
   ]
  }
 ],
 "metadata": {
  "kernelspec": {
   "display_name": "R",
   "language": "R",
   "name": "ir"
  },
  "language_info": {
   "codemirror_mode": "r",
   "file_extension": ".r",
   "mimetype": "text/x-r-source",
   "name": "R",
   "pygments_lexer": "r",
   "version": "3.6.1"
  }
 },
 "nbformat": 4,
 "nbformat_minor": 2
}
